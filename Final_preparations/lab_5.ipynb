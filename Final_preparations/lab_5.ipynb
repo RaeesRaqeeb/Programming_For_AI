{
 "cells": [
  {
   "cell_type": "code",
   "execution_count": 2,
   "metadata": {},
   "outputs": [
    {
     "name": "stdout",
     "output_type": "stream",
     "text": [
      "{'value': 1, 'valu2': 2}\n",
      "('value', 1)\n",
      "('valu2', 2)\n"
     ]
    }
   ],
   "source": [
    "my_diction={'value':1,'valu2':2}\n",
    "\n",
    "print(my_diction)\n",
    "\n",
    "for i in my_diction.items():\n",
    "    print(i)"
   ]
  },
  {
   "cell_type": "code",
   "execution_count": 8,
   "metadata": {},
   "outputs": [
    {
     "name": "stdout",
     "output_type": "stream",
     "text": [
      "{'value': 1, 'valu2': 2, 'name': 1, 'roll number': 3}\n"
     ]
    }
   ],
   "source": [
    "second_diction={\"name\":1,\"roll number\":3}\n",
    "my_diction.update(second_diction)\n",
    "print(my_diction)"
   ]
  },
  {
   "cell_type": "code",
   "execution_count": 9,
   "metadata": {},
   "outputs": [
    {
     "data": {
      "text/plain": [
       "{'roll number': 3}"
      ]
     },
     "execution_count": 9,
     "metadata": {},
     "output_type": "execute_result"
    }
   ],
   "source": [
    "my_list=[1,2,3]\n",
    "\n",
    "del(my_list[0])\n",
    "my_list\n",
    "del(second_diction[\"name\"])\n",
    "second_diction"
   ]
  },
  {
   "cell_type": "code",
   "execution_count": 12,
   "metadata": {},
   "outputs": [],
   "source": [
    "#file handling\n",
    "# import os \n",
    "\n",
    "file_path=\"story.txt\"\n",
    "file=open(file_path,'w')\n",
    "file.write(\"My name is khan\")\n",
    "file.close()"
   ]
  },
  {
   "cell_type": "code",
   "execution_count": null,
   "metadata": {},
   "outputs": [
    {
     "data": {
      "text/plain": [
       "'My name is khan'"
      ]
     },
     "execution_count": 15,
     "metadata": {},
     "output_type": "execute_result"
    }
   ],
   "source": [
    "with open(file_path,'r') as i:\n",
    "    data=i.read()\n",
    "    \n",
    "\n",
    "data"
   ]
  },
  {
   "cell_type": "code",
   "execution_count": null,
   "metadata": {},
   "outputs": [
    {
     "ename": "TypeError",
     "evalue": "load() takes 1 positional argument but 2 were given",
     "output_type": "error",
     "traceback": [
      "\u001b[0;31m---------------------------------------------------------------------------\u001b[0m",
      "\u001b[0;31mTypeError\u001b[0m                                 Traceback (most recent call last)",
      "Cell \u001b[0;32mIn[20], line 18\u001b[0m\n\u001b[1;32m     16\u001b[0m current_path\u001b[38;5;241m=\u001b[39mos\u001b[38;5;241m.\u001b[39mgetcwd()\n\u001b[1;32m     17\u001b[0m \u001b[38;5;28;01mwith\u001b[39;00m \u001b[38;5;28mopen\u001b[39m(os\u001b[38;5;241m.\u001b[39mpath\u001b[38;5;241m.\u001b[39mjoin(current_path,\u001b[38;5;124m'\u001b[39m\u001b[38;5;124mNew_file.txt\u001b[39m\u001b[38;5;124m'\u001b[39m),\u001b[38;5;124m'\u001b[39m\u001b[38;5;124mw\u001b[39m\u001b[38;5;124m'\u001b[39m) \u001b[38;5;28;01mas\u001b[39;00m file:\n\u001b[0;32m---> 18\u001b[0m     json\u001b[38;5;241m.\u001b[39mload(data,file)\n",
      "\u001b[0;31mTypeError\u001b[0m: load() takes 1 positional argument but 2 were given"
     ]
    }
   ],
   "source": [
    "#Json file handling\n",
    "import os\n",
    "import json\n",
    "data= {\n",
    "\"name\": \"John Doe\",\n",
    "\"age\": 30,\n",
    "\"is_employee\": True,\n",
    "\"grades\": [95, 89, 92],\n",
    "\"address\": {\n",
    "\"street\": \"123 Main St\",\n",
    "\"city\": \"New York\"\n",
    "},\n",
    "\"is_active\": False\n",
    "}\n",
    "\n",
    "current_path=os.getcwd()\n",
    "with open(os.path.join(current_path,'New_file.txt'),'w') as file:\n",
    "    json.dump(data,file)\n",
    "    "
   ]
  },
  {
   "cell_type": "code",
   "execution_count": null,
   "metadata": {},
   "outputs": [],
   "source": []
  }
 ],
 "metadata": {
  "kernelspec": {
   "display_name": "base",
   "language": "python",
   "name": "python3"
  },
  "language_info": {
   "codemirror_mode": {
    "name": "ipython",
    "version": 3
   },
   "file_extension": ".py",
   "mimetype": "text/x-python",
   "name": "python",
   "nbconvert_exporter": "python",
   "pygments_lexer": "ipython3",
   "version": "3.12.2"
  }
 },
 "nbformat": 4,
 "nbformat_minor": 2
}
