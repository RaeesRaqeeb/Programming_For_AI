{
 "cells": [
  {
   "cell_type": "code",
   "execution_count": null,
   "metadata": {},
   "outputs": [
    {
     "name": "stdout",
     "output_type": "stream",
     "text": [
      "Contents\n",
      "History\n",
      "Design philosophy and features\n",
      "Syntax and semantics\n",
      "Programming examples\n",
      "Libraries\n",
      "Development environments\n",
      "Implementations\n",
      "Development\n",
      "API documentation generators\n",
      "Naming\n",
      "Popularity\n",
      "Uses\n",
      "Languages influenced by Python\n",
      "See also\n",
      "References\n",
      "Further reading\n",
      "External links\n"
     ]
    }
   ],
   "source": [
    "# Install the beautifulsoup4 package\n",
    "# %pip install beautifulsoup4\n",
    "\n",
    "from bs4 import BeautifulSoup\n",
    "import requests\n",
    "\n",
    "url = \"https://en.wikipedia.org/wiki/Python_(programming_language)\"\n",
    "\n",
    "response = requests.get(url)\n",
    "\n",
    "if response.status_code == 200:\n",
    "\tcontent = response.content\n",
    "\thtml_parse = BeautifulSoup(content, 'html.parser')\n",
    " \n",
    "\t# Check the class name and update it if necessary\n",
    "\tall_heading = html_parse.findAll(\"h2\")\n",
    "\tif all_heading:\n",
    "\t\tfor i in all_heading:\n",
    "\t\t\tprint(i.text)\n",
    "\telse:\n",
    "\t\tprint(\"No links found with the specified class name.\")\n",
    "else:\n",
    "\tprint(f\"Failed to retrieve the webpage. Status code: {response.status_code}\")\n",
    "\n"
   ]
  },
  {
   "cell_type": "code",
   "execution_count": 57,
   "metadata": {},
   "outputs": [
    {
     "name": "stdout",
     "output_type": "stream",
     "text": [
      "//upload.wikimedia.org/wikipedia/commons/thumb/c/c3/Python-logo-notext.svg/121px-Python-logo-notext.svg.png\n",
      "//upload.wikimedia.org/wikipedia/en/thumb/8/8a/OOjs_UI_icon_edit-ltr-progressive.svg/10px-OOjs_UI_icon_edit-ltr-progressive.svg.png\n",
      "//upload.wikimedia.org/wikipedia/commons/thumb/d/df/Wikibooks-logo-en-noslogan.svg/16px-Wikibooks-logo-en-noslogan.svg.png\n"
     ]
    }
   ],
   "source": [
    "#getting all the links from the table\n",
    "\n",
    "table=html_parse.find('table',{'class':'infobox vevent'})\n",
    "links=table.findAll('img')\n",
    "for i in links:\n",
    "    print(i.get('src'))\n",
    "\n"
   ]
  },
  {
   "cell_type": "code",
   "execution_count": 58,
   "metadata": {},
   "outputs": [],
   "source": [
    "from bs4 import BeautifulSoup\n",
    "\n",
    "html = '''\n",
    "<div id=\"article\">\n",
    "<header>\n",
    "<h1>Understanding Data Science</h1>\n",
    "<h2>What is Data Science?\n",
    "<h3>How does it work?</h3>\n",
    "</h2>\n",
    "</header>\n",
    "<section class=\"content\">\n",
    "<div class=\"intro\">\n",
    "<p>Data Science is a multidisciplinary field.</p>\n",
    "<p>It involves statistics, programming, and domain expertise.</p>\n",
    "</div>\n",
    "<div class=\"details\">\n",
    "<h3>Applications of Data Science</h3>\n",
    "<p>Data Science is used in industries like healthcare, finance, and technology.</p>\n",
    "</div>\n",
    "<div class=\"highlight\">\n",
    "<h3>Why is Data Science Important?</h3>\n",
    "<p class=\"highlight\">It helps in making data-driven decisions.</p>\n",
    "</div>\n",
    "<footer>\n",
    "<p>Learn more about <a href=\"https://datascience.com\">Data Science</a>.</p>\n",
    "</footer>\n",
    "</section>\n",
    "</div> '''\n",
    "\n",
    "# Parse the HTML content\n",
    "soup = BeautifulSoup(html, 'html.parser')"
   ]
  },
  {
   "cell_type": "code",
   "execution_count": 59,
   "metadata": {},
   "outputs": [
    {
     "name": "stdout",
     "output_type": "stream",
     "text": [
      "How does it work?\n",
      "Applications of Data Science\n",
      "Why is Data Science Important?\n"
     ]
    }
   ],
   "source": [
    "tag1=soup.findAll('h3')\n",
    "for tag in tag1:\n",
    "    print(tag.text)"
   ]
  },
  {
   "cell_type": "code",
   "execution_count": 60,
   "metadata": {},
   "outputs": [
    {
     "name": "stdout",
     "output_type": "stream",
     "text": [
      "How does it work?\n"
     ]
    }
   ],
   "source": [
    "tag2 = soup.select('h2 h3')\n",
    "for tag in tag2:\n",
    "    print(tag.text)"
   ]
  },
  {
   "cell_type": "code",
   "execution_count": 63,
   "metadata": {},
   "outputs": [],
   "source": [
    "import xml.etree.ElementTree as ET\n",
    "root = ET.Element(\"root\")\n",
    "child1 = ET.SubElement(root, \"child1\")\n",
    "child1.set(\"attribute\", \"value1\")\n",
    "child1.text = \"This is child 1\"\n",
    "child2 = ET.SubElement(root, \"child2\")\n",
    "child2.set(\"attribute\", \"value2\")\n",
    "child2.text = \"This is child 2\"\n",
    "tree = ET.ElementTree(root)\n",
    "tree.write(\"out.xml\",encoding=\"utf-8\",xml_declaration=True)"
   ]
  },
  {
   "cell_type": "code",
   "execution_count": null,
   "metadata": {},
   "outputs": [
    {
     "data": {
      "text/plain": [
       "array([[[1, 1, 1, 1],\n",
       "        [1, 1, 1, 1],\n",
       "        [1, 1, 1, 1]],\n",
       "\n",
       "       [[1, 1, 1, 1],\n",
       "        [1, 1, 1, 1],\n",
       "        [1, 1, 1, 1]]])"
      ]
     },
     "execution_count": 64,
     "metadata": {},
     "output_type": "execute_result"
    }
   ],
   "source": [
    "import numpy as np\n",
    "\n",
    "\n",
    "\n",
    "np.ones((2,3,4),dtype=int)\n",
    "\n",
    "\n"
   ]
  },
  {
   "cell_type": "code",
   "execution_count": 2,
   "metadata": {},
   "outputs": [],
   "source": [
    "from pdfminer.high_level import extract_text"
   ]
  },
  {
   "cell_type": "code",
   "execution_count": 3,
   "metadata": {},
   "outputs": [],
   "source": [
    "import re \n"
   ]
  },
  {
   "cell_type": "code",
   "execution_count": null,
   "metadata": {},
   "outputs": [],
   "source": []
  }
 ],
 "metadata": {
  "kernelspec": {
   "display_name": ".venv",
   "language": "python",
   "name": "python3"
  },
  "language_info": {
   "codemirror_mode": {
    "name": "ipython",
    "version": 3
   },
   "file_extension": ".py",
   "mimetype": "text/x-python",
   "name": "python",
   "nbconvert_exporter": "python",
   "pygments_lexer": "ipython3",
   "version": "3.13.0"
  }
 },
 "nbformat": 4,
 "nbformat_minor": 2
}
