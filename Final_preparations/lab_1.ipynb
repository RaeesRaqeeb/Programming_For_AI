{
 "cells": [
  {
   "cell_type": "code",
   "execution_count": 4,
   "metadata": {},
   "outputs": [
    {
     "data": {
      "text/plain": [
       "2.0"
      ]
     },
     "execution_count": 4,
     "metadata": {},
     "output_type": "execute_result"
    }
   ],
   "source": [
    "44.33//22"
   ]
  },
  {
   "cell_type": "code",
   "execution_count": 6,
   "metadata": {},
   "outputs": [
    {
     "name": "stdout",
     "output_type": "stream",
     "text": [
      "false\n"
     ]
    }
   ],
   "source": [
    "a=10\n",
    "b=11\n",
    "\n",
    "if a is b:\n",
    "    print(\"true\")\n",
    "else:\n",
    "    print(\"false\")"
   ]
  },
  {
   "cell_type": "code",
   "execution_count": 8,
   "metadata": {},
   "outputs": [
    {
     "name": "stdout",
     "output_type": "stream",
     "text": [
      "true\n",
      "true\n"
     ]
    }
   ],
   "source": [
    "A=1\n",
    "B=2\n",
    "C=3\n",
    "\n",
    "if A < B & B < C:\n",
    "    print(\"true\")\n",
    "else:\n",
    "    print(\"false\")\n",
    "    \n",
    "    \n",
    "if A < B and B < C:\n",
    "    print(\"true\")\n",
    "else:\n",
    "    print(\"false\")"
   ]
  },
  {
   "cell_type": "code",
   "execution_count": 11,
   "metadata": {},
   "outputs": [
    {
     "name": "stdout",
     "output_type": "stream",
     "text": [
      "4\n",
      "5\n",
      "1\n",
      "-5\n"
     ]
    }
   ],
   "source": [
    "a=4\n",
    "b=5\n",
    "# Bitwise AND\n",
    "result = a & b  # Binary: 0001 (Decimal: 1)\n",
    "print(result)\n",
    "# Bitwise OR\n",
    "result = a | b  # Binary: 0111 (Decimal: 7)\n",
    "print(result)\n",
    "\n",
    "# Bitwise XOR\n",
    "result = a ^ b  # Binary: 0110 (Decimal: 6)\n",
    "print(result)\n",
    "\n",
    "# Bitwise NOT\n",
    "result = ~a  # Binary: 1010 (Decimal: -6\n",
    "print(result)\n",
    "\n"
   ]
  },
  {
   "cell_type": "code",
   "execution_count": 12,
   "metadata": {},
   "outputs": [
    {
     "name": "stdout",
     "output_type": "stream",
     "text": [
      "35\n",
      "8.682674610542545\n",
      "0.7111870827158465\n"
     ]
    },
    {
     "data": {
      "text/plain": [
       "87"
      ]
     },
     "execution_count": 12,
     "metadata": {},
     "output_type": "execute_result"
    }
   ],
   "source": [
    "#random functions\n",
    "import random\n",
    "\n",
    "value=random.randint(1,100)\n",
    "print(value)\n",
    "value2=random.uniform(1,10)\n",
    "print(value2)\n",
    "value2=random.random()\n",
    "print(value2)\n",
    "my_list=[1,2,3,4]\n",
    "value2=random.choices(my_list)\n",
    "value2=random.randrange(1,100)\n",
    "\n",
    "value2\n"
   ]
  },
  {
   "cell_type": "code",
   "execution_count": null,
   "metadata": {},
   "outputs": [],
   "source": []
  }
 ],
 "metadata": {
  "kernelspec": {
   "display_name": "base",
   "language": "python",
   "name": "python3"
  },
  "language_info": {
   "codemirror_mode": {
    "name": "ipython",
    "version": 3
   },
   "file_extension": ".py",
   "mimetype": "text/x-python",
   "name": "python",
   "nbconvert_exporter": "python",
   "pygments_lexer": "ipython3",
   "version": "3.12.2"
  }
 },
 "nbformat": 4,
 "nbformat_minor": 2
}
