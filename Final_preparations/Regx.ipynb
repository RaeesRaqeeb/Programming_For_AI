{
 "cells": [
  {
   "cell_type": "code",
   "execution_count": 3,
   "metadata": {},
   "outputs": [],
   "source": [
    "import re"
   ]
  },
  {
   "cell_type": "code",
   "execution_count": 4,
   "metadata": {},
   "outputs": [],
   "source": [
    "paragraph=\"\"\"Other sites fall into categories such as tourism, job boards, and search engines. People of all industries are taking advantage of the web scraping technique to exploit data value to serve their interests.\n",
    "\n",
    "Let’s get to the Top 10 list directly and check out which websites were most scraped and how they are helpful for our data collectors. Also, you can try the online data scraping templates it provides by entering a few keywords only.\"\"\"\n",
    "\n",
    "searching_value=re.search('g.t', paragraph)\n"
   ]
  },
  {
   "cell_type": "code",
   "execution_count": 5,
   "metadata": {},
   "outputs": [
    {
     "data": {
      "text/plain": [
       "['get']"
      ]
     },
     "execution_count": 5,
     "metadata": {},
     "output_type": "execute_result"
    }
   ],
   "source": [
    "matches = [x for x in paragraph.split() if re.search(\"g.t\", x)]\n",
    "matches"
   ]
  },
  {
   "cell_type": "code",
   "execution_count": 6,
   "metadata": {},
   "outputs": [
    {
     "name": "stdout",
     "output_type": "stream",
     "text": [
      "['Mon']\n",
      "['key']\n",
      "['Mon', 'key']\n",
      "Monkey\n"
     ]
    }
   ],
   "source": [
    "var=\"Money making machine\"\n",
    "var2=\"I lost my key\"\n",
    "matches=re.findall(\"^Mon\",var)\n",
    "match2=re.findall(\"key\",var2)\n",
    "print(matches)\n",
    "print(match2)\n",
    "concatmatch = matches + match2 #will return a list\n",
    "print(concatmatch)\n",
    "concatmatch = \"\".join(matches) + \"\".join(match2) #join() converts lists into strings\n",
    "\n",
    "print(concatmatch)"
   ]
  },
  {
   "cell_type": "code",
   "execution_count": 7,
   "metadata": {},
   "outputs": [
    {
     "name": "stdout",
     "output_type": "stream",
     "text": [
      "[]\n"
     ]
    }
   ],
   "source": [
    "var=\"A quick brown fox jumps jumps asdfsd\"\n",
    "matches=re.findall(\"jumps$\",var)\n",
    "print(matches)"
   ]
  },
  {
   "cell_type": "code",
   "execution_count": 8,
   "metadata": {},
   "outputs": [
    {
     "name": "stdout",
     "output_type": "stream",
     "text": [
      "['ssi', 'ssi', 'i', 'i', 'i', 'i', 'si', 'i']\n"
     ]
    }
   ],
   "source": [
    "# * metacharacter\n",
    "\n",
    "var=\"There once was a ssip dssiiithat put to sea and the i name of ippp that sip was the Billy o' Tea\"\n",
    "matches=re.findall(\"s*i\",var)\n",
    "print(matches)"
   ]
  },
  {
   "cell_type": "code",
   "execution_count": 9,
   "metadata": {},
   "outputs": [
    {
     "name": "stdout",
     "output_type": "stream",
     "text": [
      "['si', 'sssi', 'si']\n"
     ]
    },
    {
     "data": {
      "text/plain": [
       "['ap', 'p', 'p', 'p', 'ap', 'p', 'p', 'p', 'p', 'p']"
      ]
     },
     "execution_count": 9,
     "metadata": {},
     "output_type": "execute_result"
    }
   ],
   "source": [
    "var=\"There once was aaapppp ap  sipip sssip siiiithat put to sea and the name of that ship was the Billy o' Tea\"\n",
    "matches=re.findall(\"s+i\",var)\n",
    "print(matches)\n",
    "\n",
    "matches=re.findall(\"a?p\",var)\n",
    "matches"
   ]
  },
  {
   "cell_type": "code",
   "execution_count": 10,
   "metadata": {},
   "outputs": [
    {
     "name": "stderr",
     "output_type": "stream",
     "text": [
      "<>:3: SyntaxWarning: invalid escape sequence '\\!'\n",
      "<>:3: SyntaxWarning: invalid escape sequence '\\!'\n",
      "/tmp/ipykernel_4571/680815534.py:3: SyntaxWarning: invalid escape sequence '\\!'\n",
      "  special_char=re.findall(\"\\!\",special_characters)\n"
     ]
    },
    {
     "data": {
      "text/plain": [
       "['!', '!']"
      ]
     },
     "execution_count": 10,
     "metadata": {},
     "output_type": "execute_result"
    }
   ],
   "source": [
    "special_characters='these are! special! characters#'\n",
    "\n",
    "special_char=re.findall(\"\\!\",special_characters)\n",
    "special_char"
   ]
  },
  {
   "cell_type": "code",
   "execution_count": 11,
   "metadata": {},
   "outputs": [
    {
     "data": {
      "text/plain": [
       "[' ', ' ', ' ', ' ', ' ', ' ', ' ']"
      ]
     },
     "execution_count": 11,
     "metadata": {},
     "output_type": "execute_result"
    }
   ],
   "source": [
    "square_brackets=\"Will match this and this is th t\"\n",
    "pattern=r\"\\s\"\n",
    "matches=re.findall(pattern,square_brackets)\n",
    "matches"
   ]
  },
  {
   "cell_type": "code",
   "execution_count": null,
   "metadata": {},
   "outputs": [],
   "source": [
    "testing=[\"pass@gmail.com\",'Passsword@gmail.com']\n",
    "pattern=r\"([A-Za-z])+\\@[gamil.com]\"\n",
    "matcher=[x for x in testing if re.match(pattern,x)]\n",
    "matcher\n",
    "name=input(\"enter your name\")\n",
    "pattern2=r\"[a-zA-Z]{8}\"\n",
    "matcher2=re.match(pattern2,name)\n",
    "matcher2.string"
   ]
  },
  {
   "cell_type": "code",
   "execution_count": null,
   "metadata": {},
   "outputs": [],
   "source": [
    "import re\n",
    "import re\n",
    "import re\n",
    "import re\n",
    "import re\n",
    "\n",
    "Sure, here are some examples to explain how to use regex in Python:\n",
    "\n",
    "1. **Finding all matches in a string:**\n",
    "    ```python\n",
    "\n",
    "    text = \"The rain in Spain stays mainly in the plain.\"\n",
    "    pattern = r\"\\bin\\b\"\n",
    "    matches = re.findall(pattern, text)\n",
    "    print(matches)  # Output: ['in', 'in']\n",
    "    ```\n",
    "\n",
    "2. **Searching for a pattern in a string:**\n",
    "    ```python\n",
    "\n",
    "    text = \"The rain in Spain stays mainly in the plain.\"\n",
    "    pattern = r\"Spain\"\n",
    "    match = re.search(pattern, text)\n",
    "    if match:\n",
    "         print(f\"Found '{match.group()}' at position {match.start()}\")  # Output: Found 'Spain' at position 12\n",
    "    ```\n",
    "\n",
    "3. **Replacing a pattern in a string:**\n",
    "    ```python\n",
    "\n",
    "    text = \"The rain in Spain stays mainly in the plain.\"\n",
    "    pattern = r\"Spain\"\n",
    "    new_text = re.sub(pattern, \"France\", text)\n",
    "    print(new_text)  # Output: The rain in France stays mainly in the plain.\n",
    "    ```\n",
    "\n",
    "4. **Splitting a string by a pattern:**\n",
    "    ```python\n",
    "\n",
    "    text = \"The rain in Spain stays mainly in the plain.\"\n",
    "    pattern = r\"\\s\"\n",
    "    split_text = re.split(pattern, text)\n",
    "    print(split_text)  # Output: ['The', 'rain', 'in', 'Spain', 'stays', 'mainly', 'in', 'the', 'plain.']\n",
    "    ```\n",
    "\n",
    "5. **Using regex with groups:**\n",
    "    ```python\n",
    "\n",
    "    text = \"My phone number is 123-456-7890.\"\n",
    "    pattern = r\"(\\d{3})-(\\d{3})-(\\d{4})\"\n",
    "    match = re.search(pattern, text)\n",
    "    if match:\n",
    "         print(f\"Area code: {match.group(1)}\")  # Output: Area code: 123\n",
    "         print(f\"Main number: {match.group(2)}-{match.group(3)}\")  # Output: Main number: 456-7890\n",
    "    ```\n",
    "\n",
    "These examples should help you understand how to use regex in Python for various tasks."
   ]
  },
  {
   "cell_type": "code",
   "execution_count": null,
   "metadata": {},
   "outputs": [
    {
     "name": "stdout",
     "output_type": "stream",
     "text": [
      "Found a match!\n",
      "Found a match!\n",
      "Found a match!\n"
     ]
    }
   ],
   "source": [
    "# Solution\n",
    "def text_match(text):\n",
    "        patterns = 'ab*?'\n",
    "        if re.search(patterns,  text):\n",
    "                return 'Found a match!'\n",
    "        else:\n",
    "                return('Not matched!')\n",
    "\n",
    "print(text_match(\"ac\"))\n",
    "print(text_match(\"abc\"))\n",
    "print(text_match(\"abbc\"))"
   ]
  },
  {
   "cell_type": "code",
   "execution_count": 1,
   "metadata": {},
   "outputs": [
    {
     "ename": "ModuleNotFoundError",
     "evalue": "No module named 'PDFminer'",
     "output_type": "error",
     "traceback": [
      "\u001b[0;31m---------------------------------------------------------------------------\u001b[0m",
      "\u001b[0;31mModuleNotFoundError\u001b[0m                       Traceback (most recent call last)",
      "Cell \u001b[0;32mIn[1], line 2\u001b[0m\n\u001b[1;32m      1\u001b[0m \u001b[38;5;28;01mimport\u001b[39;00m \u001b[38;5;21;01mos\u001b[39;00m \n\u001b[0;32m----> 2\u001b[0m \u001b[38;5;28;01mimport\u001b[39;00m \u001b[38;5;21;01mPDFminer\u001b[39;00m\u001b[38;5;21;01m.\u001b[39;00m\u001b[38;5;21;01mhigh_level\u001b[39;00m \n",
      "\u001b[0;31mModuleNotFoundError\u001b[0m: No module named 'PDFminer'"
     ]
    }
   ],
   "source": [
    "import os \n",
    "import PDFminer.high_level "
   ]
  },
  {
   "cell_type": "code",
   "execution_count": null,
   "metadata": {},
   "outputs": [],
   "source": []
  }
 ],
 "metadata": {
  "kernelspec": {
   "display_name": "Python 3",
   "language": "python",
   "name": "python3"
  },
  "language_info": {
   "codemirror_mode": {
    "name": "ipython",
    "version": 3
   },
   "file_extension": ".py",
   "mimetype": "text/x-python",
   "name": "python",
   "nbconvert_exporter": "python",
   "pygments_lexer": "ipython3",
   "version": "3.13.0"
  }
 },
 "nbformat": 4,
 "nbformat_minor": 2
}
