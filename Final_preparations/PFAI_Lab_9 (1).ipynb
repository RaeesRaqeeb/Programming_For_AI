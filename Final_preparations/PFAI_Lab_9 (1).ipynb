{
 "cells": [
  {
   "cell_type": "markdown",
   "metadata": {
    "id": "qQuXfUH-r4be"
   },
   "source": [
    "###**Note: To work on colab we have to mount google drive**"
   ]
  },
  {
   "cell_type": "code",
   "execution_count": 2,
   "metadata": {
    "colab": {
     "base_uri": "https://localhost:8080/"
    },
    "id": "Wz3B5895sMOR",
    "outputId": "d196d7ad-ccc6-438d-e8b8-25fa0d121870"
   },
   "outputs": [
    {
     "name": "stdout",
     "output_type": "stream",
     "text": [
      "Mounted at /content/drive\n"
     ]
    }
   ],
   "source": [
    "from google.colab import drive\n",
    "drive.mount('/content/drive')"
   ]
  },
  {
   "cell_type": "markdown",
   "metadata": {
    "id": "6EfaoFOWqShV"
   },
   "source": [
    "# **1. Pandas**\n",
    "- The Pandas library is built on NumPy and provides easy-to-use\n",
    " data structures and data analysis tools for the Python programming language.\n",
    "- Python library used for working with data set\n",
    "- It has functions for analyzing, cleaning, exploring, and manipulating data.\n",
    "\n",
    "```\n",
    "import pandas as pd\n",
    "```\n",
    "\n"
   ]
  },
  {
   "cell_type": "code",
   "execution_count": 3,
   "metadata": {
    "id": "SI4ub7EN5zjw"
   },
   "outputs": [],
   "source": [
    "import pandas as pd"
   ]
  },
  {
   "cell_type": "markdown",
   "metadata": {
    "id": "B78VqGF_53zU"
   },
   "source": [
    "# **2. Pandas Basics**\n",
    "### **2.1 Series**\n",
    "- A Pandas Series(A one-dimensional labeled array\n",
    "capable of holding any data type ) is like a column in a table.\n",
    "- It is a one-dimensional array holding data of any type.\n",
    "\n",
    "![Capture.PNG](data:image/png;base64,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)\n",
    "### **Example 1:**"
   ]
  },
  {
   "cell_type": "code",
   "execution_count": 4,
   "metadata": {
    "colab": {
     "base_uri": "https://localhost:8080/"
    },
    "id": "srzPNCf658ET",
    "outputId": "318519ff-56ef-407e-b3bd-c29aa7d8f1d0"
   },
   "outputs": [
    {
     "name": "stdout",
     "output_type": "stream",
     "text": [
      "0     1\n",
      "1     2\n",
      "2     3\n",
      "3     4\n",
      "4     5\n",
      "5     6\n",
      "6     7\n",
      "7     8\n",
      "8     9\n",
      "9    10\n",
      "dtype: int64\n"
     ]
    }
   ],
   "source": [
    "range_var = range(1,11)\n",
    "pd_var = pd.Series(range_var)\n",
    "print(pd_var)"
   ]
  },
  {
   "cell_type": "markdown",
   "metadata": {
    "id": "wJvkqoax8vpo"
   },
   "source": [
    "### **2.2 Series Manipulation**\n",
    "- Series can be manipulated in number of ways such as:\n",
    "### **2.2.1. Custom Indexing**\n"
   ]
  },
  {
   "cell_type": "code",
   "execution_count": 5,
   "metadata": {
    "colab": {
     "base_uri": "https://localhost:8080/"
    },
    "id": "mvU4jKM3ALPE",
    "outputId": "605ebc75-934a-4269-a157-54ad073c2feb"
   },
   "outputs": [
    {
     "name": "stdout",
     "output_type": "stream",
     "text": [
      "Irfan      20\n",
      "Ali        21\n",
      "Taimoor    19\n",
      "dtype: int64\n"
     ]
    }
   ],
   "source": [
    "age = pd.Series([20,21,19],index=['Irfan','Ali','Taimoor'])\n",
    "print(age)\n"
   ]
  },
  {
   "cell_type": "markdown",
   "metadata": {
    "id": "vX_9ad2-BSN9"
   },
   "source": [
    "### **2.2.2. Slicing**"
   ]
  },
  {
   "cell_type": "code",
   "execution_count": 6,
   "metadata": {
    "colab": {
     "base_uri": "https://localhost:8080/"
    },
    "id": "Uo8sfesiBYg5",
    "outputId": "e4d467d1-b5ff-4fb0-8978-e8b0ebb0dce4"
   },
   "outputs": [
    {
     "name": "stdout",
     "output_type": "stream",
     "text": [
      "Ali        21\n",
      "Taimoor    19\n",
      "dtype: int64\n"
     ]
    }
   ],
   "source": [
    "print(age[1:3])"
   ]
  },
  {
   "cell_type": "markdown",
   "metadata": {
    "id": "GcKnLftPDlS4"
   },
   "source": [
    "### **2.2.3. Creating Series Using Dictionary**\n",
    "**Example**"
   ]
  },
  {
   "cell_type": "code",
   "execution_count": 7,
   "metadata": {
    "colab": {
     "base_uri": "https://localhost:8080/"
    },
    "id": "ccr2FDnnE3bB",
    "outputId": "f63e0370-dd45-4848-9570-6975660382d3"
   },
   "outputs": [
    {
     "name": "stdout",
     "output_type": "stream",
     "text": [
      "Irfan    21.0\n",
      "Ali      20.0\n",
      "Kamal    19.0\n",
      "None      NaN\n",
      "dtype: float64\n"
     ]
    }
   ],
   "source": [
    "age_dict={\"Irfan\":21, \"Ali\":20, \"Kamal\":19, None:None}\n",
    "dict_series = pd.Series(age_dict)\n",
    "print(dict_series)\n"
   ]
  },
  {
   "cell_type": "markdown",
   "metadata": {
    "id": "H_Kqp0onBgFA"
   },
   "source": [
    "### **2.3 Series Analysis**\n",
    "- Series data can be analyzed using different functions"
   ]
  },
  {
   "cell_type": "markdown",
   "metadata": {
    "id": "c3F-BQNMDBV5"
   },
   "source": [
    "**Example 1:**"
   ]
  },
  {
   "cell_type": "code",
   "execution_count": 8,
   "metadata": {
    "colab": {
     "base_uri": "https://localhost:8080/"
    },
    "id": "3TxckKLzCGiV",
    "outputId": "aecb0990-d9d7-499d-dad0-86d1cde57348"
   },
   "outputs": [
    {
     "name": "stdout",
     "output_type": "stream",
     "text": [
      "(3,) 1\n"
     ]
    }
   ],
   "source": [
    "#Shows the number of elements a series contains and the dimension\n",
    "print(age.shape,age.ndim)"
   ]
  },
  {
   "cell_type": "markdown",
   "metadata": {
    "id": "qQpo9phsDEo_"
   },
   "source": [
    "**Example 2:**\n",
    "- Understand the distribution of data using methods like value_counts() to count unique values."
   ]
  },
  {
   "cell_type": "code",
   "execution_count": 9,
   "metadata": {
    "colab": {
     "base_uri": "https://localhost:8080/"
    },
    "id": "gObxqGU1C2ba",
    "outputId": "f6936a92-bd27-4fe3-e19d-c952a6652911"
   },
   "outputs": [
    {
     "name": "stdout",
     "output_type": "stream",
     "text": [
      "20    1\n",
      "21    1\n",
      "19    1\n",
      "Name: count, dtype: int64\n"
     ]
    }
   ],
   "source": [
    "print(age.value_counts())"
   ]
  },
  {
   "cell_type": "markdown",
   "metadata": {
    "id": "Y29tWX4FSNXZ"
   },
   "source": [
    "**Example 3**: Finding mean"
   ]
  },
  {
   "cell_type": "code",
   "execution_count": 10,
   "metadata": {
    "colab": {
     "base_uri": "https://localhost:8080/"
    },
    "id": "P4t8lyyeSM5A",
    "outputId": "8ead2938-4d14-4172-82b8-475b09af5ef8"
   },
   "outputs": [
    {
     "data": {
      "text/plain": [
       "20.0"
      ]
     },
     "execution_count": 10,
     "metadata": {},
     "output_type": "execute_result"
    }
   ],
   "source": [
    "age.mean()"
   ]
  },
  {
   "cell_type": "markdown",
   "metadata": {
    "id": "BjnfNAaT1Y7k"
   },
   "source": [
    "# **3. Data Frame**\n",
    "- A DataFrame in Pandas is a two-dimensional, size-mutable, and potentially heterogeneous tabular data structure with labeled axes (rows and columns).\n",
    "- It is similar to a spreadsheet or SQL table, and it is the most commonly used data structure in Pandas for data manipulation and analysis.\n",
    "\n",
    "![Screenshot from 2024-10-22 09-45-49.png](data:image/png;base64,iVBORw0KGgoAAAANSUhEUgAAAcMAAADuCAYAAABFw2yCAAAABHNCSVQICAgIfAhkiAAAABl0RVh0U29mdHdhcmUAZ25vbWUtc2NyZWVuc2hvdO8Dvz4AAAA1aVRYdENyZWF0aW9uIFRpbWUAAAAAANmIIDA5OjQ1OjQ4INiqIDIyINin2qnYqtmI2KjYsSAyMDI0oCetUAAAIABJREFUeJzsnWdYVEcXgN8Fli6oFCl2VEBcUFGw995jiT2x99h7L7HHxBpj770l9t4VC3YsWMCCAgJKb7vsfD+QKytgiRiTz/s+Dw+7c2fOnCl3z52ZM3cUwUGPhJ1jYWRkZGRkZL5V9L62AjIyMjIyMl8b2RjKyMjIyHzzyMZQRkZGRuabRzaGMjIyMjLfPF/cGK7d+hezFqxArVZ/6az+ER4EPGHm/OWs3LgTgNi4eKo2/YECpWpy6erNr6zdxxHxKhLvuq0pUrYut/0ffhUdXr2OYub85fyyaGWWcWJi45g5fzn+DwM/Sfap85dZtGLj56oIwN7DJ1mz5c9skbVp5z527D38WTKePQ9h5vzlhLwMzxadZGRkUvmixjA4NIyeQyYydvo89h05/VFpEhOTGDJhFkMmzCIhIfFLqve38H8YyLgZ8/l9ZeqP7Q2/e/hcvk5waBg79x39ytp9HD6+17l26y5Pnwez99DJr6JDxOtIxs2Yz8TZi7KMEx0Ty7gZ87l7P+CTZB85dZ6ZC5Z/rooA7Nx7hMWrNmeLrFWbdrFxx77PkvE06AXjZswnODTsk9K9joxmzLS53Ln/6LPy/1hWbNjB+u17/pG80rN8/XY27Nj7j+cr89/nixrDtVv+AqBQ/rys2LDjo9Ikq9UsWLaeBcvWk/wfGE2WKVmCFo3qUNq9OD+2afa11fkoqlX0okGtKnh7utOmeYOvrY7MP0B0bCyzF67kUeDTfyS/LX8eYNdXeDjcvGs/f+7/bzyUyvy7MPhSgrVaLSs37qRRnapUq+DFoHEzeBL0ggJ5HbJMEx0Ty9Wbd6Tv127dxdIiB3kd8vDk2QtymJvhXKQQAEIIrt68gxCCkiVcMDBILUrAkyBevY7Ewc4WBztbAOLjE7h07RZqtQZV8WLY2Vp/dDmEEFy5cZuI15F4l3bPcN3IyJDhP3UlJSWF/I52AISGRfDseTCWFjkomM8BH98bqNUaKpfzxNBQiVar5YLvDeITEqnoVQoTE+MMch8/e47/w0AszM3xKq1CX19fp15SUlJwLVaY+IRErty4TaH8eaW6SUOtVnPhSmo+XqXcyZXTAgBzM1PGDemNEII81lY6aSKjot/UK5RSuZI7l6V07XVkNI8eP8XExJjixZy4dusuYRGvqORdGjNTUx05KSkpXPC9QVx8AuXLliQxKSlDG/5dgkPDuHnHn5wWOShbSkVYxGuePQ/G08MNhUKRaVzr3Lko7V48w3WAwKdB3H/0ONO6zoq7DwJ48uw5ttZWlFK5Zir33oNAHj8LomjhgjgVzPe3yhofn8CFKzfQ09OjfJmSWcYLfBqE/8NA7Gxt8HBzJuhFKK8io958DuHmbX8AHgY+xfe6HzbWuaV7Ma0/xsTFUUrliq21FVdv3sHO1lq6hzIjLj4en8s3UCoNqFC2JEqlksTEJPzuPSA6JhaNJgXf637o6elR2r04UdExPAh4QgmXojx68ownz15Qp1oFXoSEERkdg3vxYpJsjUbDdb97FMzniLVVLilcCIHvdT8iXkfq9PmEhERu+z8kJjYOQCff4NAwgkPDKO1eXEf/qzfvYJ/HBvs8NtJ9ns/RXvptKe1eXPqtCHkZzq079zE0VFLO0wMjI8NPaUaZ/wLBQY/El+DYaR+htFeJA8dOi1evo4R5QU8xYeaC96Y5cfaiUNqrdP7s3aqI6373pM8ajUYIIcSN2/5SnGOnfSQZJat9J5T2KnHw+BkhhBA79h4WDiWqSnHNCpQWk2YvkuS8j9eRUaJh215S2lxFvEWnfqOE0l4lPGu2kOKlyfe97ieEEGLh8g1Caa8S3nVbi+IVG0npVZWbCL97D0T1Zp2kMDu3yuLS1ZuSrPj4BNF72CRh6OAuxSlTq6W4ez9AiuOoSs2v28CxwrygpxRvzLS5UpzrfvdEIc9a0rXcRcuJfUdOSddN8pUSSnuVeBj4VApbtm6byF20nE55Fy7fILRarRBCiJ37jgilvUoUr9hI1GnVTacM1/3uSXKeB4eKCg3aSddtXCqKNt2HCKW9StRv00MIIcT9R4+l9siKoBchQmmvErv2HZXCVm7cKXIUKqNTNyOn/CqU9ipJzzHT5op8HtXF7IUrpHIq7VWiSYc+4nVklCQrMTFJ9Bv5s05/K1W9ubh1974Up/NPo4V33dbS98ioaKksaX/Vm3UST569kOIkJyeLPsMn68TpPWySqPFdJ9G8U/8sy/suF6/cEAVLv23DQp61xC+LVgqlvUpcvXlHCCGEVqsVU3/7Qxg5ekjxarXoInoOmSAKedYSQggxeupvGe6rn0ZNFUII8SLkpajUqL3O/TF/6TqRq4i3mDZ3SZa6Xbp6U9i5Vdbp28+DQ4X/w8AMeVkULiuEEOLg8TNSv027FhkVLQaNmyGcy9XXkR8ZFS2U9iqxdutfUti9BwHCu25rHdk/9B0hEhISxd37ARnyzenkJYQQYtaCFSJHoTIZymBRuKyYtWCFVI9Ke5Vo22OIyOnkJZT2KrFt9yGh1WrFtLlLhGn+UjrtcOLsxY9uR5n/Bl9smnT5+u3kc7SjdtUK5MppQYuGtVm1aRcajSbLNLY2VrRqUlf63qpJXVo0roN78WIUKZSf8FevueB7A4Ade946Imx/8/lBwBNu+z8kp6UFNSp5c/7SNdp0H0JYxCtsrFKfhJOT1fz86x/89seaD5Zh6ITZHD55DgCngvlQKg0+aT3i6s07vAx/RdHCBQC49zCQig3ac/HqDYo5FQRSnVmGTpwtpRk+eQ7L128ndy5LurZvQeVynty47U/Tjn0zrKGu2fIXjna25DA3A2DWghU8fDMNNnTCLIJehPJdg1pMHvETiUlJdB04lsTEpEx13bH3MH2GTyYmNk4aVcfGxTNo3Aw27dyvE/dBwBN8fK9L5Yp4FcnIKXOk690Hj+fytVsoFAqKORUkOVn92Y4jADdu+9NzyASqli/LhYOb8b+wnyoVyvLr4tUZ4oa8DGfVpl3sXrcI/wv7mTd1FMfOXGDohLd1PeXXxSxbt43fZ43n6fXjXDq8FQMDfZp17Ed8fEKmOvw0aioHj59h09JfeHbjBCd2rSboRQhtegxBq9UCMG/pOpat28bQvl24fXYPZ/as47b/Q85evPrRZY2OiaV5p/6Ymhizf9MS7l88wOBenZgwa6FOvP1HTzNx1iLaNW/I9ZO78Duzmzw2VqzatEuKM2l4P26fTV2/27xsDrGPr/Dr5OEA9B42Cb+7D1j662QCfA+zc9V85i5dS2xc/Hv1GznlV4oUyk/onbM8vHSIpGQ1E2ctpGjhAsQ+vkKV8mVoWLsqsY+vEHb3nE7asxevcmLXah5fPSr13Q8RH59A4/Z9iImN4+CWpTy6fJjfZ41n61+HGDN9Hs5FChL7+AqVvD1pXLc6sY+vEHrn7EfJTs+ewydZOHMcAb6HaVCzMmu2/MWEmQsZ3q8rj68e5fbZPbg5F+W7H38i6EXIJ8uX+RfzJUaGL8MjhEm+UmLyL79LYad9LgulvUrsOXTivWmjomN0nhrTGDt9nlDaq8TQCbOEVquVRlyGDu7C3q2KUKvVYvbCFUJprxLdB40TQghRs3lnobRXiRad+4ukpGSh1WrFjHnLhNJeJayKlRexcXHixNmLol7r7jp/vtf9RMjLcOlpe9m6bUIIIaJjYqUn048ZGTqqqorg0DCh1WrFkPGzJH19Ll8XQgixdutfUlhCQqJ4GhQsjBw9hKGDu7j3IHUkqNVqpdHpyo07hRBvR4YjJs8RWq1WvAh5KfK6V9PR1bNmC2m0+Ox5sNi176hYunariI6JFULojgy1Wq1wrdBQGsGkpKQIjUYj+o+eKpT2KlHUq55ISUmRRoY5CpURt/0fCiGE+GP1ZqG0VwnT/KWERqMRt/0fSu2XNhINeRkuyf+ckWGPweOFvVsVER+fIMXRarVSO6cfGaYfPaWRNoIKDg0T0TGxwrKwl85oOn2eaXWdfmQY8OSZUNqrxNK1W3XSXPC9Ls1QqNVq4aiqKjr0Hq4TJ+2e+NiR4e8rNwqlvUrcua97f6b1o7Sy1WnVTXjWbCFSUlKkOGq1WriUbyCNDIUQ4vGz50JprxK7Dx6Xwh4EPBFKe5X4feVGnTwOnzgnlPaq944Mveu2FjW+6yRi4+KEEEJcvXlHnL1wRbpeu2XXDGVNGxm++xvwMSPDJWu2CKW9SmeGRAghNmzfK2bMWyZ9r9m8s2jZZYBOnE8ZGaaNmNNwKd9AtO42WCcsPj5B2LlVFqOn/pZBpsx/ly8yMly/bQ8ajYbb9x4yYMw0BoyZxrbdh9HX12f5+u1/S2bzhrUB+OvAcW7dfcCDgCe4Fy9G7aoVCH/1mjMXrvDngeMAtGhcB0Bafxw7uDeGhkoUCgVD+nTC3MyU6JhYHgY+I+RlOMdOX9D5i3gVyf1HgWi1Wuzz2NCtQ0sAcpibMaBHx4/WuWwpFXa21igUCprVrwFAHhsrypXxAKBpvdQwIQTxCYncunsfrVaLEAJVlaYYOrhj5OghjU5v3vHXkf9dg5ooFArs89hQoWwpAKKiYwAY2rcLkDpaLFymDuNnzMfGKnemT+KxcfHSiHLSiH7o6emhr6/PxGH9gNT1y9eR0VJ8lyKFKF7MKVWHhrUAUKs1JCYlccc/1VuxZAkXGtSqIpW5e8dWH11vWXHb/xHVK3nprLEqFAopn/TkMDejlMpVJ6xx3epotVruPQgg8Olz4hMS2LHnMBUatJP+WnUdhL6+Pncz8bq8fS91G8qiFRt10gwYMx2Au/cDCH8VycvwVzR507Zp2FjlzrBm9T787j3EuUhBXIvqvje4bvWKOt/v+D+kTvVK6Om9vZUNDAyoXU03XmaklbFezco64TWrlJPW4LNi4vC++N64ja1rJao06cix0z54lVZ9ME9AmhX5FK7dukvxYk64FNVdb27XoiEj+nf7ZHlZ4ZxOt4SERB49fsbFqzd12rtmiy4kJiZ9spezzL+bbHegEUKwYsMO8thY8fR5ME+fB0vXChfIy4FjZ3j2PIR8b5xNPpaSJVwoXCAvAU+CmPhmqqhF4zrksbHm8MlzLFi+gUtXb0pTpIDkCJGU9HZqUKsVqN9M1RoY6NOoTjX8L+hOA+axtuK63z0g1bs1JSVFkpWYlPzROuvr66X7rK/z/93rAHp6qU4YZqYm9O+e0eiWLVXiHflvZRkY6Dp9tPmuAda5c7H1rwOcOHuJew8Dad19MOf3b8TTw01XTrof0sTEt+VL782bXledH1593S6UFi/pnXpKTMp8evZT0NNTZOphnJycMSwlRZshTK3WSDqm6Vm7WsUMRhPAzdkpQ1hafTdvVJt8jvYZrqc636TKzUzP9y0RZJZXcnLG+Op3ZOjp6WVa/o/Z15vWju+mT0lJkaZ8s6JejcoE+h7h2JkLnDh7kYmzF+F39wGrF07/YL6ZORsJoftdq9UN0NPTIyn54++9jPJFhrDMyph2D6blCVDO04M61TM+XORz+LTfMJl/N9k+Mjx78Qr3Hz1m8ewJnN+/Uefv9O51GBjos3rzrizTp/+hjYqOlT4rFAppxLf38EkAWjSqQ5O61dHT05PCmtWvgVKpBKBqhTIADB4/i9CwCJKSkhk4djpJSck42NlStFABzM1MKZQ/r86fqakJbi5FMDY2IuJVJGOmzSM5WU3AkyBmzFuWndWlQ2n34iiVBsTFJ1CzSjkmjejHuCG9iItP4GHgk49eXxFC0LBdL+YtXcevU0Zy/+IBqpQvI3nJvYupqYlkIPuOmExUdAyxcfH0HTEZSH0QsbTI8VF5e7qnyrn7IID5S9eh0Wi4dusuC5d//iZ4Tw83aeSeRkpKCtv3HMoQNz4hgaOnfHTC1m/fg7GxESrXYjgVyEfuXJYIIejc9jvpr2blcvjde5DpyKiUyhV9fX1MTYx10pR2L47fvQeYGBtjlSsnTgXzsX7bbp0f4PuPHnPr7v2PLqu3pzuBT4M4f+maTvi72wY8PdzYc+iEzlpwXHy8dD+8S3qdSpZwQaFQsG23bv3t2HvkvcZQq9XyY7+R3L3/iFZN6vL7rPEM79eVvUdOZZnX+8hpkYPnIaGERbySwt6tq8rlPHn0+BlnLvjqhM+cv5whE2a9N99cOS1ISkrm/qPHUtj9R48zPLC9i5GRISVLuBAVE0OnNs2k9v6+aV3u+D8kRZvyUeWT+W+Q7cZwxfodONjZUq9GpQzXrHLnpEWjOqzatJOUlMw7kpmpCS5v3KW967WmSpO3I6QWjepIn1WuRSnmVBBrq1xUq+j1Nk7jt3GmjBqAkZEhl6/dIp9HdXIUKiNN004dMxBDQ2WW5bC0yEGfzm0B+HXxaswLeuJSvgGBT4M+phr+FrbWVgzq9SMA9Vr3oGrTHyhRuQnzl63jzIUreLg5f5QchUKBqYkxh06cpWztVjTp0JczF64A4JXJ9hCA2ROGAnDw+FlsXCqSu2g5dh88AcDM8UMyfZrPjPx57WnfohEAQyfOxjR/abzrttb5ofu79O/egWS1mjqturJxxz4OHj9D8079eRj4LENcAwMDugwYwx+rN3Pk5HkGjJnGwuUb6NulHTktLTA2NmLUgO4sWbOFIRNmcdrHlx17D9OoXS927j2S6VYIO1trenduw/iZC5kyZzHnLl5l3bbdNO3YlzM+vuRzyIOenh6jBvbg2OkLtO42mIPHz7B++x6aduyr86D3IVo1rksxp4I079yfP1Zv5ugpHwaMmcbmPw/oxBvWtwuBT4Oo37YnO/cdYc+hE9Rr3YOYWF0HmNw5LTE0VLL1r4OcueDLibMXcbTPQ4eWjfn51z8YPXUuR0/5sHD5BgaNm/FeXfX09Hge/JI+wydz5oIvPpevs/vgcYoUyi/FcbSz5fK1Wxw+ce6DLxpo3qg2yclqmnbsx+6Dx1m/fQ/dB43XidOycepe3uadBrBoxUYOnzjHsImzGTdjPiVcir7N196WS1dT8920MzXfhrWrYmRkSMvOA9i+5zDbdh+idbfB72+AN0wY1pejp3z4sd8ojp2+wP6jp2nYrjfL1m2nSKECHyVD5j9CdjrQRLyKFGYFSouJsxZmGefU+VRHmv1HT2cZ57TPZckhJJ9HdSlcq9WKYt71hdJeJab+9ocUvnTtVsmFPzk5WUeW73U/4VXne8mpo0CpmmLjjr0fVZ7k5GQxcOx0aZuDa4WGknPGxzjQtOj81oHg/KVrQmmvEgVLv3VqiI2Lk/SKeBUphBBCo9GIXxatFDYuFaVr5eu3FX73Hkjp0hxoLl+7JYW16zlUKO1V4pdFK4UQQoSGhYvG7XtLMuzdqog/Vm+W4me2teLoKR/hVqmxlMalfANpi4oQb7dWpN9qEPEqUoqf5kwRGxcnfug7Qgr3rNlCDBw7PVu2Vhw95aOz3aBN9yFi2twlmW6t2PrXQakfGTl6iCHjZ+n0D61WK+YtWSusnStI8qo2/UHHSePdrRXJycli7PR5Ots7mnbsK54Hh+rInb90nbAsnOqin6uIt/hl0UpRq0WXT9pa8fjZc1G16Q9SPlWadBSrN+/K4By0aec+Yeua2l+M85YUvYdNEgPHTtdxoBFCiEUrNgrjvCWF0l4lRv38m9RWP/YdqXN/7D54/INbKwKePBMVG77dkuFepam4cdtfun73foAo6lVPKO1VwqFEVSHEWwea+48eZ5C3aMVGqU4LedYS23YfyrC1IjzitWjfa5iUp1Wx8jpbf4QQ4s79R6JI2bpCaa8Sed2rSeGbd+2Xtg3Zu1URW/48kKkDzbvOREIIseXPA6JAqZo6ZT138WqWdSPz30SRnYf7pqSkkJCYhLGRYZYL8EII4uITMFQq3zsyU6vVBAWHksfaClNTEyk8ISGRFK1WJ4+0fPUUCp246fMMDYtArdZgn8f6g84B7xIZFU1UTCz5HOzQarUkJiXr5BUXH48QYGJs9GatR02yWo2+np7k7JGmo0KBtEE9rS4gdUScfvSVlJRMaFgEhoZK8thY6Vx7Nz9IfY2dJiUlQ72GRbwiNi6e/I72OmuMaa7zpibGOqMArVZLaFgEWq0WO1trnTQajSZD2d9XhvCI1yQkJpHXIQ8ajYak5Ld1otVqiX+zVcTcTHfDfnpd4hMSM/QntVrNi9AwcpiZkTuXpVTfafknJSWjSdFgZmpKcrKaF6EvyWVpkeVUb1JSMiFh4ZgYG2H7zksIEhOT0Gq1GfpVfHwCLyNekcPMDKvcOTOVmxbH1io3pqYm0taYzF6ykBVCCIJDwyRHqbR+lL7t0/QMCQuXypm+DtITFR1DdEwceR3y6LRVxKtIYuPjcbSzxcDAgNi4+A/eo0IIXoS8RAiBo32eDLMHarWa4NBwbK1zY2xsJPWfd/tcGjGxcbyKjMLRzhZ9fX3i4hMwMlRKyx5ppN2Ptla5M63L5GQ1IS/f5ptGWns45LHF0FCpU8YP/S6p1WpCXkagr6+Hna31J43yZf4bZKsxlJGRkZGR+S8iP97IyMjIyHzzyMZQRkZGRuabRzaGMjIyMjLfPLIxlJGRkZH55pGNoYyMjIzMN49sDGVkZGRkvnlkYygjIyMj880jG0MZGRkZmW+ef4Ux3LX/KCfPXfpgPN/rfvg/DPwHNMocv3sPpNMsviU0Gg2HT5xj/9HTWR4O/P/A3sMnOXLy/CelEUJw6vxlngeHAqlvKjl1/jIvwyO+hIpcvXmHO+mOl9q1/ygnzl7UiZO+vdIfCH315h127jtCyMvwL6KbjMx/mi9xuO+nkHboqFmB0tI7BkPDwsXug8elg2jTKFntO9F72KSvoaYQQohWXQaKms07f7X8vwbJyck678f8J97J+DI8ItP2/5LyX4ZHSActJyUlvye1LmnvtFy0IvWdlmHhr4TSXiU279qf7XoLIUSFBu1Exz4jhBBCPHn2QjpYOe3eUavVonqzTlJ7nfa5LIQQYtLsRVLYhJkLvohun0pUdIzYffC4CAt/9cG4fvceiCMnz/8DWsl8q3z1kaGjnS29OrVh1IAe0rsNb96+T4vOA3ge/PIraydz+OR5zl+6xs7V84m474OqeLEvnueXbv9bd1LlP3sRIoVZ5cpJ/+4dGfFTN5TKbD/m84vgYGdD7866987R0z6cvXiFbSvmEnHfh5IlXImLj2fG/OX07dqOqEeX6Ne1/VfWPJWnz4Np0XkAt/0ffjDums1/0nPohH9AK5lvla9+1xsYGDB/2uhPTpecrCYhMRGLHOYffbyQVqslOiYWUxOTLF9AnJKSQkxsHDnMzXRehJwdpL1kPP2LqdVqNfEJ7y+HEIKo6BjMzUwzfcl4YmISScnJn1QX6XlfXUa8Tj07sHI5z48+T/Fj2kaj0RAbF49FDvNPfunxx6ZNe3l5Vi8CT4+enh6/TBqW6TW1Wk1cfAKWFjn+Vv1+Dmn9MbOyGhgYMG+q7r0T8ToK0G2vkJfhaDQaKpQthYmJcYaXW8fHJyAQGV7qnZ7kZDWxcfHkymkh1cHH3ivJyWoSk5LIYW72j9ffu2R2D75LYmISao0GczPTTPVNSkomITHxq/QHmS9Hto4MA54EYeTowe6Dx6Ww2Lh4LJ28aN6pv07c/qOn4VapMUIIvOp8T88hqU99bboPoUHbngC4V22KkaMHi1a8PRhWo9EwYvIcrF0qYONSkXqte3xwDUQIweJVm8jrXh1b10rkLOLNT6OmEhMbJ8VJTlYzbsZ8chUth61rJaydKzB93tIsTydPK+v+o6d1wrsNHEf5+m2l7217DKVq0x/oPWwSuYuVJ3fRcrTqOpDXkdHMX7oOW9dK2LhUpGLD9jwIeCKl+2P1ZowcPTh2+gKqKk2xda1E/pI1dQ5t1Wg09Bk+mdzFymPjUpHKjTvy6HHGs/2yIiziFR16D8e8oCc2LhVxKltH56DX77sOotvAcQDYuFTEyNEjw2GzadiXqML4GQsYOmE2Vs6p+nhUbcbFKzd04sXFxzNgzDQsCnth61oJ+xJVWLRio3Qga5vuQ6jfpgeQsf0TE5MYOeVXqY3s3Kowb+lanYNo7dwqM2baXJ36bt9rmHRKR7ueQ6nXOlV+yWrfYeTowYJl6wGo1uxHOvYZoVO/Y6bNxdLJG1vXSrhVasyhE2cpWLoWY6fP+6g67jlkAt51W+uEBb0IwcjRgz/3H8synRCCZeu2YedWBVvXShQuU4fNu/ZniFeuXht6DE49+69tj6F0/mm0VA9Gjh780Hck+UvWAKB9r2EYOXowafYiIHUNvFqzH8lZxJtcRcpRoUE7rt26K8nevucwRo4e/L5yEw6qqti5VZbqZdrcJdi4VMTWtRJWxSowZc5inXvFvUpT+gyfzLCJs7F2qYC1cwWadOhLeMRrIPX+L12jBQC1W3bFyNGDcTPmZ1oXuYuWY+6StTx7nlpvRo4e+D8MZOtfBzFy9MhwVmbJat/x06ipADwNCsbI0YNVm3bRtsdQLJ28yF20HLVbduVJ0AuddI+fPadRu95YFC6LVbHylK7RgtM+bw8T1mq1Uv+2da2Ed93WOuu3Mv9tsnVkWLhAXkqpXNm2+xBN6qXegIdOnCUhIZHDJ89JT5EpKSns2HOYLu2bo1Ao0Gq10o/huKG98SqtYuSUX1kx72cK5HWgcIG8Uh6bdu2nVpXyrJj7M1du3GbukrUMHDOdzcvmZKnXtLlLmTR7EZ3bfketqhV4GPiEaXOXEvIyjG0r5gLQbdA4tv51kL5d21FK5cr5S9eYMHMhwaHhWY5cRSYneQshdMK1Wi0+l69jamLM6gXTuHbrLr8uXk3gkyDi4hOYP30MUVExjJ+5gPa9hnHx0BYUCoUkp++IyQzq9SNKpZJZC5bTrtcw7p3fh4OdLUvXbmPNlj/5fdZ48jvaMXzSL3TuP5rTu9d9sK0SE5Oo+V1ngl+GM2Vkf+ztbNjy5wHa9xpGUnIyHVo2ZvywPhR31P8qAAAgAElEQVR1KsDshSv5a90izExNcHMpkqk8rVbLopUbcSlamMWzJ5CQkMisBSuo3aobN0/9ScF8jgghaNF5IGcvXmFw7x9xKVqYIyfPMWjcDF5HRTN2cC/GDe2Nt6c7IybPydD+XQeO5a+Dxxk3uDfFnZ24dO0WwyfNITIqhgnD+r7RQzB/2XpaNa7L2kUzOH7mAsvXb8fRPg+zJgxlzOBeeJV2Z/ikX1g+dwoF8zlK8tP3Q4CJsxcxe+FKOrZqQv1aVXgY8ISOfUaSkJj40ae4CyEyPTX+Q+nXbv2LviOmUKtqedq3bEzoy3CGTZxNXHyCzsHD6XUeO6QXRQrnZ+b85exas4Ac5mbYWOfmu4a1aN1tMGMH96JaRS/y57Xn2fMQqjTuSMF8jqz7fSb6+vosXLGBqk1/4MrR7RQtXEDSc/Kc3xk/pDf58toDMGzSLyxetZnh/bpSpqQbd/wfMeXXxYS8DGfRzNSHJ60QrNu2m7rVK7Ji7s9cvnaLeUvXMXTCLFYvnM5P3dpT2r04PQaP55eJwyipciWfo12mdbF73SJ+X7WJU+d92bT0FwDyOdhx3e9epvX4bjsKIRg2cTbVK3mx4Y/ZPHn2nOnzllGnZTdunNyFsbERkVHRVGncEWMjI1bM+xlzM1NWb9pF7ZZdObNnHV6l3dm4cx8Llq9nwfQxFHMqyJhp8+jQazi+R7fJRzr9P5DdDjRzfl8lLAt7ifj4BCGEEB37jBCeNVsII0cPyangxNmLQmmvkg4D9azZQnQfNE6SceTkeaG0V+kcsipEqgONZ80WQqPRSGHDJ/0iDB3cRVxcfKb6vAyPEOYFPcWIyXN0wjds3ytqfNdJPA8OFVdu3BZKe5VYsmaLTpzpc5cKpb1KPAh4IoTQdaB59PiZUNqrxL4jp3TSdOk/Rucw2O+7DhKFPGuJhIREKaz7oHFCaa8S/g8DpbA1W/4USnuVuO3/UAghxO8rNwqlvUqcv3RNipN2IO6CZeuFEEIMGT9L5C9ZQ3L48L3uJ0ZP/U2kpKRkWhfpWbxqk1Daq8SVG7elMK1WK5r90E9HZppeUdEx75Vn61pRFClbVzrgVwghngeHCsvCXqLviClCiLeHu6Y/rFcIIQaOnS7MC3qKl+ERQojUA3zfbf9rt+4Kpb1KrN68Syft1N/+EDkKlZEOR7ZxqSgatu2lE6dD7+HCzq2y9P3YaR+duk6jcuMOon2vYUKIVOcOi8JlRb+RP+vE2frXQaG0V4nRU3+T6ux9DjTdB40TZWq11JHx7HlwpvWQhkajEU5l6oh6rbvrHFx76epNobRXSQ40QghRtnYr0W3gWOn7+u17hNJeJV69jpLCgkPDhNJeJbbtPiSF9Rk+WTiqqkr1JoQQcXHxonjFRqLzT6OFEEI6YHfLnwekOE+evRCGDu5i9sIVOjovW7dNKO1VIuDJMyGEEG6VGgvvuq11+uLg8TOFcd6SIjExSQghxK2794XSXiVOnruUaT2kZ9jE2aJwmdo6YZt37RdKe5XUb9JQVW4i9bk0J6MGbXvq1GXaIePL1m0TQggxZc5iYVG4rHgaFCzFUavVolKj9qJe6+5CiFQnJGvnCtJv262798Xoqb9J32X+22T7mmHLxnUZOeVXDhw/Q6Pa1dh/9DTjh/Rm/7Ez7Np3lNbN6rNt9yFcihRC5Vr0k+WXKVlCZ33Cq7QKIQSR0TGZHux77uI1kpKS6fHD9zrh7Vo0pF2LhgBs2rkPpdKATm2+04nTp0tbxs9cwImzFylSKP8n65pGwXx5dQ4ZLe5cBIVCIT19A7gWTT1TMiYmVietV2mV9Llo4QLkzmVJ2JupphaNarNk7RZKVG5C9UpeVK/kzcRhfT/qKfX4mYt4e7pT2r24FKZQKOjTuS0N2/Xi7oMAPNycP6mcTerX0Fl3crCzpUGtypw+f1nKM4+NFU3r19BJ17dLOxat2Mi5i9do1qBmprLPvJmuunjlJjdu+0vhL8MiSExM4rrfXWpULgfo1hmAVykVW/488ElluXH7HgkJiXRs1VgnvHnDWp90OO/fISg4lKfPg5k5YYjOmlTZUiqdUeHncMbHF3MzU37+7Q+dcKWBAecv606FV/QqJX0+f/kaQgj87j5g8PiZUnjsmyWHi1duUih/6kjb08NNpy+WLVmClJQUomJisDXSPUT5S9O2eUOduqxSvgxOBfNx2seXbh1actrHFwtzM35bskYnXUqKlvOXrwPQpF4NfvtjDW6VG1OjUjmqVfJi3ODeOve2zH+XbDeG+fPaU66MB9t3H8Lc1JTomFia1K+BkZEhwyfPISY2jl37jtK7c5u/tfj87g992neRxbST+s06hul7fsDUag1KA2UGL8K0NGp15uuGmeWbmR7vFlOhSDU86cufVV1kKK/i7ffyZUty5eh2tu0+xKnzl1nz02g27tjLrjULPuj8o9ZoMDXJ+PCQ5liQ1Vrp+zBUZnRKMjM1kdpArdFgYmycoaxpearfk6ckQ63WmXY0NzOlS7vm2FjnlsKy6iOfgkaTApDhAUtfXx9jI8NPkpWxj7w/flp/y6x9TIyzxxCrNRr09PSIj0/QCS9XxoOclhY6Yen7Ulo7pGi1Omn19PTo0q45+R3tdcLS86WmEjPULxkrOMu+qX7bNw0MDDLUh3vxYpQs4QJAyRIuXD2+g61/HuSUz2V6DJ7Ayg07ObR1KcpM5Mv8t/gi3qTfN6nHmOnzMFQqKVnChYL5HGlSrwY/jZrKmGnzCH/1mlZN6n2JrDNQ3NkJgH1HTtG1fQsp3O/eA46cPE+Xds0p7uxEfEICZy5coUr5MlKcNOeYzNbJ0gxlcGiYTvjzkH9uO8iu/UexypWTMYN6MmZQT3buO0Kb7kPwu/fwg6O64s5OLFqxifCI11hb5ZLC9x45iZGRIYULfPoI5MKVGwghJGOXnKzmxNlLuL/RpXgxJxYu38Cd+48oXszpbZ5vnIKyWo8EcC5SCICeP7amTMkSUvjDwKdcvXkHp7+h7/so/GYEduLMRUq4vJ3BuHbrLq8joz9ajpGREaFhEWje/NgCvAgJfW8aRztbzExNOHzyHPVrVpbCQ8MiePTkGSX+xozKuzgXKURwaBi/zxqvY6QOnzj33pGOy5t2aNu8IQ1qVZHCg16EcP7ydVzezHD8ExgbpeoZHBqOrXXqSDM5Wc3L8FcZ4vr4Xuf7pm9/c4JehHDb/5Hk2+BSpBBPg16wYPoYHcN25oIvCQmpL5rYd+QURoaGjOjfjRH9u3H0lA8N2vbk4pWbVCrn+cXKKfPP8EUe1Vo0rkNCQiIbd+6jaf3UaS/7PDaUL1uSP1Zvxr14MVyKFsoyvUWOVJfwqzfvkJCQSFC6/WCfiptzEZrWr8GIyXPYtvsQ0TGxXLlxm7Y9hrBt9yFymJvRoFYVSrgUpXP/0Rw95UNYxCv2Hz1N3xFTKF+2pI6BTCOPjRWuRQszZc5izl+6RnRMLPOWrs3wNpAvyZGT5+nSfwyBT4MQQvAw4Cnwtv7eR+9ObdDTU9Cy60Cu+93jZXgEi1dtYu6StfTu1IZcOS0+KONdzl28yojJcwgODSPwaRBdBozh6fNgBvb8AYC2zRuQz9GO1t0Gcf7SNcIiXrFt9yFGTvmVpvVrSAYys/avW70irkUL07n/aHyv+5GSksKVG7dp3L43sxeuwOgTRmsWOcwzyH+XAnkdaFi7KhNnL2Lb7kPExMZx3e8eXfqP+aQ6qVHZm9CwCAaNm0l4xGvuPghgwJjp701jYmJMzx9bs3jVZhYu30BkVDT3HgTSsc8InTfKfA6Dev3ItVt3GTx+Ji/DI0hISGTBsvU0at+bO+/Z91emZAkqepem74gpnPbxRaPRcNv/Ic079WfM1LmYfMKUoYX523ZISkrO4N2pEzeHORGvogh8GkRoWATRMbFU8CqJoaGSviOm8CDgCS/DI/hp1M+ZPqwsWbOVJWu28Op1FNf97tGmx1CMDA3p1qElAH27tuNFSBjdBo0j6EUIycnqVAeg73tw7o0H9dmLV+n00yj8Hwam3m+Bqd7fOd70J5n/Nl/EGNrnsZEMSPr1oe8a1AL44KiwTMkSVPL2pNNPo7B08mL7nsOfpc8fsydSoWxJ2vcahrVzBcrXb4uRoSEbl8xGT08PAwMDtq2ci1WunDRo2xNHVTWa/dCPQgXysmHxrEynMBUKBfOnjyE6JpZqzX7E2rkCm3bu13mS/9KMH9oHM1MTnMs1wNLJi7HT5zG4dydpzeZ95HWwY8eqeTwKfIpXne/J616dAWOm07ppfSYN7/e39OnavgVHT/lQoFRNnMs1YPuew0wfO0jqC2ampuxasxCtVlCt2Y84qqrRvtcwynl6sHjW2w3Vnh5uGdrfwMCALct/w0DfgAoN2mGSrxTl67fF2MiIzct+/aQ9oaXdi1O5nCdd+o/B0smLrX8dzDTeguljKFwgL+17DcOqWHm86nxPvZqVsbO1/ui8mtarQfOGtVmyZgsOqqqUrtGC6pW8P5hu3JBeNKpTlcHjZ2LrWgn3qk2xs7XWWeP9HKpWKMv8aaNZsWEHed2rY+nkxZAJs+jXrT09f2ydZTqFQsHahTPI65CHWi26YJq/NKWqNycqOpbtq+Z90npq/rz2NG9YmxGT55CjUBkWr9qcZdz2LRthamKMc7kG5POozrMXIdhY5eaXicO4dPUmbpUak9e9OtExcZmu7w/t05mpvy3Bzq0yXnW+547/Q9b9PgMHO1sASrgUZfWCaew9fIrCZepgXtCTrgPG8n2TuowdnLrVa3i/rjjY2aKq0pScRbzpP3oa3Tq0/OS1dZl/J4rgoEfCzjH7pzYeBDzh2fNgqlfylozJ68horty4TWn34uTOZSnFveB7gxw5zHBzfjtNplarOXLKB7VaQ+2q5TE1NeGC7w0sLMx1pthCwyK4dec+lbxLf3Ah2/e6H48eP8MqV06qV/LK8AOq1Wo57eNLaFgEjna2VPQurWMIb9z2R6PR4OnhJoUFh4Zx9uJVrHJZUrVCWe4+CCA+PgGv0u5ZpnkS9IKHAU+pWaWcFBYVHcPla36UKelGTksLnj0Pwf9hIDWrlNPR4dT5yzja55FueLVazbEzF4iKjqWEa1GdOvwY4uMTOHHuEnHxCbgWK4zKVfcNMy9CXnLH/xHVKpbNdMN/GnmKV6Jvl3aMHtiDU+d9iXgdSWn34pn+MKnVak6eu8yryCgK5XekbClVhgeOzNofUjd6n7lwhdCwCGysclG1Qlmddjx57hL539mO8zQomPuPHlOravkM8pOT1dSpVgFTUxMuX7uFkZER7unesqPRaDh+5iKR0TF4uDnjXKQQZy74YmdrQ9HCBRBCcOz0BYo5FSR/XnuSk9Wc9vGlhGtRyWgKIThz4QohL8Px9nQnPiERj6rN2LPhd+pWr5RlnQohuOB7g6fPg3EuUoiSJVy4fO0WxsZGUjtdvHIDc/O3905waBi37z2kaoUy0nRfUlIyZy5cQVW8GHlsdB1XXoZH4HP5BslqNR5uzhRzKihdS7u3KpfzzDDyFkJw/tI1goJDyWmZg+oVvXVeZHH+0jVy5bKUHMMgdfO/390HVClfRoqr1Wo5dvoC0bGx1K5aQRq1Z8bL8AjOXLiCjVVuKpfzlPrM3QcB3Lztj1PBfHh6uFG4TB1aNq7D7InDeBoUTBGvuuxYNY8alb05fuYiyWo1lct5SlOr6YmKjuG0jy8JiUmZ3g8ajYYTZy8R8ToSl6KFpfVEmf8Dvva7SWX+P7B1rSgmzV70tdX4V+F73U8Y5y0pNu3cpxM+b8laYejgLp49D84ipcyH0Gq1wt6tis6WLCGEuHnHXyjtVWLt1r+EEG+3Vuw+ePxrqCnzH+Krv45NRub/lbTp2AFjphGfkEgplSsXfK8zdsZ82rdoRF6HzDeZy3wYhULBwJ4/MHb6PGysc9OiUR2ePQ9h9NTfKJjPkVaN635tFWX+Y8jGUEbmC6FQKNj4x2z6jfyZXkMnSuHtWzRi3t94H6+MLkP7diYhMZE5i1cze+FKIHW9edX8afLeP5lP5outGcp8W6SkpKBQKOTXUmXBi5CXhEW8xtY6N/Z5bL62Ov9XREXH8CQoGFMTY5wK5tNZfxZvXoenp6cnv1Rb5r3IxlBGRkZG5ptHfoyXkZGRkfnmkY2hjIyMjMw3j2wMZWRkZGS+eWRjKCMjIyPzzSMbQxkZGRmZbx7ZGMrIyMjIfPPIxlBGRkZG5ptHNoYyMjIyMt88sjGUkZGRkfnmkY2hjIyMjMw3j2wMZWRkZGS+eeRTK/6FGDq4f20VZGT+9SS/uPm1VZD5P0I2hv9SlswcTqWyslF0q9GB28fXf201vjpuNTpQt6oXv07o/7VV+epMmLOC7ftOfG01ZP7PkI3hvxQzE2PMTE2+thpfHVO5HiRMTUzkuiC1T8jIZDfymqGMjIyMzDePbAz/JpFR0SQnq7+2GjIyMjIy2cAXM4YJCYlcunqTS1dvolZ/2GgkJCRy/9HjL6VOttN14DjMC3py5oLvV9MhNi6Bq373uXXvESkpKV9Nj38DL0LDuXz9Lk+fh3y2LN8bd4mJi/+kNE+CQoiNS/jsvP8ucfEJ+PkH4OcfwO37gURFx2Z7HvEJiQQ+ffFJaRISk7hw9Xa26yIjk918EWO4edd+XCo0ZNTPvzF88hxcKzTigu+N96Z5EPiUboPGfQl1vgj589ozsn93hk+aQ6+hE3kdGf2P5r9ux0Gqt+rHL39sZOyspdRuO5D7AU+zPZ8/D53m9v3AbJebXcTExTN0ykKadxvFglXbaddvIn1G/0JiUvLfkieEoMuQaRw8cQGAtdsP8Dwk7IPpJs9dxc17D/9WntnB7fuBtOs7gUm/rmTCnOXUbjeQgycvZmse9wOeMXrmkg/GW7rhLyJeRwFw+uJ1fhgwmcTEpGzVRUYmu8l2Y3jy3CUmzFzIoa3LObZzFSf/XMMfv0ykTY8hRMe8fVqNi4/P8gbRaDQIIYDUHyeNRgNASkoKWq2WxMQkKa0QgqjomEzjx8TGZRgxRcfEStc/l5IqF87uXU/xYk6Ur9+Gzbv2Z4vcD7HnyFk27DrMnytnsHHhRP5aOZPBPdrQffhM1OnKFhuXQHK6UblWq9Wpj5SUFIQQb+osNTwmLh6tVitdP+VznYAnz6XrGk1qG0TFxCGEyCAvLe0/xajpf2BkqOTUjt9ZO28cx7cuwNjIkFm/v/VAVWs00qhNo0ktc1pdaLVaomPjpP6jUCg4uX0RzetXJSUlhX3HzhMS9kqnnHHxqfX6bn1+bUqrnNm25Ge2L5nKlt8nM272Uqk9ktXqDCPXtLpISEwiKd2U/7vtmBbvXVJSUqS6S4uTkpLCnwdP8yoyhpSUFOpU8cJn91KMjY2kdFn1S61W+8kjchmZ7CLbvUkn/7KYuVNH4VK0kBRWq2p5tiybQ0qKlqSkZHoPm8S+o6cA6NO5LeOH9tGR4V23NdtWzqNwgbw8CHhCxz4juHhoC5N/WcyxMxcIj3hF+KtIZowbzKad+7j3IBCPEs7sWr0ApdIAa+eKNKlXnVPnL2ORw4wj21eSx8aKH/uN4urNO2i1WrYs/xWVa7HPLq++vj79e3SkWYNa9B89lfXb9rBw5lgK5nP8bNlZMXf5VuZOGoCjnY0U1qhWRWyscqJWa0hMSmbIpAVcun4HgP5dWtGlTSN27D/JrXsBTB7aDYBuw2bQq2MznAvnp2ab/niqXLjq54+tVS42LZrE5t1HOXbOl0vX77D36DmWzByBW80OeKqciYtPYPzAzsxdvpV188cDMG3BWooUzEvbZrW/WNnT8yAwiBt3HnJ863yUBqld2VCpZNLQbvg/fALAucs3GThhHoaGStxdnfC9eY8jG+dy/oofa7cfICExiReh4djbWrF89ihsrXPRbeh0po7oyY79J7l59xFDJi+gUll3pgzrzpiZS9h79By5clrgqXImWa1h4c+D/5Hyfgr2eaxJTEwmRatl/c5D/LZsC5BqMH+b2B8LczOqtuxL1XIlOX3xBtGxcYzt34nvG9dg7oqtWOYwp1vbxgDU6zCItfPG68i/++Ax3YfPRKvVUjCfPa8jo5k9th/rdh7k0ZPn9Bo5i1qVy9KmSU36jf2VfWt/ISYuPtN+edLnGvNWbEVfT48HgUFUr1CaeZMHolAo/tlKk/mmyXZj+CDgMeXLeGQI9/ZMDft18WoSk5J4dv0E8QkJ1P2+O96e7jjY5fko+QXzOXB691rOXbpKrRZduXHyT4oUykeDtr3YfegELRrVJj4hgf7dO7Bm4XT6DJ/M4lWb6dWpNad9fAnwPcyp85fxvX77vcZw574jLFmz9T3lfEJ+Rwfpe/689vy5diHrtu2mmHd9Tv21lvJlS35UmT4FIQRBIWGUcC6c4Zp3KTcAps5fg611Lq4cWMmryBha9hxDGQ+X98qNjI5lWO92OBVwpP/4uWzZc4yeHZpxP+AZNSuVoUGN8gCo1RqG9GiDp7sLV27ey/byfQqBz17gUbyIZAjTyGFmShkPV1JSUhg5/Q8WTh2Mdyk3jp65zIE3058A/o+ecmDdHPLY5GbagrXM/mMDs8f2k66PHdCJ2/6BjOzXEY/iRTh65jJ3Hjzm4t7lGBjo02vkbEzSjXi+NkHBYazdfhAhtBw/d4WmdSvzIDCI5Zv2cGjjb1jnsmTiryv5bdkWJgzqAoCDnQ1ndy0m4OkLWnQfTbXypT4qr7GzlzGkRxu+q18Vv3sBNOkyAoCZo/vgdy+AhT8PplB+B501xvkrtmXZL19FxrBv7Wz09fRo2mUEV27eo4yHazbXkIxM1mS7McxlacGzFyHktLTQCVer1ejp6XHi7CWG9u2MoaESQ0Mlndo04/iZi3Ro1eSj5JctVQI9PT28SrljaZFDGoGWdi9OxKvXAJibmVKmZAkAqlX04viZC+SxsaJ21fKUqNyESt6lmTCs73vzqVOtIsWLFcny+sz5y8hrb6sTdujEWWbOX86oAT0o7V78o8rzqSgUCkyNjQh/FYWNVU6da8lqNQb6+py/cou5Eweir6+PjVVOmtapjM8VP3LntMhCKtha5aJooXwAlPcskaWjhKHSAE/39xvWf4qcFua8CA3PEC6EIFmtISziNUoDfekhoWalMljlelsHlbzcsbO1AqBji7p06D/5vfn53rxH0zqVJQPYskE19h33ya7ifDZJyWpCXkagUEDTupVpVrcKq7fup2HNCtha5QKgS+uG9BgxU0rTokE1AArnd8CrpCvXbt//YD5CCG77B9CsXhUASrgURuWS8eHsXbLql0UL5UPlUhgLczMAPIoX5WVE5KcWX0bms8j2NcMeP3zP2GnzdDxII6OicS7fgMCnz7GxykXAkyDpWsCTIGyscuvIMDAwICY2DkD6n4aC1KkThUJB+lmU9FMqmX1+HRlNr05tuHR4K8WcCjJo7Iz3lsPczBSXooWy/MuZ0wJ9A30AXoZH0KH3cKbPW8a2lXOZNKIfRkaGH6yrv0u7ZrWZsWidzrpOaNgryjfpQVRMHFY5LXn2IlS69vRFKLlzWmCgr09sujWZ9GtIunWWdd56em+7jP478mL+YW9KT5UzMbHxGRxFdh08Rbeh08lhbkZ0bJzkTBMdG09M7Ft9g19GSJ+DgsPe+7AAqcY3fZrnmRjir4lTAQeG92nPsN7taV6/Gnp6euTOZcHT57p9wSqnpfQ95E15hBCpdWCp20+EEBnWGhUKBSbGRkS8TnUaU2s0hIS9+qB+WfXLNJnp5cvI/NNk+8iwd+c2XLp2i/L129K+ZWO0Wi3L1m2jb5d2FCmUnwE9f6BJhz6EvgwnOjaOXfuOcuHgZl6EvvXYq1O9Ir2GTqRz2+/Y+tfBbNFLCEGb7kMYM7gXjx4/w/rNk/LnylyxYQezFqxgWL8udG3f4h+5kX/q0opeI2fRsudYGtWsQHxiEht2HmJk347kssxBrx+aMWTSAjq3bsjzkDBu3X3E9JG9eB0Vw/hflrNg5TaiY+O5++DxB/OyscrJvmPnSUhMkkYRabgUKUBQSBg/z1uNpYU5R89cppRb0S9T6EzQ19dn/uSBdB8+g2NnL1PCuTCPnrzg8KmLbP59MpY5zKharhQ9R8ykTlVvDp64oGPMHwYGMXrGHzgVzMvKzXsZ/dMPGfKwtrJk+77jPA8Jo3n9atTrMBgTYyNMTYxYv/MwHsWznj34N1CvqjeLVu9k3Oyl5HPIw5ptB5gxqrd0fcq81TStU4mrfvffjPqdMTDQp9PgqZiZmvDwcRCRmWzT+KFlfboOnUarRjU4e/kmCemc4axzW7LxzyN4lyqOU4G3a+dZ9UufK35fthJkZD4C/aGDB0w0t/h8w5CGnp4ezRrUxKVoYe7eDyApWc2oAd1p2bguAHa21jSsXZWrN+9iZmrMwhnjsLVOHRnmMDejZAkXKnuXRq3WEP7qNQN7/kAeG2tKuxdHT09BofyOONqnri8aGBhI63J6CgWFC+bDwc4WfX09Kni9WftQgK21FSVVrtSsUo5T5y9RIJ8DI/t3w1Cp/NvlXL1pFz//+gemJsZsWjqHKuXLZJshnDJnMc3rVyW/o12m1w0M9GlatzK2Vrl49OQ5AMN6t6dKudS6yOeQh/KeJbh19xE2VjmZMrwH5mYm5DA3pbxnCe48eIJ3qeJU9vbA2Sk/FuZmGBoqKVUidQ1VgYI8NrkpkNeO0ipngoLDMFIqUbk4oaenR9k3azl6egrqVPHC/9FT8jvmwdzMBPs81rg5F8pU77/DojU76dupRZbXbaxy0rpJTSKj4wgKDiOvnQ1TR/SUpj9rVPQkLj6JF6FhdGnTiEL57CnlVpTAZ8EA1K7sxYPAILq0bkStymVTy6/Qw61YIcxMjSlX2g3/R0+xymVJqRLFqFPFCz//AExNTej9w3fkeTO9rKdQ4Fy4AJY5zLKt7I7pcKkAACAASURBVOmZu3wrrkUKUq+ad5ZxLC3McXEqoBNmYGBAs3qVefbiJa+jYhjcvQ1lS6a238rNe5k7aQC3/QOwt7Vi4uBuGBkZYm9rhWuRgtwPeEbjWhVxLVoQd1cnjAyVWOQwxbVoQcqVdsPISEnA02Ca169CKbdiFC9WCDNTEyp4qrh9PxD7PNYUyu+AqYkxKhenLPslQO6cFtI0vUKhwKmAA1a5LMmME+evcuPOQ8YN6Z3pdRmZv4MiOOiRsHP88Hy/jC679h9Fo0mhVZO62S7b0MGd9fPHU8kroyPSv4mp89eg1WoZO6ATMXHxNO40nKUzR+DslD/b8ihevT13TmzINnlp7D/uw/FzV/hlXL8PR/4XULBcC76rV5XfJmbfi7orNuvFntWzPjg9/G9j/C/LWbv9gHxqhUy2Ir+o+2/yXYNaX1uFr06/zi3pNXIWlZv3IVmt5oeW9bPVEH5JFKTOJnzLpJ8ylpH51pGNoczfxjKHGZsWTSLidRTGRob/qRMV6tcoT/0320W+Vc7s/P1rqyAj869BNoYyn01WazsyMjIy/xVkY/gv5e7DJ7KRIfXl0B/j9fotcO/hY7kugHtv3i4kI5OdyA40/0IMHeQT7mVkPoTsQCOTncgjw38h8k0uIyMj888iu5PJyMjIyHzzyMZQRkZGRuabRzaGMjIyMjLfPLIxlJGRkZH55pGNoYyMjIzMN4/sTfoZfO4WiKy8RuWtFTIyH0b2upbJTmRj+JmUK+2G8SeeXXjS59oH4xgYGFCzcrm/q9b/DYdOnKVu9UpfW42vzqETZwHkuuBtXcjIZCfypvvPwNDBnXsnN2L85uTzj2XwpPnsPHDqvSPDA5uXUrOKbAwNHdzlEQBvZwvkuoABY6axeNVmuS5kshV5zVBGRkZG5ptHNoYyMjIyMt88sjGUkZGRkfnmkR1ospnXUTGs33GQiMhoynuWoE4VLxTZfIjsrv1H8b3uB4C+nj4NalWhXBmP96aZu2Qtndv+j72zDI/q6ALwu5vdjSfEIUBIgAR3d3d31+IUhyJFihV3KV60uLt7cYcAgRAX4m4r9/uxsLBNCAkk0H7c93nyJJk7evbuPXfOzJzTBksL80/mmbd8A2VLFqVB7apZ2t/sZPaStSQkJgJgYWZGz06tyOVg983av3XvEZHRMTSuW+ObtfkpBEFgxfrtDB/QA4CY2Dj2HztLny5tAPDxD+TB4+e0blqP5OQU1m/by0tPb8qWLEqvTq10wX5j4+JZv20vfoHBlC9dnC5tmuqu+QUEs37bXpJTUujVuTVF3Qro9eHm3Udcu3WPsUP76tIuXrvFkdMXsbe1ZkifLunegyIi3wtxZpiFRMfG07LPeGLiEijm5sLS9btZuXl/lrdz+sI13oaEkzunA1Y5LOgycCwXr91Kt8yG7fuIi09IN09AcAgRUdFZ2dVsZ8WG7djbWpM7pwNRMbHUaN6d2Lj4b9b+gyfPufz33W/WXnqcu3yDddv26v7fc/gU+46e1v2/Yfs+zly6DkC3weO4ee8RVSuUZs/hk0yesxyAlBQldVr34rWXL2VLFmX9tr2MmjIXgKSkZBp17IdVDgtc8+ejZbchBIeE6eqPjIqh++BfWLtljy7t4IlzDPllBqWLFyY0PJImnQciCEK2ykFE5EsQZ4ZZyO4j56hdpTS/Du8FQN1q5ajfeQR9OzXL8ijwDWpXpVPrJgAYGxly7Oxl6lSvhCAIXL15Dw9Pb2pULkehgi6pysYnJHDwxHnMTU2pWLYEHp7e1KpagS5tmpI3d06USiXHz16hddN6AHh6+xEVHUO5UsU4f+Umzk65uXbrHgXy5aV65XJcuXEXL19/2jZrgLmZaZaOMyMM6tUZw3fHWx48ec7Dp88p6laQh09fYKiQE5+YSAFnJ2Ji4yhbsiigna0UL+KKnY01j5695M6DJ9SuVpGCLk4IgsCl67fx8g2gZaM62NpYARAcEsbJ81extc5B0/o1MTAw0OtHaHgEx85cxsUpN7WrVfymMmjXZwRXb97D3taauPgEWnYfysOnz6lSoTRvfPzpPvgXnnt40qVtM3z9g3ji/ornfx9DKpXSqnFdXCs1YfKogRw8eZ78+fKyev5Ubb3NGlC4ajN++fknklOUWFqYM2qQ9v6+cPUmz168Jqe9LQDDJ82mR8eWbN97VNevRas3s2XlHCqW1e6GXblhB1HRsVjlsPim8hER+RzizDALufXAnYY1K+n+t7GypHih/Dx58SbL23rx6g1Xb97l3OUbbN1zhAa1qgAwYeZifv19Kd5+AbTtPZzDJy/olUtKSqZmix4cOnGOs5f/pkmnASz+YzMAa7bs4v5jd5KSUxg+abauzNWb99i29wgAc5ato13v4Tx9/oqug8bRtvdwNmzfx9HTF6nXtg8ajSbLx/o5rt26z9Wbd9l54Dg+fgGULFoIb78AOvUfzcLVfxIWEcXlv++wY/8xXZkFqzbx+o0vdx8+pcuAMYSEhdOsyyC8/QLYvOsQ0+avxNs3gDptepGUlMxjdw+qNu3Ccw9Ptu89Suuew/TGmpKipFbLnnj5+DNt/kq27D70TWUwZcxgLh/ZCoCRoYJFM35h78alADjYWfPHgmks+32Stq9KJVKpRGe+l0qlJCYl8eK1F9du3qNlk7q6ek1MjKlfswrXbz/AxSk3lhbmDBg9lVFT5vLytRdV3pnndx08QWh4JEP7dtWVValUvHrjzZlLf1OgQkOKVG1G3ty5REUo8q9EnBlmIUnJKZiYGOmlmZkak5SckuVtHTtziXuPniEIEB0Ti52NNYHBIfy1/xi3z+zByNCQ5g1qM3DMNFp99HDbc+QUbgVc2LluIaBdS/ycifWfLJz+C/VrVaFKhdIsX7+dA5uXIwgCpWu34cVrr1TrSNnN4jWbMZBKSUxKJpeDPTKZdsaWy8GWA5uXI5VK2bgjbXO1t18geRxz0ql1UxrXrYHMwIA3Pn4UL+zKkL5dqFujEkqVijlL1zFheH86tGyMIAi07zuSS9dv6+pJSk4mKjqWZg1q0r9HB96GhqXZXnZRunhhAoLeAlqHDWVKFOHv21rnDqYmJpQqVohnL14DUMA5L6758zFwzDSa1q/Fjv1HUSjkaDQaEhOTMDMx0avb3NyUxKQkvHwD8PTypXTxwpiZmpCUnMKL117Y2Vgzbd5KLhz8U7e2CJCYlExkVIxWKd46xWsvXxq0/4lSxQvhnDf3N5KMiEjGEJVhFmJvY4WvfzDlShTSpfkFhWBnkyPL2xo7tK/OTHrr3iNGTZnLoum/kJiUzIDR03T5/mkm9QsI1pkKAYoVKpimMvx4Xeefazzv3+ytc1hiZan9WyKRkCOHBUql6itHlnkO/LlcZyadOGsJa7fsoVbVCtjb2ug9nNMaU5um9fDxC+CnkZOJjo7l0LaVjBvalznL1tO86yBsrK04uHk5Pv6BbN93lKOnLwFgamKMRvOhPgtzMzYum8X8lZt48MSdJTMnUr70Nxj8FyCRSNizYQnrt+3l0t+3GTmgJ+4vPcmdy4GcDnZ4+frr5ff2DaBp/Zr8ufMAfbq2YdLIgQAUdHFi+bptGBkZYqiQM2XOcpJTUggNj6Tv8F9Zs/A3ZDIZIwb0RCqV4lbAmXo1KnP34TNRGYr86xDNpFlIq0Y12LDrKAmJSQBcvfWIhIQkiro6Z2u7arWG+PgECjg7YWpizMZlMzm6YzWzJo1Itcu0ZFE3Tpy/gkqlVVpnL/+dqj4jQwUJiUkEvQ0FwP3l62ztf1aiVqt1G4U+3sWbw9Kc5x6eCIJAcnIKnl5+ABw/e5mihQpy6dAWGterwf6jZ9i6+zDd2jfn7rl9GBhIuXH3ESWLutGueQOO7ljNoa0rKFeqKG4FnHX1+/gH8vDpc/b/uYytK+eyfP22bzruzCAIAvXa9aVpg1osnTWRxKRkjAwV5HKwo1PrJqzdspvwiChAuwb76NlLalWpgK11Dl55+uheJDw8vbGxsWJgr07MmzaWDq0a06pJPUxNjOnQqjFyuYz6NStz/upNQLtWfev+Ywq7pl7HFhH53ogzwyykVuXS/H33CfU7j8AptwO+AW9ZNXtMlh+tAJgyZzlL1mxBo9EQHBLG+iUzsLayZNq4oVRr2o1CBV149vI1m5bN0ivXrEEtdh44TomarbC3s8HE2AiFXK6XRy6XM7hPZyo06IBrAWc0Gg1lShTJ8jFkFTVadEcqlZKcnIJEIuHUnnX4BQTr5WlStwYzF/5BhQYdMDU10ZlSi7gVoHnXwWzeeZA7D59weNsqgoJDad9nBMUKu+LjF0i5UkUp7OpCi25DOHbmMiGh4VQoU4K8uXPq6s+Ty4HzV25y7dZ9fP0D9dbO/m1IJBKG9etGnda9KOyan5evvdi7cQkAZUoUoX+PDpSr3x7X/Pnw8PRm/eIZGBkZ0q97e9r0Gk7Zuu0wNFSgVCo5sWsdDnY2urojIqMxMTaiST3tUZP508bRsvsQ/vhzJ95+AfTo0JLihV2/y7hFRNJD9E36FXzKN2ng2zAiomIokC83xmn4Lf1a36TBIWFEx8Tq/s+dywEz0w/rPKHhEfgFBFPAOa/uTJeXrz95cjlw/7E79nY2JCQmYWZqwq17jzly6gLb/5hP0NtQzExNdDtCn796g/m7/5OSU3Cws8HXPwh7W2uMjAxJSEgkIiqaPI5apfDxtazic75JX3v5olarATAwMMDFKTcGBgYkJSUTEhaBU55curzJySk8e/maQgWdiYiMwdY6B8bGRsTGxePh6U1BFyedvELCwvEPfEuxQgV1JliVSsXTF68xMzWhoIsToD1OoFKrsLOxRqPR8NjdA+sclnrtZpUcIH3fpEqlEv+gt7g45QEgMTGJsIgondKOiY0jITFJt/szNDwC/8C3FC7ogrGx/lp3cEgYgcEhFHRxwsLcTJcuCAIent4kpygpXrignhkatDNzH/8g8ufLo0tLSEjkpac3djZWunvlaxB9k4pkB+LMMBtwdLDF0cE22+rPaW+re6ClhZ2NNXY21npp7x+Qr7x8GfHrHJbMnEBUVAwzF61m8YwJAKkOqxdx/fCSZPnu98cPeRMTY0w+OjKS1QogI7xXSv/EyMgwVX8MDRW69VLTjzaJmJuZUq5UMb289rY22Nva6KXJZDJKFy+sl/bxzkipVJrq+rdELpfrPmcAY2MjvdmrhbmZnmJL6z55z6fuMYlEkuZxnfcYGBjoKULQ3if/ZsuCiAiIyvCHo1u75gBMX7gaiQRmTBj+n/I4IyIiIpIdiMrwB0MikdC9fQu6t2/xvbsiIiIi8q9B3E0qIiIiIvLD80NuoHkbGo5Go/lqh87vNzV8KeltoBEREUkfcQONSFaS5WbS56/eYKhQpFpET4/b9x+TP19enQ/I7GbFhu3MX7GRpbMmMqh3p1Q74jLDzHH9MXq32zCjjJu16ovbExERERHJerJcGe7cfxw7GyuG9e+e4TJzlq1nxIAe38y5sZWlBZNGDuDuw6fUaHGMPxZMo2RRty+qq0OzOpk+SnDj3lMOnLycbp70jlb8SHzuaMWPQkaOVvwovD9aISKSlWTrmmFA0FuUSiVvfPx5Gxqudy0+IYGnL16RnIbfTr+AYF6+9tJ5uvD1DyIhQRuzThAEvHz90yyXGWytrdi0fDYzJwyj+6BxTJq9lMR3nmNERERERH4ssnU3aeueP5PT3o6YuDieuHuwa90iGtapxsOnL2jVYyi5czkgCAIpKVrFJggCwybO5uK1W+SwtMDIUMGhrSvZc/gkN+4+Yt+mpWzedYitew5zdu+GLOlj3RqVuX1mD7OXrqVCw44smTlBPGogIiIi8oOR7UcrendpTbvmDdl/7AwLV/9JwzrVGPfbAuZMHk3Xds0IDgmjVO3WAJy99DeP3V/y8OIB5HI5E2YuZunarfw6aiAtuw/ll+kLOXD8LJcPb0Um+3TXz1y8zuip8z4ZRDQyKprWTevr/jcyMmTmhOE0qVuD2q17sXnFHLq2a5a1ghARERER+deS7UcrShbVRnAoVawwEZFa578Pn76gfYuGgNbTxXvvH/cfu+PjF0jt1r2p1qwbp85fxdPLF6lUqo3Htm4b44b2/axLp4Z1qnHnzJ5P/gzv3yNVmKF9R8/Qd8Sv/P7rSDq2avTV4z5+/m+2Hzj9+YxfwOQ5yzh+Nv01x3/Sqd9oXr3x4fyVm+QsVkNndv6vU7lxZ3YfOqmXNu63BZy/cjPL2li3dQ+FqzSlcJWmlKzZil4/T8DD0/uz5UZPncfFa7dITEyiatPUvkpVKhV5Stbm2JlLWdLPlBQlzbsOBmDxH5t1fX7/897x+sVrt6jYsCN5S9Wh40+jCAnTLmEcPX0xVZmrN+8CoNFoaNxpAECqPIWrNNW9eK7a+JcuhmZCQiJDfplBvjL1KFa9BX/tP67ra8MO/fTKd+4/BoB5yzfopU+esyxLZCMi8jmyfWb43kn1x86qc+e058lzD8qVKqZdU/TWRhBwzGVP7WoV2LJyLgCP3T1QKpWANqhsozrVWbXpL7p3aKnnizMt/ulr8WPk8g/D9vUPYvik2ShVKk7uXqfnzupL0Gg0ePoEsGT9bto2qfVVdX2KsPBIXWSGjOIf9JYUpZIyJYowb+qYdOXzX8LbL4Bxvy2gWsUyupekkLBw4hMyJ5/0iIqOpV2Lhgzv34Pk5BROnLtM3Ta9ObxtVSo3bh8TEhpOQmISgiDg4xeY6rqBgQHzpo2lYtkSWdDHGKYvXI23XwAAA3t1pGfHViQlJzNs4myc8uTCzsaKNz7+9Bw6gZ1rF1KuVDHmr9xIp/5juHhwMw1qVeXasR1oBA1zlq3H08uXUsUKExsXz6LVf/LE3QOAa8d26Nr9+84DZixcjUaj4eHTF8xfuZHfJ48CYOTkOQA8uXIYv8Bg2vYajmNOO2pXq8iudYvQaDS8euPDwDHTdJaY+4/dmTtlDNUrlQXQ+YUVEcluvsuh+yljB9OuzwgmzV5Km17DdSGPOrZsjPtLT/qPmsLkOcto3XMoUqmUPYdPcf+xO/v/XEabpg34efzMT5pAM4pao2bZuq00aP8Tnds05fhfa75aEQJcufWIwRMXYm5q/PnMWUD/UVM4cuoCrXoMZcSvv+uUQEJCIr9MX0iTzgNYv22vTl4pSiWP3T2QSCRoNBqWrt1K404DmDR7KWs27+LspdQhnf7tTBjen59GTtGLPP+e116+9Bk2iaZdBrJ51yEEQWDR6j+59+gZoH3hGjT2N13+Zeu2cuveo1T1mJma4GBng1OeXAzq3ZmVc6cw4lftwz4pKZkZC1fTuNMAxkybT1R0TJr93L7vKE27DOS3+StRqVRIJBIePnmOSqX+ahnUb9dX91IJWt+rySkpdB8ynmYNarFs9iRkMhl/7jzAgJ4dqV65HMbGRkwZM5i3IWG4e3hiZGSIkZEhwybMxsjQkINbVmBhbkbLHkN5/E4RAtjaWOl+tu09wshBvdix/xgDx0zD7t3xqNi4eI6cvsiSWROwMDejWKGCTB03hHVb9wBgbWXJ3UdPGfHr7+xYu4CWjbUBqL18/cnj6MCt+4+JT0zUOY0XEcluslwZtm5aj3q1qgAwdewQ7G21joDtbKyYNm4ogHYN8c9l5HV0YO7U0Wxe8TuFCrpgZGTIlSPbqFujMnkdc3Lp0FbKlCiCQi5nz4YlKBRypo4dTL1aVYiNi//iPkZGxzDut4W4v/Tk5qlddG7T9OsH/o7aVcpwbtcy6lYvn2V1psfpi9c5c+lvfh01EA9Pbxas3ARot58HBocwbexQ/AKCefDkOQAJiUlcehfMd8P2few+dJKpYwZT2NWFibOW4OOfegbzb6dv17YYGxmyetNOvfS4+ASadBpAnRqVmDlhONv2HObPnQexsbZiy+7DAOw6eILNuw7x4pUXKpWKpWu3Udj1804oWjWpy2svH5KTUxg1ZS5+AUHMnTIaK0sLugwcmyp/aHgEvv6B/DpyIEdPX2TH/mMAXP77DvFZYLK+e24fq+dP1Uubu3wDluZmbN1zmDWbtUcRPF57U6FMcV0eqVRKpbIlefHqDQB//nWAyOgY7jx4wsRZS9BoNFw8uJntq+elavPVGx/uPnxGx5aN6dmxFXfP7aNSOW38TG+/gHfxNT9YcCqXK8WLV16A9mXtt/mryJfXkWETZ3P/sTsAXr4BjJ46j7OX/6ZBu5/0TKsiItlJlptJP46i3qJRHd3fFuZmev+XK1Xsg4npo/hmxsZGdGmrv3mlddN6Hzosk9GjQ8uv6mPHVk2oV6MydapX+qp6/i1M/+VnbKxzMGF4fxas3IRarebA8XP4PbyAiYkxlcqVTLWuBrDz4AmWzJxA5fKlqFqxDOcu3/gOvf96JBIJaxb+RtWmXXQvYqANXGxmakJycgr3H7tTvnRxtu45zMHNK5i5aDVLZo7n6OkLjBjQg4MnzlKxTEnKliyqC+OUHoIgoNEICILAtr1HmPPrKO48eIKDnQ13HjwlMDhEL38OSwsmjhiARCJhSN+u3H/sTq9OrbNcFh+zYs6vgHbmWrFhR2pUKY9UKiUto4pUon0vHta/O8P6d0ej0dC293AOHD+nW9//J8vWbWNw784oFPJU17TtpG5IKtUul5iYGHPzlFZB33nwhL7Df+X+hf3MnTKa7u1bYGioYOTAntRo3p3ObZp8lWMMEZGM8EPeYSWLuv3fKEJA9zBSyOVoBA2CoH1Iv18blUgkaXrJUSpVemsyacVe/K+Q096WxTMm0GfYJJRKFaDdUGJsbIRCIUehkFO0UAHGDumDVQ4LShRxY93WPVjlsGRgr04cPH6OfUdP06FlxjZP7T1ymmKFCyKTGaBWazA1NdG1s2jGL6nWtOUymW7dXKGQo9F8nZn/c0ybt1JnMjcyMqRooYJ4+fhTrHBB/r7zQJdPo9Fw894jirjlZ83mXbz28gW0yqxcqWJ6ptePCY+I4sCxs/Tr3j7N6y55c+Pl668Xd/PG3YcUcSvAGx9/Vm38S5depkQRfPwDCXobSnRMrO6edMqdi8SkZFJSlF8nDBGRDPBDKsP/d2QyGXWqV2LqvJWER0Sxdc9hnr8zg31MswY1mb5gFcEhYfx9+wH7j539Dr3NOlo3rUfxwq4cPqXdzVivRmWC3obilt+ZVo3rcvfhMx67vwS01oGJs5bSukk98ufLgyAIHDl1keYNa6dZd0RkNF6+/rx45cWSNVsYM3Uey3/XrsM1a1CTt6FhtG3WACtLC9Zu2fPZDV7ZjV9AEL/+voyw8EjOXLzO33ceULlcKfp2bcvmnQc5ef4q4RFRTJm7HGen3BQq6EJ8QiJjps4jIOgt9x+7s3X3Yep/NNP+mHXb9tChVSOsrSzTvG5iYkzXds0ZNHY6gcEh3Hv0jBkLVjO4d2fsbKxY9MefHD198V0fVlC/VhVsrHKwbusetu09QnhEFLMWr6FCmeJZGixaRORTiMowm7C1ssTGyuLzGb8Ax5z2WFpog7QWds2vMz0ZGxvhnDc3AH8smMprLx+qNevKE3cPOrRshKFCgUIuo6BLPgBGDexFHsec1GrZk2XrtjGgZ0e9YLX/BYq4FdDbqbx45ngqli2JhbmZdoPHqrlMmLWYSo06I5FIGDWwFwAtGtXGNb8TrZpoTfC9O7ehQ6tGaSoxWxsrzl+5SbveI+g9bCIvX3tx9dh2ShTRuvBbs+A3Xrx6Q/n6HVi1aSfrl8xAKpWSN3cuzM1MkUgkFHb9EBA3h4U5jjm1TuILujilaWb8EmQyGa75tZ/t0tkTUanUVGvWjTnL17Nr3SJsbaxwzGnPoa0rWbhqE9WadSUoOJSdaxcCMGJADyqUKUHDDv0YPG46c6aM1i17fDwGjUbD1Zv3GNYvtcvF3LnsyfHOzDx38ijyO+ehQfufGDxuOgunj6NqxTKYm5lyYPMKVm78i6pNu/I2JIw/5k/DyMiQQ1tXsfvgSao27cprL1+2rJyTJbIREfkcP2TUiqxC4ViSF5f+yvSb6+jpyzlw8nK6UStE36RaRN+kWkTfpB9475tUlIVIViLODEVEREREfnhEZSgiIiIi8sMjKkMRERERkR8eURmKiIiIiPzwiBtovoL3mxq+lPQ20IiIiKSPuIFGJCvJdkfd/+88OL05zQPt6TF6+nJOXkw/qoKxsREKedZsuf8vEx0TmyGPMP/vvD+8LsoC4uMTUKm/3p+riMjHiMrwKzE2VGT6aEVGPL0c+HO5eLQC7Sw59MX1792N7857a4Eoiw9HK0REshJxzVBERERE5IdHVIYiIiIiIj88opk0GwgJj8TLN5CCznmw+YTvxq/Bxz+Q8IgoQBsgtohr/ixx6fU2NJyAoLeULVkUb78AcliYk8Py3+2e7dGzl6jfrR9ZmJtR0MXpq+uMiY3jibsH1SqVJTA4BJnMAHtbGy5cvUnVCmX+tb4y4xMSePD4OTkd7PTkIAgCj909SEhIpFSxQpiYGBMVHcMbH3+98pYW5hRwzosgCDx48hxBEChTokiqiBERkdEEh4ZR1K0AwSFhqSJ0ONjZYGVpwYvXXro0AwMDShUrBGjXPx+7v8QpjyP58jjq8rxPd3HKowvULCLyrRCVYRaz/8Ql5q7cRhFXZ56/9mb2+IE0rFkxS9uYs3Qd12/fx87GhuSUFCIiozi7b+NXP0A27tjHnkOneHjpINPnr6JVk3p64bP+jTTq2E/rn1UiJTgklLIli7Jt9Tw9f6WZ5dDJ84yeMo/QF9f5Y/MuHGxt6N6hBc26Dubo9tWfdF79PXn64hXNugzSRoXw9qN9y0b8/utIEhOT6DJwLH4BQdjb2fD6jS8Ht64gOjqW3xas0pUPCHpLscIF2bNhCW16DSMqJhaZgQFSqZSTu9ZiYGAAgFqtpn3fkURERvHw0kEuXL3FnzsP6Orx8PSmV6fW1Kpagd7DJupiQ1qYG3xU9AAAIABJREFUm7H/z2Vcv3Wfjv1GU6p4IV68esPw/j0YObAnj569pE2vnylfqjiPnr1k6rghdGvX/NsKUeTHJsjfUxD5MuS5SgieL58IAT4eQoCPh+Dj+VzIWbSacO3qJSHAx0M4dfqkUKhSI9319z+d+v4syHOVSLfec5dvfPL6wDHThF0HT+j+nzp3hTBp9hJBEAQhJSVF0Gg0QnhElKDRaARBEITomFghOTlFUKvVglKpFDQajZCSkqL3o1arheTkFCEiMloQBEHo/fNE4eDxc1khpq8iPTkJgiA4FK0uJCUlC4IgCEqlUihXr51w+/5j3VhTUlKEmNg4QRAEQa1WCxGR0YJGoxGUSqWgVqsFQRAEjUajSxcEQVCpVEJoWIQgCIIwec4yYcX67YIgCMLb0DBdHkEQhJjYOD25ZifyXCXSlUX7viOEDdv3CYIgCLFx8YJz2fqCr3+QsGztVqHLgDG6sW7dc1io17ZPqvKtegwVdh44Ljx57iFUbdpVN86GHfoJt+490uWbv2Kj0LBDP6FUrdap6lCr1UKRqs2EB0+eC+u37RUmzFycKk/15t2EY2cuCYKglWfOYjWEuPh44ecJs4Qtuw8JgiAIHp7eQoUGHT451uGTZn/2vhARySzizDALSU5JYUivdrg4aU0/To4OxMTFZ2ubGo2GsIhIXbQCt8pNKeKWH08vP55dO8KA0dM4fu4yNlY5KF+6OIYKObMmjaRa064ACAj4BQRzYPNylCoVR09dZNPy2dna5+wiPiGRpOQUrK1y8ODJc3oMGY9cJqN65XKM+7kvrXv8TExcHLkc7JHLZYwd0oeqFcrQuFN/NBoNhoaGnNq9jpevvZg4awln923Uq79qk67cOr0baytLho6fyb6jZ7CxsqRyuVKkKJXsWLPgO40c6lavRNtmDQAwMzXBzsaKmLg49h8/y7wpY3Smzm7tmjNp1hJCwsKxt7UB4OVrL54+f0W7jQ1ISEwiMiqaC1dvIZfL8PUPJN+7SCgPnjxny+5D7N6wmG4Dx6Xqw7Ezl8ibOxelixdmz+FTxMbFM+SXGZiZmjByYE8cc9rTslFdGtauCoCdjTVymYykpBRKFSvE8TOXKVOiCEdOXaRYoYLfQmwiIjpEZZiFmJoY81NnrWlHEATm/7GD1o1qZktbQ36Zwegp80hOSUEhl/Po8kHdtX7d29O2WQN2HTyBb0AQvg+08f1a9fyZvI4OONjZ8PrOaQAW/7GZM5f+pmHtahw/dzlb+prduJRrgEQiISYujiZ1a1DAOS/3Hj0jMjqGBxcOkNPeli4DxtKjY0vGDOmDl68/5et3AODi9VsUcHZi57qFrN2ym6fPX+mCIn+KY2cu8djdA+97Z5HLZXTsNxoTY6NvMdRPMrhPF93f+4+dAaCIa37CwiPJm/uD+fx9aKmwiCidMly6ditDf+qKXC5HplRia2PFsImzkMtkWOWwxNTEmMTEJH4aMZm1C3/DwswszT4sXrOFCcP7AeDjF0B4ZDQTR/Tn6fNX1G7Vi/sX9jPu5766/H/8uYsSRd2wsc6Ba/58jJ+xCB//QHz8A5kyenCWy0hEJD3E3aTZgFqtZtqijfgFhjB2UNdsaWPJrAm8unUSnwfnGPdzX375baHuWq0qFQBtZPEubZthaKjA0FBBt/b6azC7D53kr/3H2L1+UZbF1PsePLt2lFe3TuJ97xxxCQkcOnEegCKuBchpbwtoZdG7cxsAXJzyUKe6dh23dtWKBIWEUr5+e3wDgihToshn27tx9xGdWjXGxMQYuVxOj44ts2lkmWf3oZNMmbOcXesXI5VKMTUxJjo2Ti9PTGycTnmHhIVz+OQF+nZtC8CyddsoXtiVZ9eO8ujyIepUr8jCVZuYuXgNtjZWREbHcO7KDWLi4jhx7oquztv3HxMZGU2jOtUB2LBkJoe2rKBW1QoM/akrFcoU58ylD2ckV2/ayYbt+9i0TGuF6PXzRM4f+JObp3bx8sYJlq7dil9AcLbKSkTkY0RlmMUkJacwdPJioqJj2bBwQqa902QUQ4UCExNjTE1MaNe8ITfvPdJdMzDQfqw2Vjn0dvr5BQTp/r5y4y7T5q3g8LZV/3mvJibGRpiYGGNjnYMmdWvoZPE+6DGAjZUlAe9kIQiC7kEbERXNxqWzOLFrLb7+QazZsvuz7X1cF4Cvf1A6ub8dS9ZsYd7yDZzdt5H8+fIAULdGZfYdOa3L8/TFK1QqlW4X55rNu+narrnuHgiPjMY1fz7dBiTnvLkJDY8kl70t+fLk4vDJ85y5eJ2Y2HiOnr6oq3fp2q0MH9BDV655t8F4+vjprsfGxaOQy9FoNEyavZRdh05wbv8mHOxsEASByOgYCjjnBcDczBQLc1MioqKzUVoiIvqIZtIspveoWXj6BNC7Y1M27jyGkaGCPp2aZXk7R09fxNc/CI1Gw4nzV2jXomGqPD07taJqk65IpVIMpFI27thP3eqVCA4Jo12fEXRu05RjZy4BULVimSzv47di8ZrNyAxkJKeksG7rHvZsWJIqz5C+Xek6cCxD+3bh3iN3fPwDAe0uyrHT5jPu55/wD3pLo7rVP9te13bNKV+/A8ZGhpiaGLN+2z7Kly6W5ePKDL8vXcvMRWsYNagXf+0/DkCvzq0YObAnNVv0ICExidw57Vm+fjtzpoxGIpGQmJjE+m17uXpsu66eXp1a07zrIBKTkpBKpPyxeRcHt6zQRbwH8AsIpkW3wfyxYBoA3n4BXLt1n41LZ+ny9OnalvZ9RjCsX3eevnhFcEgYDWtXY+TkuWzedZAxg3uzccd+AIb07cyAHh1o0X0InVs34cbdh5ibm1GyqNu3EJ2ICCAqwyynRqVSVCtfAo1agwYNKplBlrfRolEdHj17gVKlBGDUwF60alIXgDGDe2NkqD0H55w3NxcObmbH/qPksrdj78alBAaHIJVKGDWoJwDhkdrzisnJKRRxLYDs3Rb6Ns3q41bAJcv7ntWMH9aPxKQklColcpmMY3+toWRRNwKDQ+jdpY0u30/d2mFnY8Wt+49p16IhzRvWxq2AM24FnJkzeTQXr99mYM+OdGrdhKC3ofTq3BqAejUqY2piDMCoQb0wNjLExjoHl49sZdueIyjkcvZsXMKbj2ZB34MCzk5MGTMIQHdfCALktLfl7xN/sXnXQULDI9mxZj4Vy2pduwW+DWXmxBE4v9sgA1CyqBsXDm5m18ETKNUpnN6zgcKu+veBhbkpQ3/6YP4PCQ1n9fypGH+0btq9fQvyO+XhxPkrFCtUkPnTxqJQyClVrJBuXfF9PwHmTxvLoZPnufPgKdUqlmVtx1ZfdTxGRCSziFErvgKFY0leXPor04ewR09fzoGTl9ONWnFy1zrRNylaWYjRCT74JhVl8cE3qSgLkaxEXDMUEREREfnhEZWhiIiIiMgPj6gMRURERER+eMQNNF+J+2ufTB+feP7K+7N5Hru/xNbG6gt79f/Fo2cvv3cX/jWIsoDH7h7fuwsi/4eIG2i+gvebGr6U9DbQiIiIpI+4gUYkKxFnhl9Bdn0ZxS+5iIiIyLdFXDMUEREREfnhEZWhiIiIiMgPj6gMRURERER+eERlKCIiIiLywyMqQxERERGRHx5RGYqIiIiI/PCIylBERERE5IdHVIYiIiIiIj88ojIUEREREfnhEZWhiIiIiMgPj6gMRURERER+eERlKCIiIiLywyMqw+/Ams27KFK1GZt3HfreXfnX8zY0nFzFa1K0WnOWrt36vbujhzpZSej5x2hU6u/dle+COjGF0AtPENSa792V74I6MZnQi08QNF83fk9vP4pWa45z2fqs2vhXFvVOJLP8XyjDA8fPMn3BqgzlnbtsPUFvQ7O5R59GEAR+mbGIq0e307tza126JkXFzRa/IwiCXn7vdWe40XQWN5vOwm/75WzrV+Sd14Sez7poGQ8HriH+zduvrkcQBMxNTXG/foyRA3vqXYt+6MWzcVv00vz/usrNFr9zs8Xv3O+9gpgnPunWH3r+sS7/m+XHM9W3+FdBPJ+0g6SA8EyVSwtlVDx3Oiz46nrec7/3ChL/0a/343z/k+CTue/Bw/6rSQmP1f0f+8Kf55O2k/Q2KsN1+O+4gu+Wi5lq91NE3HjJi6m79NJ8Np7nZovfudXydx78tIrYlwFZ0lZaxDzx5fnE7aSEaWUS6+6nk637hG1plvHdchG/HVf00go458X9+jH6dGlDUnJytvVXJH2yTRl6+foTGxevl5aSouTFK69UeZ8890ilBDKCWq1GpVIRGxdPaHhkqrY0abyxHTp5nsjomDTrS05O+aJ+ZBaJRIKNdQ69NEEQSPLXf3jFPPUl5PRDKu4fR/ndYwjYeS2VgsnsW6kgCGiUqlTp8a+DiHnim6ky6ZEcHImgTD1j0mg0qFSZq+tTaJKVJIdE66WpYhLI3aEqlQ5PwHlQI56N059NalRqvbHY1ilOxYPjcRnciJSIuLTbUarSvC8sijtR4+ZcTPLZZ7zP79rW/EM2gkYg0T8iw/V8juSgSIR/zFgrHhxP3u41sa5SiIoHx2PsZJuqb2mN8316UnCU3iwwR5n81LgxF2NH60+W+SfKmASUUfGp0r8EdVIKyaH6n78yOh6n3nWoeHACebrX5PmkHXrXP3UvC4KAJiVz96VVRVdq3JiLob0lAGZF8lDx4HiKzO6W6r58jyo6AVV0QqbaEfk2ZFs8Q1//IJp1GUSvTq0Z0rcL5mamaDQaeg+bSKGCzkwcMZDCri4A7Dl8iv6jpjJp5ABaNKqDRCL5bP0HT5xj6C8zccmXB+e8jljl0N6QUdExdB88Hm+/AOITEpk8ehA/dWvHhu37mLd8AwHBITTpNACFXM7Qn7oycmBPPDy96TpwLBqNQFx8AhuXzaRG5fLptn/qwlVUHz1sHHPaU7Zk0c/2WyKRYGJsREJiIqYmJrp0qUKGzNJEb+zJIdGYuTliYGwIQLGFvVDYmAMQecuDlzP2IpFJkVuZUXxJHxRWZvhsOo+BkYI8XWsA8Hf936h67jdSIuN4+NMqTPLZE/8mGIWdBSVXDkCTrORel8Wo4pIQNBpCzzxEYW9J2c3DSImI49HAPzDJn5P410EobC0osfwnVNEJPOizkooHxyNVyIi664nPpvOUWj1A13eZmREGZoapxt9z6ASu3LiLz4PzGfqc08PAzBgDU6M0hAwSqRTL0i6oEz68afttu0TQwVtI5AaYF8pDoWkdkRhIkUgBaer3Qo1KzdNRm0j0CcXExYGk4EhKLO+HkUMOnk/+i+j7b1DFJlL51BRk7/rhtfoUhg6WOLargkap5laL36lyagpBR24Tdv4JCT6hWFVyJfLmK1x+boJ9g1I6ecnSkNeXy8YolWykMgPtOCUS7d/veDJyEzJzI+JfBZMSEUvxxX2wKO6EJkXF46HrSA6JxtQ1F2g+KLdn47cR+8QHVWwiVS9MRyrXPkqSQ2N4Nm4LqthE1PHJFBzbCrv6H4JVy8yM0CRnzcuQzMwYmVlan78EiYGUHGXyo4pN1CXfaDIT21rFiH7oDYJAyTUDUViZEfPUlxdTdiKRSdGkqCm2oCdmbo5E3PTAY8YeQPuyoklWUu3iDACejtlM3HN/lLGJ1Lg6+12zEiQyAyQGn55jGJgZ6cle5N9Dts0Ma1WtwM1TWhNGlSZdmLd8A4IgcOPkTto1b0if4ZPo9fMEXnv5MnPCcDavmMOBY2ep0qQLx89+3hw4adYSjmxfxfXjO3DK46hLf/HKixaNavP06hFund7FuN8WIAgC/bq359XtU5Qs6sbJ3et4dfuUzux2/7E7syaN4P6F/aycO5lp8z5vcr126z6Xrt/R/bh7eKabPzYunj2HT/HHnztxzpsbYyP9L7FEIqHI7G6pC36kL8yL5EFuqVWgL2fupdjCXlQ6PBGrCgXx26w1PWlSVHpvvqq4dw8DAZKCInGb0oGKhyYglRkQftUduaUJlU9MxnlwIxzbV6XyicmU3TyM94US/cNxndCGCvvGYWCsIPTcYwztLTHOZ0f4FXcA3p64h22d4nrdzj+yBYZ2lqmG07Vdc375+aevVoQAJs52OA9okCo97PIzXi86wuPBa8k/vBkAyWEx+O+8Rrm/RlN+1xiU0fGEX3uebv2RNzxQxydT8dAECs/oQnJgJLyb7RSZ1ZXKJyYjkeu/T2qSlXqzvvfyF5RqzIrkocCoFiiszSkwqjlRd17r8kkVMgr91vnLBJEGBce1Rp7DNEN51Ykp5ChXgPK7RuMyuDG+my8AEHrhCVKFjIqHJuA2qb3ejK7YvB5UPjGZf8794l8FkrtjVSru/4WSqwfgueSo3nXbOiWwa1CSrMDMzZG8veqkSg89+4jXi47wZMRG8o9orktXRsXj2KEq5XeNxrJ8AQL33QC05s1Cv3Wiwt5xOPWti++m8wBYV3aj8onJVD4xGdt6JbBrWFpXV/FFvbXjz6TFxK5eyVTfFZF/B9ka6d7C3Izxw/vRpH5NWnYfQoPaVSlbsigtG9elXs3KdB88nk1/HeD3X0dS2NWFP1f8ztotuxn32wKaNaiVbt0RUdEUdSsAQKGCLtx9+BSAcqWK8uK1F78vXQtAUnLKZ/vZqE51duw7yu+P1xISFkF8wufNGLMmjvhsno9JTk7h6fNXhEVEUtDFKU1lYFOtcIbrSwmPw8xN+xJg6uZI+KWnny0jtzRFYW0GgLGTnd6s6ZNlcpiisNKWydO9JjIT7ezFsW1lgo/cwaZmUcKvupN/ZHO9clYVCqZZX9P6NT/bZkaRmRphWdolVbpxXlusKhbEwETB25P3ydW2EsrwONAI+L170CujEz5pynqPKjYB43x2SKRS5JYmKGwtvqq/Eql2xiIxkCAxMEhl4s7M5/85rCu7ZSq/ibPW1GvsZIv6jPa+UEUnYJI/JxKJBIW1GXKrzytXy7IFeHvsLt7rzyIo1agT9e8x4zw2mepXesgtTZBbOqVKN3G2J0eFAkikEkJO3cehaVnd983ERTvOnC0r6MyVtnVKEHLqPpG3X5HkF446Qf+ZEXT4NgmewZRY2f+r+2ySz+6r6xDJHrJVGXp4ejNv+QY83njzx4JplClRhLj4BNZs3sX2vUfp0bElg3p3QhAETpy7wrwVG3DL78yR7au/uM0Js5aQkqKkS5umSCQS5ixb/9kyrXv9TMeWjaldtSI+/oHcuPPws2Xa9BpGfMIHE0yd6hWZOGLAJ/Pb2lgxY4J2xuVYvBbxCYmYmZp8Mr+Oj169E3xCUNhYpG0a0isjvPv1j/d2ySf+To+PlLZV+Q8KzqZWUV7NP0jw0TtYlsmP3CIDY/lGmOZ3wKZGUWxqFOVOhwW6tTiZhTFW75SEVWU3jD7zYJYYSPXW3TK8a1Qn9+xff84y3n/OXzljfzl9N0a5bbCpXhhNspLAfX9nQecyh6lrLmxrFsO2ZjFuNp2FMiJOt7zwfnzmhXID2u/Iw36ryDegIRa5rYk1NSLypoeuruhH3vhvu0zpTUNF8+b/OdmmDA+fvMCCVZv4ddRAGtetjkQiISEhkapNutCrc2uun9ihWzMbMHoqGo3ApmWzKeiS+k0vLaxzWPLs5WsqlCmB+8sP5qZXnt4M7NWJqhXL4BcQjPIfZgwDAwNiYvQ3Srzy9KF9y0Y42NkQEZX+bOE9K+b8yse6xsT4MwrqIxISkzKUX2FtRvybYO1mBLXAk+GbKLawF2auuTC0Myf2RQAWxfIS9zIAxTuTpMLajJhH3giCQMKbt8gtM2YqkxhIP5hUM4BULsOhWTneLD9OkVldM1zu2JlLvPH2Y/iAHhku86Uk+oeTEh6L3MIYwdQQVVwSZoVyY2CsIHDfDQxMjTB8N9uTKmQoI+MQBEE3izArnIdX8w8RfPweKSHRGdr4obAxJ/51MABxHkEobL5uNgkwYeZiCrvm19t9/C2QWZoQf/kZgkaDMioe5Sc2GH1Mgk8oebrVxKK4E3EvAzPc1msvXybMXMTq+VOxt82a2WP8m7eo4pMwMPn0WqygUpMSGoNdvZIYGMl1nx1o1+xfTt9N8cV9MvWyJ1XIUEYnIKg16a4fZpSRk+dQtUIZOrZq/NV1iXyabFOGdapXpGVj/c0wCoWcG6d26m0cAVjw2zgsLcwzVf+8qWNo3XMYTnly4VYgHzntteaHEQN6MuSXGSxdu5XCrvlxyp1Lr9zQvl3pMWQ8giAwY8JwurZrxuTRg6jZogcu+fJQ2NUFC3Ozz7afxzFnpvr7HkEQUGvUqFRqFIr0vygWpZyxquDKzWbaBfpcrSpi5qodj9vUjrhP2IZEAgo7S4ov6g1AzpYVCb/izu3W8xCUKgpN66itTAIyc2Nd3QZGCt2mBwCbWsUIPnybG01nYV44N8UX9wEkyMw/rbTt6pUk+MgdrKoUyvD4dx08wZUbdxnWv3uWrBv+E6mRHL9tlwnYdR2JTKq3dpanW03udlmMVG6AibM99k3L6spZV3Ej6MBNnaxLruqPqYsDxeb3JOL6CyxKOaOw/nCP3mw6CwHtbt477ReAREKlwxPI1b4KT0f9ya3WcxFUagpN66Ttl1yG1FCORGbw7rdUtzEqPRITk1i5cQdXjqS9VT8z3Gg6C0GpQtAIhF91p9QfAzDJZ4/MxFD30JYYSDEw1fbLrm4Jgg/f5laruZgVcsQ4ry1IJGhUam61nKPNL5Vo/5ZIqHJiMk596uI+fhtGua0xL5IHmXnGlMiZi9d5Gxr+1YrQwEiB95rT+G48j0RuQKHfOmFgrABIU6FJ5TLtfdFpIUaO1hjlttaNP/LOa5RRCTwask6Xv9z2kRgYK7jdbr62vKGcG01nIZUbUOnwREBrmbAo5sTN5rNBIqHQ5PZYV/0yE3hkVAxrNu9mSJ8uX1ReJBME+XsK/1XUarWgUqlSpWs0GkGpVGZJXdnBsImzhcJVmgp7Dp/KUH6NWi1o1Oq0r2k0aaer1J+8llV4bzwnvFp4OFNlNBpNpuQc9DZUMM1XVqjTurewftvezHYxdftqtaBRpS3LtFCnqAR1slJICo0WrtWeIqRExWesnUy0kR4Xrt4UqjXrliV1fSlqZea+FxqNJtNl2vcdIezYdyxTZbISjerT37HsxtsvQKjTureQv3wDYeGqTXrXDp88LzTu1P+79OtHI1vXDLMbaRrb4UG7M1Mmy9zQPlVXdrD890lERcdkuI+SdPr2qdlVVphnPkfMYx9chjbJVBmJRIKBQcbXXuxsrPC4eRIgY2usn2s/k5+z76bzvD1xH6ncAKd+9XW7eT/bThbJPyExialjBmdJXV9KZtfK3h8xyAwuTnlo1zz1zuBvxbf4vnwKRwc7tv8xDyCVVUqpUqW7F0Ek65AE+XsKOXPn/979EBERERER+W78X7hjExERERER+RpEZSgiIiIi8sMjKkMRERERkR8eURn+n5LoF0ZKROznM/5LWL9tL+XqtaNcvXYEBod87+6I/AfQqNTEPPX9Js71vzcxT31J8A3LcP74N29Rxmb83PCn6Dv8V8rVa0fb3sO/uq5/O6Iy/MaEnn+cKoSNKi4J90k7uN1uPo+HbchUSJxP8Wz8NrxWn0qVHrjvBsqYjHnNfzx0HQ/6reJBv1Wok5Wprse+DODlrL1f3VfQxi1s06wBV49uJ6e9fjQF77VnUvkRfTZuCw/6reLRoDV4rT6VKgrE9yDRL0wnrxfTd2eqrDI2kcdD130+YwZ5Nm4LScEfIrkkBUXyoN8qYp/7A9pQQlF30/en+yUE7LnOg36reNh/Na8WHEL5mQgNYRef6mTm/4/QRhE3PdIN9xR15zX3eywjKSgy1bUnozaRHJZ2dJrM4rnkKFEP3uilPRqi/W48GrwWn43nvzqmYXrEewbzau4BFDbanaY+G87qZBZ5yyPNMo8G/kHAX1cz3EbS26hU4dAAVs+fyl9rF+Lh6f1Fff8vISrDb0xySDQJ3vozH6/VJ1FYm1FuxyhsahTh5fQ9X91O6fWDcf2lTar0gF3XMhxCxu3X9hSe0YX4l4F6EQveo45NIu5F1sWLU8jlmJgYpzrmEv/mrV4cPdC6yXL7tT2uk9oT+9yfgJ0Z/+JnF4Y5c1B4Rhec+zcgzt0/U2UFpZqo+6nDm30pMY990Hz0AqNOSiHueQDBR+4AkOgTmmWhlD4mKSAC68puFJ7eGZmpES9/S/+lIEeFghSe0QWb6kVSzXyUEXGpvisfY1XZjaoXpqcZQirmkTdCJkMyfYo4j8BUsop55E2RWV1xHd+GiBsvdHLNDuQ5TCm5eoAuMkqutlUoPKMLCmvzT4Ydq3BgPE5962W4DU2SkuhH3qnSjYwMUwUV+H/lP33O8L+IgalhKvdQib5h5O1VBwMjOTlblEf+zjG2IAj4bjxH8NG7ADh2qEre7loH5o8GrcG8eD7CLjxGbmlKsUW9UVibEXXPE4/f9wOQp0sNHNtXASBw/w38/7pKom8Yj4euQyKX6a4nvY3i5W+7SQqKRGZmROHpnTEtkBOj9w+ZT5zBMjBR6Lx7fExYeCRVm3Zl6E9dGDGgZxolMykzE0WaLrUMHXIgMzHEtnYxXZzHyDuveXv8HinhMST6huHYvgp5e9Qm6W0Ur+YcoMTSvoA21JJFCSdsahQlwSeUF1N3ooyKR2okx3VCW3KUyY+g0fB6wWEirj9HEMC+YSlcftb6vI1+6MXrRUfQJCsxc82F2+QOGBgrMHa0/uRDOGD3Nfz/ugqCgHnRvBSa9sE7ioGJIQYmqWX55TIzTOXhxqxwbqLuvk41i04MCOfljL2oouJR2JrjNrUjRg45eDJ8I8WX9eXNsuOYF82DeZE8BB28pYsE8ilk5sYYOVrj1KcONxrP1KUHHbqF/86roBGwa1ga5/4N3oWuMkKew5SkoNQWkZSQaB4O+IOkoEjydq9J7k7VAXg++S/dLLfCnrGpzglq5Zk1IbEMTFMEAuO7AAAgAElEQVTLEgkY5bQCwKZaEZKDtX0Pu/SUiOsvSPQPJykwgry96uDYtjKgtcr4bb8MGg12DT7cS3EvA3k5YzequCQMTI0oNKUD5kXykOAdwtMxmwGwb1ga54ENAXTO9tMaX+i5x3j9obUIuQxpjF29DxFCAnZffyd/DfaNyuA8pLHunHJaz6UfDVEZfmMsS7lg4vQPz/Uf+cM0MDbUxbhLCook0Tec8rvGoFGpudNuPnb1SmKUy4oEn1Byd6qOy9DGeC48jN+WixQY1QKLUs6U3TYCv62XSIn88NaYs2UF7JuU5X73pRSd2wOjPDZI5dqD0WEXn+LQrBw5m5cn+OhdPJceo+SKfp8di1FeW3K/i5v4MaYmxtSvVYUirgW+VEx6ODQr90Exf0TgnusgaEMNvXc7p45PIuaxN+V2jEKjVGllVr8UgkZDot+HmUdyaDSq2CRdPba1i+PUpy6xL/yJdfcnR5n8JHiFEHHjJRX2jwdBwHfTeVRxScjNjXkxdSfFFvXBzDUXr+YfJGDPdZzSCCf0HkEQ8Fx6jCqnpiKzMCZw798kBUZgWkDr1s/ASE6BEc0/WT6z5OvfIFWUCUGlJkf5gqlMa56LjpCrVUUcmpYl6OAtvJYfp8jsbqiTUlBGxKGMiCP2mR9SQznSNF5+PoVEZoDwzqKQHBKNz7qzlN89BqmRnIc/rcKqQsE0o458jDI6gTKbfkYZFc/ttvNwaFEBmYkhbr+2RxAE/q73W5rlnAc10nM/+DU4tq2s+5x0aAT8d1xBnaQk7NJTis7pDoAqNonYFwGU2TgUZUzCu/uvJBIDKZG3PCi7dThShZz7PZZiU6s4liXz4bfjMrnaVMaxfRWiH3oR/+Yt5kXyYJzXlrLbRhBy4j5xLzNmgbGpVQyrqoXwXHhYL5ajMjaRqHuelN02Aqlcxr1uS7CpXRyLYnkBbUSbtMKh/UiIyvAbY5LPDjIYxsXY0RrHjlUJPfsIAQGpQoYqJhFyad9ILUrmQyKRYFHaRRfCSSoz0P7IZXrrGFK5DKlchkQqxcBYoQvFBJCrTSUirj4n6MhtkgMjUWVwTVFuboxdnRKp+21sxOr5UzNUR0b4OFrGx0gVcpBKEJRqkoMiMSuo9dtqWjAXBsbaWatT77rwmQ0WJi4OBO67gUQhw7xwbnK1rghonW6rE5LxXnsas0K5yd25OvJ3D9jkt9HEPvUl9qkvmiQliZ/Z3CCRSDB2suXNiuNYlnbBpnqRVAo+Z8sKGZJHRnD4yO/qP9P9d17DwEiuS0sMCCcpKJKgg7dIDonWvTSYuDiQ4BuKgakh6qQUEn1DUyuFDJIUFIn0XTxM0Pr0TPQL/6wyNC2YC6lChqG9JQprM1SxichMDP/X3lmHV1X/cfx1a/euuzc2RjN6xJDubqREkBYQscBA/BEqFgIqIakoIQKClDTSnYONBWPd3btxfn/cccZ1g40wOa/n4XnY95xv3nPO55uftziifpB7W7feDxfnfhQe5FdUrlEZfbUWFFOUlCnKU1nV9DCW2ckG79EdEHQGVDYW+EzqStrxWwgGAzKVUlyusPB1IXHXBQxaHdZ1vcXfTqaQo7RQIzer/GdarlIgVynK6GyqrM3xmdCFtGM3EQQDcpXS5D2XqxS49gx4pHb5ryGtGf5DEErkfgS9QdwFmnLoOuGf70CmVKBQq5DJ//DmPyU/10HT15ATEodCrUKuVlUc4R+CW//meA1rTfUZ/Yj58b7NF/d9Ib1eaFtqdO43ivf912NwS6q/1Q9DQRERi3aJ08wqO0uarH8VjZs96adCuPD856U7dGX3pm/NsG9RA/eSqbCH0Xj1VGwbVSU3JI5LLywm+0bUY9f9cbGuV4W8iAQTAWgorYuFrzO+U4wu9iz9XMi6dAe1q1ERJT8qBctqrpXOS/jDOrNMIRfz8RjcEtuASni+MpEde/qO3R8buQyPQS3xGtGGqq/0IG7zydJr9xXTZ2wn4/LFlTsEv/sjyGRl3uUqYzri+3I3dDkFhH60lTtf7Xnqxc28FEHwrA3IFCX5K/5BbfkPQTKG/wCUNhYUxhk197KDork+ZZX4f+dODXDt2QSnTmXVwQvjjbvoihIyUFSkcXgPhQzDH9a0sm9E4zOuEy7dGmNZIhh8P3KlAn1BxSLJ9zAYDKzduJ3b4U9vQ8jDKIhOrXC9TWltjjYjD31BMYIgUBifjtLGOMpLPx2C2t0On/FdqD1vOFlXjOUuTMggLywRj8EtqT1nKOZeTuIIUGGpwa55DVy6NUbj4YChuHSzikwhR19YbLLlX19QTOrvN3HtFUD1t/rh0r0xObdiKlW/xd+uZ+uuA4/UJg9CJpPh1L4emRdKd5KqbC2xquGBS7fGWPtXEUWfLaq6knbiFhZ+rsiVCgqiU9F4Vl5VIutKJOYl96vsLBD0xrUyl26Njb5L72sfmUKB4RGescdl8y97Wbpm41NNsyA6tcLp49xbsdgH1sKtVwDOXRuZ+G5N+/0mltXc8J3YlZqzBovPX0XIFPJKv5c5t2JwaFkL154l+T8FX6y/n77A7E+++s8cbZGmSf8BVBnbiaDX1pK06yIFcWnUmv08AM5dGnJzxvfkhMQi6Axlpj7it54hctlv5IXF03DFywBErztC4q4Lxt1vAiTvu4z3i+1xH9ACANeeAVybtAKljTlVp/bAuVMDPAa35MqYb7DwcynXkbXnsFZcHPoFSmtznLs2ourL3R5an4SkFCbPmMtrk0bx6QdvPo0mKpfLLyw2jj5kiBJWD0JlY4Hn0FZcHP4lSisNZk42otCvvlDL1QnLMfdypDA2Da8X2gLGDQqRS/cRteaQUZtOBla1jJ2FatN7c3X8Msy9HCmITcP/s9KNQhoPByyqunKu98fI1Ur8pvXCsb0/qUduEPPDMZTW5hQlZeE1sm2FdSwu1jLns6X8+uPSx2ylsrj2bELUyoPi376TuxE672fMfZwpiEqh2ht9AaMxzL4ehaWfG0UJmWReulMpp91Raw4Tt8Uo6lt77jBjWj4u2DerzuVRX6G0NkfQ6qm3aIwYx+G5WkR/d4Rz/T9BJpfRYOmDnVMbtDouDl0IGDsZFwZ/jkwhp9nWGRWW7cvl3zHuhUEV3lcRgt7A+UGfIej0yM2U1Fsy7qH3O7aty7XJ31KUnIWg05uIRutyCrn80tfGZykmFd+S9yth53livj+KLqcAQ6GWzEsRuPZqis844y5Rtz5NuTlzPbE//I7K3pLGa18hfOGvpJ8Kpjglm9TD14lZfwy/6b1xbOvP9akrKUrKxKDTlxm1Pw7rNm7Hxsb6T5Fi+zuQHHX/QzAU6yhOzUZlb2myc01fUERxRh5qZxsQQKaUI5PLOdNjPgEbXsNQpENlZyHGMWj1CHrTM08yhVzcLAPGw8qCzoBMKRc/bkWp2SCAmaMVgs5QZp1CjKOQmeggPojE5FQc7GwxM6vctOuHX65gx95D1K1VnS/nvY2To/1D79cXakvqZloeQW9AMBgeWMbijFwErR4zZxuTl1hfUIQ2M9+4u/G+jReC3mA81iGXYWZvZdKj1uUWosvOx8zZ1qR973FPlPleOwuCgDY9F0FvQGVvWal2PH3+ClPfns/lI9ue6KMjGAwmv6u+UGtcWyqpj75IS3FaDmb2VuJ6nCAIGIp0yNVKMAgI+rLPRdk6G58/mVxW7r3F6bkYtDrULrbl1kdfpAUB5GYlm28EQWwnfZFWTNNQVHbH7v3roOWRlp5JrZY9ibx0EGuryoleP4gHPX8Gnd6kzCZx7rWxgzUyhQyZXC62vy6vEF12AUobc/EIRfnv8h+e95LfCIz1v/fMmcQpef7E/B2tkclN838Q8xcu52pQCLfDIwk68atJvlUDurB387fUrfl0Nsr93UjG8F/Kuf6f0HjtK+I26387cQlJoueZBnVroVY/vWMG/2a27PwNQRAY2v/RpLIkynL+8nWOnbrAzGkPH8VJlHIrNIK8vHzUajUN6tYUw5NS0pj7+dKnulHu70YyhhISEhISzzzSBhoJCQkJiWceyRhKSEhISDzzSMZQQkJCQuKZRzKGEk9EUXLW312EMpy/fJ2+I6fQd+QUzl689ncXR0LiH01UbLz4vuzYe1gM37rrAMMnvsWZC1f/xtL9dUjnDP9i0s/cpjAhQ3TeCxC74TjZN40HsFV2FniNbFeuJ/4nIWr1IdGZtc+EzlhWrZwnEUFvIPnAVVx7lHXvlR0UzeUXl9B085vi+bvHRV+oJfSjn6kzf8QTpQOQnJqOIMDCeTPxcHMRw4uLtXz69WriEpJY8cUckzhHTpzl+592MGXMcFoENBTD09IzmbdwGe4uzrwzfYIYHh4ZzceLviUhOYWOrQOZPvFFzMxUGAwGvli6jt/PXMDZwZ5577xKFS+jm7gTZy+y+NsfKCgs5IXBfXhhkKkv0oi7Maxcv4VPZr9hcuzgRnAoO/YeZvabk5+oXYqKilmwZCUpaRks/XS2GL583SbOXirtNAzq3ZW+3TsCsGHbbn76ZS9qtRnvvDqBgIb+AMyY8znJqWlinLemjqV+HeNuw5u3w1m4dB29urZjUG+jc+njZy6yZsNWk/J0atuSUUP6AfDbkRNs2r6H6RNH0aRBXfGeH37+lZ93/oZGread6RPEa2/+7zNS09LF+2ZOG49/reocPHaaH7eWHgEIaODPqxNffOw2W/3jVnbuO4KFuYZZb7ws7qgMj4xmzmffkJmVQ5f2LXl1wovIZDI++ORromJN/YgueP8NPNxcOHjsNEvXbkSn0zNmxACxbe4RFBLGzzv3M/ftV8S8T5y9aHLPy6OH0bJZI96et5DE5JQy9S8qKubDRSu4dO0m3h5ufPjedJwdjd+S/UdPsmztJvR6A+NGDmJAz84AuDk78cXcmSxZ+QN3Y0rL3rF1C2ysLBk45lUSgkzltf6LSCPDv5j8u8ll3HBlXrmDVS0PPIc8h4WPM1fHLS3jLutJcWznj8fzLSmITkH7ANmX8hD0BsIWbC/3mnVdLwI2v4FlTfcnLp+g05O878oTp3MPaysLalbzxcrSAoCc3Dw6DRpDfkEhP/+63+TeJSvXM/uTr0lISiUqNkEMDwmLpH1/42H6IyfPieHFxVp6DX+Zzu2e46uPZ3Hhyg0+XvwtAMvWbuLMxaus+HwOnds/x5DxrwPGc5ejpr7Lm5Nf4vM5M1i84nuOnTpfWn9BYNq7HxLQ0N/EEAqCwJsffEbTRvWeqD0ys7LpMOAlCouK2b7noMm1Dq0DmfjiEEYM6s3Jc5ext7MB4Nip8yxcuo4v5s5k2viRDB77Grl5Rn+Wwwb0ZOKLQ+jUtiUnz13GzsYY59ffjjB8wpsUa7XcuFXqEDzibgz5BYVMfHEIE18cQmFhMQmJxo/5J0tWsWDJKqLjEk2EnQ8fP8uSb9ezcN7bTBk7nMFjp5Ofb3Q+Pbwk/w6tAzl17gp2NtYABIdGoFQoxXy6dGj12G22ddcB1m/ZyWdz3mLk833oO3IKhYVFGAwG+rwwmYG9u7D0s9nsPXSCTdv3Akaj3q1DGya+OITRQ/uza/8x1GZm3ImKZfKMucx6fRIfv/86cz9byoUrN8S8DAYDk2fMJbBpaUfs/OXr+Pl4i3W5ePUmOr3xu7Bz32GG9OshXvMs6fS9v2AJKanpfL3gffx8vBn9yruA0Xi/8vaHzH5zMh/Neo3ZC77i8vVbAKjVZtSs5oujvZ1J/R3sbencriUFBUWP3Yb/JiRj+Bej0Jih0JQ9Q2fp54Zto6p4Dm2NysaCvDDjRzlx10WujPmGK+OXmgjcBr+/kdiNJ7g4YhG33v0RXZ5RgSFxzyWSD5b28m+8thYAqxru2DX2Q2ljUSZvbXY+If/bzMVhXxL0xjpRXPjutwe4MX0N+vwirk1ZybUpK8URbOTy37j+ymruLNmDPq/0ZRH0Bu58s4/Lo5ZwfdpqcTSqzcon+INNhH++g4vDvuTON3tN3Dg9TBFhxKS3mPXx4kq07oPJLyhk9huTmf/OtDLX3F1dOLJ9HVU8TY16bl4eW9YsZvgAU8mioJAwnBztGTGoFzX8fJj91mT2HTbqKV66dpNxLwzC29ONkYP7EJ+YTH5+AUkpaXi6u/Jc88b416pOYNNG3I2JF9O8d57w+b6m3n12HziGuUZNj05l1UEehdy8fD5891Vmv/lymWu1a1SlaaN6fLXqRxbOfZs2gUYn15ev3+L5ft2oWc2Xti2bUrdWNW6GhAEQ0NCfqj5eLF+3mZ0/LMXb0+jAWy6X8/uvP5iM7gAa1avNuBcG0apFE5o3qc+5y9cZ+XwfAHyreHJo6xo8XE0d2F++fouh/XtSw8+H9q2aU8PPl1uhRjdyTRvVw7eKJyu+28yvG5bh6W6c6dAbDFT18aJViya0atGEOjUe/9iYuUbNp7PfpE4NP/p064ClhTkpaRmkZ2Qhk8kY2KsLPl4ejBk+gJPnLgEwcdQQurZ/jlYtmpCcmk7X9q1wdLAjITGZmtV9ada4Pg3q1iSgoT/RcaUdr7Ubt+Pu4mzyO/fp1oFBfbrSqkUTHBzsEASB1i2MzrT1egMtmzYS62lna+yM+Pl4MfvNyVTz9WbiqCEEBRt/r7iEJGrX8KNpo3o09K9FkwZ1iYlLrLANsnNysbYq+834LyIZw78Y67reD/SCD0YFgaLkLNTu9uQExxK16gC15w2jxswB3J63RVyjy7wUgcLcjMZrpiJTyon5/pgxfkwqhfGl00cZZ29XWKb4rWcwr+JM43WvYNuoKuGf7QCMjrCrvd4HuUZF9Rn9qD6jHxZVjT1Q94GBVJ/Rj7zQeBPXUgm/nCP3diz1Fo/FY2AgQa+vA4zeWFIOXselRxMaLJ9I2rGbZJ4PE+PJVQqqjOlYbvksLcyfWGDU1dmRrg8YJQzp173cQ/5NG9Ur92PqYG9LYnIKhYXGTkBkVCyuzkYfnHqDAZVKyc59R0jPyEKlUmIQBBrUrUlNPx+mz/qYT5asIjg0guf7GqfJMrOyef/jJXz18Sxi45PEEYNWq+X9j5fg5uLEhNdn8/vpxxeQ9fJwo2ObBzsTX7l+C1euB3P+yg2Kioz+LnU6PSqlkhNnLxIeGY1KqcRwnxuvdz/8kuycXE6cuSh2bHp3bS+OLO+ncf06dO9o/ND/uv8ojevXEQ3YsAE9UanKeo/R6XUolQqOn7lIxN2YkvxLPbK8PW8huXn5nDhTOpWo1+s5cuIcjTsMxK9pF7GT8jj06tKOls0aARAacZfCoiLcXBzR6Y3tkpicyt5Dx1Hd5xFm/MjBoveklet/Fl2/tWzWCGtLS2bO/YK5ny8lKTWN3l3aA5CcmsaCJSv5cv7bREbHiiO2Pt06UK92DcA4ZTpm+EBx1kBv0DN5xlxqBfak86Cx5OQaxYcnjxkututvR06InZLWLZqg0ZjxzvwvmfPZN6RnZFWqg6VRqzEzU3HlRjBRsfHodE93xuqfhGQM/2Ksanng2KZOmfCQOZs52/sjrk/+luoz+2Nmb0V+VAq2jfww93bCqqYHFlVdTQydQ5s6KMzNcGxT1yT8UanyUgfsm1cn69pd5OZmFKdmA6BxtcPC1+iv1LKqK5ZVXUXpJ42rHZZVXU0cDgPkRybh2NYfMwdrnDrUozgly+iiCjCzt8SmXhXM7K2waeBDUUq2SVyfByhzr1o0n/ffKDui+bvw9fakf8/OtOs3iikz5zHt3Y8YM2KgyT3frNlAaMRd8W+ZTIaPtwd3o+MIjbiLu6szKqXRAMz+5GtGDe1HDT8fzl2+zvJ1mwHjNJ1Go2b6pFGMHtqfkZNnEnbnz1G6GDNiIGd/20xyShrzv1xucm3zL/s4ee5ymTiLP3yPHeu/4cetu9m570il81r1w9ZH8g+6afseTl8oO4X+9YL32f7dV3y3eQe79h8FoHpVH7q0b8nlI9vY9O0XTH/v40rn8yCysnN44eUZfDF3ponRvhkSzsr1W8qNExx2h5i4BDq1NXZA7v3+d6JiCI+MxsvdFUWJK7S35y5k2viReHm4cezUBb7bvMMkrYKCQn76ZS+jhvYTw7p1aM3br44n5MwePN1dWLNhW5n8P/jkaz6ZbfQNLJfLqeLlQcTdaGP+HqX5PwyNRk3vru2Z+MYHTHzjf6SmlxVg/q8gbaD5h1B7zrCyRtIgwH1SKzK5zMTB7j2n2jK5vELNvocR/N4G5GYqLKu7PfHuUEEQTP0dymSlckn3S1D9y537Lpw7k4SkFC5fv8WN4FD69yg15IIgcHDrGvH/YPTwf/n6LXas/waZTMacz75h+XebmD5xFIePn2Fo/x58vepHrgaFiOkcP3ORqeNGiL4f+/XoxPEzF6nh5/PU62NlaYGVpQUvDunLF0vX3VcXxM02v/xhrdHezgZ7OxsG9urM1aBg+vcsvzNzP+GR0dwOj6R7x9aVKpcgCCz//H+AUXGivPwH9OzMtZu36dOtA/17dqI/xnI0a1yfpPs2+TwOBQWFDBj9KqOH9hc3nNwrV6e2gXRqG1iuosjqH7cyZsQA5CXv6O4Dx4hPTGbr2iWAcQPQ9z/tZNwLgzh0/Ay1a/jx9aofOXf5Og5/WLvbtucgzzVrLM4+AGKbADRrVJ+4+9Zao2LjGfTSq6xePJ/aNYx6kTv3HSE1LZ2f1xiXG6bP+pgfft7FS8P6P7T+Wdk5bNt1gJhrR/8zDrkfhDQy/AejsFRTnGrUzxMEgeK0HNGJLyBq6xWn5yAvWYdUWqiNjqUBbWZeGX1CmUKGQas3CUs7EUzN2YPxHtUep/Z/2KghK3HyXEljq7DQiCNLXW4hCEZH1U/C+cvXCQ6780Rp/Bm4ODkwf+FyPvvgLfFDYW1lSWy8cZ00Ny+f/IJCNGozYhOSsLG2Eu+zsbYiJs5438xp47GztcYgmLazo4Mdd+4a12gFQeBOVIzJB/Hm7XC+XP4der3p7/moVGnUUdwZmpSSJm46srWxIjbBuK5kMBiIS0jC1taa6NgE6jzXS8z3/jgVsWbDNkYN6YdSWXE/3NbamtiEJDH/+IRkbG2siYyOxb91H3HKNCm1NP8dew9z+rxxFJmcmo71H8p18NhpNm6rnF6gVqtl+KS36NahFa+Mf0EMt7GyJCU9Q5wmj41PxLZkAw8YDeimbXsYPbTU0MQnJmNjbWWSRmy8sW3/N2MqGo1Zmd//Hqt++JlxI0tH0gaDgVkfLxbbPzk1XVzXS05No/+Lr7Dow3do91ypWLQx/9Iy2lpbi/k/DJVSiVan+88bQpBGhv9o7FvUJHrdEa6/sgp9YTHm3k5Y1ihVGo/5/igypYL0E8H4l0gYuXRvzNUJy9Cm5ZAbloDP+M4maTp3bkjovC2Y+zhj7u1EzfcG4djOn6DX1mJZw4PCONOetFylxKq2J1dGf4XCUkPN2c9j7uHA9WmrEXR6itNzCHrrO+QqJfW+HIP7gOZcm7SCvPBE8u8kUWV85yd+kfqNeoU6Napx5Jd1Fd/8ABKTUxnz6nsYDAJ5+QX0GDaR1i0CmPX6JN77aDFXbtziZkg4l6/fYt2m7fy06kuuBoWwYMlKMrNyiLgbQ49hExkzfCBD+nUH4PufdlK1ipe4rgQwddwIBoyaxsWrQVy5Ecy08SNRKpX07daBr1b+QJ8XpmBjbcm5S9fZu9m4A/X+3vnWXQfYe/B3Y1pjR9Bl8DhCwiJJy8hEbWZmMqL6fvMOIu7G8Mbklyqsf3RsApPe+h86nZ7MrBx6DJtIh1YtmDltHO+8OoEug8YR0NCfE2cvsWHFZwAM6deDTgPHMPqVd0hKSaeGny91avghk8lo3aIJHQeOwcvdlatBIRzd8R0AK77bzM7fjhAVE49Op+fc5et8PmcG9WrXoLhYyw9bdnJyzwaTsr3xwacEh0Zw41Yot8MjWbp2IzvXL2Vof2P+L73yLvFJKdSrU4Na1Y0jneaN69Nx4Bg83Vy4fus2R3/5HsC4cWnyTJ5r1phL127y9rTxJnnN/WIZAyoxggXYtvsgh0+cpai4mGOnjTt/P3rvNZo0qMvYEQPpOHAM9WpX59ipC/y2ZVVpvD0HCWzaUFy7A3i+b3dWfPcTA0ZPQ21mxtWgYA78bJw9GD9ysHjfuk2/cOVG6Ua5m7fDiYtPonPblmKYXC6nsKiY9v1H4+fjxblL18W0FixZRUpaOou/Xc/ib9cDsH3dVwzp151OA8cwaMx0lAoF126GcHDr2grbwNxcQ0Hhs7GbVHLU/Q+gKDkLpbXGRLrpHgatnrw7icZ1u2qu4tTomR7zafL9qxTGp6N2s0PjVip5pMstJC8iEZWdJRY+zmXSLE7LQZdbgFylROPhgGAwkBsShyCAZXU3tOm5aNxL0zPo9BQlZiLo9WjcHZCbKcmPSsFELh4w93ZCJpejyy0kPyoFla0F5l6OpWkkZYpir8VpOcjVKpSVECUOuxOFhbnG5OPyMHYfOMY787+kb/eOvDC4N/61qqPVaomMNj3/ZWVpgYebC7HxieQXFJpcq+brTX5BIQlJKSbhTg72ONgbld9j4xOxsbYy6fEDpGdkcTs8EhdnR6r5eovhBoOBq0EhFBUV07h+HTSasr93Tm4eefkFuLk4AcbRyaVrt9Bo1DT0r2XSsWjedQgfz3qdzu1alknnjxQXa03OkIFxFOtesoMzKjae2LhE/GtXF3cmAuTnFxAUEoZGo6F+nRpi/oIgcCs0guzsXAIa+otSXcmpaWRm5Zjk4+3hhrm5hqKiYuISk/Hz8TK5Hh2bQGGR6Qe3etUqyOVyMX9zcw31apvmf/N2OLm5+TRpUNdEKiw9I4uQsDu4ODtSvWoVk7at0qgj4ef34+hgOhVZHtk5uSQmp5qEebq7YGlhHIUFh90hIyOLRvVqY2FRKvuVlJKGSqkUn5N76PV6rtwIRq/X07h+3XLlzbKycygqLsbFyfieZGZlU1BYJP5O9xMcdoesrBzq1pEv/zEAABwwSURBVKomPoNJKWlkZZu2/7221Ol0XA0KKZN/UkoaS1b+wImzFxnUuyuvTTIeJ/r99AVWfPcTyalpHN7++B3RfwuSMfyXYtQzfP0/I+H0NElIShEPkbdo0sDk4P1/hdy8fAaMnsb+LavEdSmJh3Pq3GW27z3Ewrkz/+6i/KPIzsnl8ImzANSrXUNck74dHklUTDztWzWvtC7pvxnJGP5L0eUUoLBUl6tMLyEhISHxaEhrhv9S7ldjl5CQkJB4MqRhhYSEhITEM49kDCUkJCQknnkkYyjxl5OZlS26hJKQkJD4J/CfWDO8fP0WMXGJ9OtR6tvyzIWr7Dt8Ar1Bz0vDBvwpXjsqw5zPvmHOzFcees/GbXu4eTsMhVxBy2aN6N6xdaXO5t0KjcDR3s7kIPaDKCoqZt7CZSZhbQIDRH+RfxXRsQn0eWEyY18YWO5B7ejYBA4cO2Vy9upBBIWE4eLkIG5Dl5CQkHhc/rSRYXleMQwP8GTypB40bgSHcvD30+Lf+fkFDHhpGlV9vGhQt1alvWP8GXy54vsK79m57zAymYy6tarx0aJvWbZ2U6XSXrT8u0o7by7Waln941Ya1K0l/nNzKXt26c/m7XkLeX3yS0yfOKrc7doJScn8tGNfpdL67Os1nD7/bAiPSkhI/Ln8aSPDTb/s5cDRU7z32iTRP15efgGdB43lvdcm0bd7B3H0M276+9SqUZWpY0eUOcD8IO7GxPG/T79GEKBmNV8xXKvVkpaRhZWFhSieqvyDM+mnwayPF9O4fl02bd9DNV9v5r/zKmq1GQaDgQVLVnHp2k2G9u9Rae8rrZo3oUenNtSs5su0dz9i6jijyO3BY6dZ/aNRFHXK2OG0e64ZN2+H89XKHzh1/gp3Y+I5fPwMDf1rM2XscARBYM2Gbew7fAIbK0vee32SOCq2MDdnaP8eZfLec/B3MrKyOXbyPAWFhbz/5mRRrWH/0ZOs3bAdmUzG1HHDaRPYlLiEJNZv2cmNW6H06tqe3fuPMWJQL/p064AgCKz+cSt7Dx3H3dWZd6dPFOV9CgoKOXziLOuXLjDJPzMrm/c+WkxqWgYd27Qwubbv8AnWbdyOXC7nlXEjaB0YwLWbt1m2diPnLl0nKSWNfYePE9DQn4mjhiAIAt9+/xMHjp3G3taGWW+8XOaQt4SEhMQf+dNGhiMG9mJQ7668NO1dRk19h5CwSKytLPn+m0/YvucALXsMZ+e+IwiCwFcLZiGXyQnsPowFS1aSnVOx+OyYV2dRv05NZr0+SZQ8ARjx8gw6DRxDbEISjToMoFGHAZy58PDRw9hXZ1G3VW/xX/ehEyvMf+uvBwi7c5cF779OeGQ0i0pGgD9u3cX+oyf5aJZRCLWyPj3vYWlhTnGxUUInMjqWGXM+580pL/HK+BG88PIMUtLScXN2Yki/HvhW8aRl00YM6deDVi2MSvS7Dxxj+56DzHtnGp3bP8eA0aX6fXq9nrT0TPGfVqsF4NrNEFau38LMaeOMGmovvQoYBVnfmfclb00dw+Qxwxg24S3SM7LIzM7h19+O8t7rk/hm9QZmvTGJjxYZXYtt2fkbv+w9xOKP3qV9q+YMnfCGmH9mdg72tjZl5Hre/XARMpmMj2a9Rkh4pBgeGnGXWR8tZua0cbz80lCGTniTzKxsPNycGdKvB1W83GnVvDFD+vUgsKnRJdq23QfZe+g4H743ndaBATw/dvojtb+EhMQzSkJshPBnYjAYhF37jwp+TbsIQSFhYvjt8Eih94jJwvyFy8Ww7JxcYf7C5UJAp0EVpuvm30bIzskVBEEQVv+4VZj69nzxWmJyqlC9WbenWIuy1GzRQ4iJSxAEQRC27tovjJr6tiAIgvDO/C+Fr1b+IAiCIOh0OsHSp0mFaQ0Z97qw99BxQRAEISTsjtC082DxWnZOrhASdkcIDr0jNOk4ULgaFCJeG//a+8JPO/aVSS8lNV0IDr0j3AqNEKx8A8R01J4NheZdh4j/zl++LgiCIHy0aIXJ79Bp4BhBq9WWyb9hu/7CjeBQISgkTOg5fJKQlZ0j9Br+spCZlS00aj9AEARBeOODT4X5C5cLQSFhQlBImGBfvYWYVlxCklC7Zc8y5W3b90Xh4tUgQRAE4eTZS0LnQWPLrX/9Nn2FW6Glz+uLU94Wftlz6IH1DwoJE2z9mj+07SUkJCQEQRD+1A00giCw7/AJPl+6lo6tW+BZ4hYr7E4Un329huzcXLq2fw4wupdauX4L23cfrNTmCYPBgFJhnP580mnQXfuPEn+fBIqNtRXDB/Z6SAxK8jU2n1JRKnpqMBjE8igUikd2lXX/QPLClRuMf202Hdq0QKFQkJxasWbh+i07WbZ2E881b4xMJjMRQ3W0t+Pc/p/Kr4uitA0PbTM68D178RovvzWH9q2bo1AoSEnLqDB/g8HA6QtXyMgyKleMGVEqSCqXy9HrDeXGUZTzW54+f4UpM+eJ+VdGS231j1tZu3E7gU0bVnivhISExD3+NGN47eZtJs+Yi3+taqxd8hHVfL0pLtby0ivvEhEVw6zXJ9Gtg3HX5Ooft/L1qh95afgATuz+QXSE+zA0ajXZuXmYm2vIycl7orIWa7UmntnNzMqqnpdHVnYObi5OZOfmoilRSteo1WSXlCcnN6/M5qCgkDBi4xMfuIszOjZe1DPbvucQ40cOZtqEkQAc/8NmGZlMVmYa9octv7Jo/ju0bNaI4mItK77bXKm6lMf2PQeZNHoIk8cMB+DoiXMVxjHXaOjVuR1Tx41AEATOXrwmGjpHe1vyCwrIzcs32dSkUavJyTVOjWdll06Rb919gCljhzNx1BAADh49ZZKXUSrxD/X/+Ve+XjCLgIb+5OcXsHbDdpPrV4NCiEtIoleXdpVtBgkJiWeAP3Vk+MOyT8t47R82sKdoBO9RxdOd0/s2VsoI3mNg7y4MnfAGHVo151DJBpLHZVDvro8V79OvVuNbxZPvNv/C1wveB6BPt/YMGD2N/IJCklPTyowM3/94CfsOnyA/+rJoJACWrtnItl0H+P30BVYtmgcYnUzP/mQJcrmciKgY0jJMR0ZNGtRlweKVHPr9NO1bt+CFQb1p2bQRcz5fSv8eHbkRHIaZ6vEd7LYIaMC8z5chCBAWGUVmdnaFcUYM6sXgMdPJzs0lNPwu+QWFosSRSqWid9f2LP52vYly/eA+XXnl7Q8Z1Kcrl67dFMMDAxry8aJv0en0hN65S3auaacnoIE/Hy5czt6Dv9OpbUuGDehJy6aN+ODTr+ndpR1BIeFl1LznfPYN1av6SMZQQkLChH+to26DwcD+o6cQBIEGdWuSl18gap0VF2u5dO2mic7c06ZWYE92bVjGtZu38fPxIqChv3jtVmgEQcFhtG3ZlNvhkSYim6ERd0lISjEJuxEcSmpaBgqFgnq1a5hIv1y+fouwO1EENPQnOyeXGn4+WFtZitev3Agu2VTiQq3qVREEgaMnz5GankmnNoHcvB1O25ZN0el0nL14jdaBAWXqck/ax9fbs8y1e/k3bVSPrOwccedueGQ09WpXJygknHq1q3P5+i2aN2kAGFUjjp+5iJODPR1aNzfpEGRl59Bv1Cv4eLmz7LMPxA7QybOXSE5Lp1XzJsQnJtO4fh0ALl27SXhkNM0a1ycjM4vaNaqKcQRB4MqNYLKyc/DycKOGnw+CIHD4+FkysrJL6h9Gm8CmAOh0OtzrteP03o1/27lTCQmJfyb/WmP4d1MrsCe//7pe1J2TqDwGg4Gtuw7Qo1MbE8P+Z3P5+i3mfbGMHeu/+cvylJCQ+HcgGcPH5HZ4JH4+XmWOCUhISEhI/Pv4T7hj+zu4NyUrISEhIfHvR3LULSEhISHxzCMZQwkJCQmJZx5pmlRC4ilzOzySbbsPADC4TzcT37kSEhJ/LguWrEQQBOrXqUmfbh3E8KVrNjLy+T7Y2liXG08aGUr86zh59hLL121i+bpNXL8V+ncXpwwhYZHsOXgcb093zDUak2s5t2LIvHLHJEwQBJIPXiNy+W8k7b30yP5sH4WCmFQMuidTiRHTik8n9WjQU0lLl19E/PazZcLzIhK5u/IA0euOUJxesc/iiojfdoaLIxaVCS/OyEWblV+pNNLPhhL300nifjpJ/t3kcu+J334WXX5RudceldSjQRTEpZmExW05ZSzDllNkXAh/Kvncj0GrE+tY3u/yMHS5hRSllH8mOXbjCa6MeTq7ufPvJpN2KqRMuLenOwlJqezYe9gkPCc3j7Z9XiTibky56UnGUOJfR7FWS35BIVt3HeDk2Ut/d3HKxc/Hixef7ysqdtwj/fRtUg9dNwmLWX+MuM0nMfdyInHXRe6u2P+nlevqpBXosiv30a+IvPAEYjedeCpp6XMLubN4t0lYQUwq16esRGVriaFYx9XxS9EXaZ8oH7uAaniPal8mPG7zSRJ2VOxhCUDQ6tEXakncdZHsm+V/WO8s2Y0up+BJiioSu/kkeeGJJmHhn+/EUKxDX1BMxKJdRH9/9KnkdT/6Qi263CIiFu16pHjpp0O48/Wecq/Zt6iB54ino6GaHRRNwi9lDfXIwX1o27JpmfB3pk9g7tvTmDJzXrnpSdOkEn87er2eNRu2cSM4jKpVPJk6dgTqEvd2l67dZMvO31AqFUx48Xl8vT3p2CaQjm0Cy/WVevj4WawszWkR0BBBEPj0q9W8M30Cl6/f4lZoBBevBtG/Ryd+2XuIt6aMxdvTjY3b9uDm4siuA8dwtLfjjZdHY2FhDsCRE2fZffB3AIb07f7EPk9lKgUylelrl34yGL9Xe2Hb0BfbJlWJ21hqYLJvRJF88BpylQKP559D42YPQNTqQ1QZ2xGZXE72jSh0eUU4BNYk/Wwogt5A5sVwMAh4vdgOtZMN6WdDyboaiS6ngJjvjyE3N8PhudrYNvAh/cxtZHIZGefCEAwC3qPaY+ZgRcrh66hdbLGpb3RQkHLkBmpXO2z8jV6l5ColctXTkUeTKRXI/pBW1pVIHNrUwXNoKwCK03PRZuSicLNHm51P3KaTFKfnYNfED5dujQFIOxWCTCEn80IYgs6A9+j2mDkYp8XurjqIoDdg5lg6TVackUvcT6fIvBiBXKVAX1CM2skGj8EtjWW4Gkny/qvIVAo8h7TC3MsRxzZ1cGxTh4KolAfW52m2jVylKJOWTCHD+8X2ADi19+f61FVUGW2UUEvef5XsG1GoXWzxHNoahUZFUWo2acdvIVcqyL4Zg1OHejgE1gQg7ufTOHdugJm9FflRKeTejsOlayOqjO6AQasj+rsjZcpUnJFL3OaTaDPzsG9eA+dORocbd1fsJy8ikfzoFCJX7Ecml+E7sSuCIHD3W+PSgcbVziQtg1ZH3JbTFManY13bC9feAchkMrJvxlCcnEVuaDza7Hw8hzyHhY/LH9rl0UxYvx4deWf+Qu7GxJVxMiKNDCX+dj78cgV7Dv5O324dCA6NYPqsjwGjQ/fBY1+jUb3aVPF0p8ugceTkPtwP7ZGTZzl/+QZgnH785KvVgNEn6dET5/D2cOOHLb9SxdOdxSvXA7Bp+x7WbNhGv+4duRkSzqwFSwCIjU/kpWnv0TawKa1bNOG19xeQkWmc/vFv3cdE9ut/n1Zu6sfC1wXLaqajRYNWj9zM+FKbezpSfUZ/wDhFeHPGeqzremPmbMvVCcvRFxjlvaLXHuaeW9bsG9FknDNOF2ecCyVq5QHsm9cAuYzgd34EQGVjjsbDHplCjtrVDo2HPUpLdUmcMCKX78fhudooNCpuzvheLNfdlcYPmGAwEP7ZDlR2pS4T1a52WPtXqVS9K0Jla4Fd0+qm7aIrbReAmu8OFDsDQa+tBbkMp/b1iF53lJQjxt8843QId1fsF9O6VVJ/AI27PXKVkoStZ8QwuVJhbAtrc5Q2Fmg87DFzMhrLnNtxhHywCfvAmlj4OHN1wrJKTzHbNauO0vrpiIpb16uC+g8G5H6K03JRWhqn4xN3nCdu43Hsm9egICaVkP8ZfRNr03K5s3g3Bp0e++bVCX5vAwUxqQAkbD2DrmSKuCA6leQDFQtm33hlFQoLNU7t/Lm7fL84XanxcEBlb4XCXI3Gwx6Nu4MYR+NhjwxI2HneJK2wBdvJDYnFvkUNEnddILakM5gbHEvEkt1Y1fFE4+HA9ckrTZYQNJ6OWNUu6zXrYchkMny8PUlILNuRkUaGEn87v5++yKcfvEGzxvVp2qge+4+eBODClSC6tn9OVBDZsG034ZHRoqu2R8XH24MGdWuRX1BI/To1CY24K14bM3wg7Vs1R21mxgeffg1AUbEWhUKBj7cH/rWqM7BXF/H+mycfberoHk7t/Cu+qYTsG1E4tquLa3fjqCfx1wsUxqeXMaZ/xLlTAxxa1sKmoS9ne34IgHVdb6zrenN3xQFcujcSR0ulcepj17Qato2rkrj7ojGsY33CP99BUXIWBdGpaDwdMPd0FONY+rlSdUr3StfnYcgUcvw/fbHS99f/ZgJypQKDTo9Tx3rkhsbj3LE+AC7dG+PQshZ2Tatxqv0HYhy33k3Jv5tMyn0fe6W1Oe59m1MYl47CQo173+biNUs/N5r+PAMMBgTBOBrXZeWbjCwfRN0FIytdl4qo+nK3MmGC3sCN6WsQ9AbywhKo+f7zAGReDMfrxfY4tfPHLqAa5/qWCmlrvBzxGBgIQMrBa+SGJWDu/XgetBqumiK2v2PbuuSFxuPYqjZufZsh16jQFxabtKVMJsO9b3NyQmJJP2u6zp95MZyGq6agcbVDrlIS99MpvF9oC4B9i5o4tTW+M9GrD6HPLxINv029KtjUe/TOmEIhN1HzuYdkDCX+drQ6rejJx97OhmEDepYJBzBTqdDpdH9KGVQl0y1KpUJ8Uar5ejNn5lTe/XARwaERtAkMYN1XH6FSqdh94JhJfG9Pdxr613qqZRJ0BuT3SVrJVYpKjUxkJXFkCjkYKrcZ5/44gbtnGfMzU+LaM4CkvZcoiE7FrW+zhyXxl2HQ6gietQFDoRallYb8u8k4lRhCQGwzmVKBUM5Hr7LkhsRye94WzKs4I5PL0Gbm/ambmx4FmVyO36u9QC5D7WyL0spoIAw6gzilKlMpEO57XuTK0olAmVKBUI6cWmXQF2m5NeN7BAGUlmry7iTh2qusz+PKcn+Z5Solgrb0HTcp8yM8zw9DrzeYCEXcQzKGEn87GrWagoJCAJJS0ti4bTevvzzaJBwgv6AQtVot/l2ehJXazEyU48ovKESjqZwcV3kUFRUzsFcXRg/tT3GxlpY9hnHp2i0Cmzbk99MXTLQnA5s2fGxjKDdToi80Tn/mR6cS8/1Ras1+viS8dMOIvrBYnDaUmSnRF2lRWqiN4epHcAv4CN8T9wEtuPX2enS5hVR7s2+l450+fwUfbw883V0rn9kfkKuUGO6rf/AHm6g6uTvFaTloM/Jo8t00AKLWHMZQfF87lWyyMRRqTToTFfKHZyn+5zN4v9QRt5IP/Znu803vl8nKxKmI8MhosnNyadKg7iPFK4OMcmcI5OrSZ8ZQqEWuLv3E37/5yFCkLTWaJc8S3HvG/vAs/aGO2TeiEPQGGq4wKs9ELt1XtnyP0C73P+eP/Cw/IoIgEBOXgJdH2baTjKHE386Anp15ffYnjB0xkB37DovToG0CA3jvo0V8vPhbMrNyKCoqouZ9ahON69fhkyWrSE5NR6GQ88FbU+jRqQ0jJs3A1saKY6cu0L9Hp8cu153oWPqMmMyrE0ai0+tJTc/Ey8P4cf98zownq/R9OHWsT8TCX3Hr05TkA9dweM4oR2bXrDqRy34javUhtBm5yORyzL2M05TOHetze85P2AVUI37rGfw/G1WpvCx8nIlYtAuNhwMu3RpVOOVq6eeK0socq5oe4vRURcQlJNG+/2iuHN3+RMbQLsCPyKX7iFp7GF1WPrkhcZg5WiNTyCmMTyfh1/PIZHJSj97AoVWphFvKgaso1CoyLoRjX7JJpDA+nYQd59Fm5lGUmk3kst9Qu9riMci4UcbCx5no74+izyvCoqoLrj0DsPBzIWn3RZQWarJvxogdlntY1/EibvNJCqJSkJub4TO24mdt6tvzaVy/zpMbwwfg3LE+EYt3o03LIf1sKM5dSjd8aTPyiFy6D4WVhszLd8S1aeeO9Yn4fCcuPRoTt+kkPpNKJe3kKiUaN3tCP96Gys4Su2bV0XjYk3cnicTdFxH0BtJOBOPctTQfc28nMi9EELl0H0pbC7xHtiM/OpWk3RcpTs2mKCGDyGW/ofF0wL1fc5w7N+T23C04tfMnYcc5qrzU8U9pG4DfjpzEztaGKl7uZa4p3npj+hwrG/s/LXMJiYpo1rg+Pl4exCUk0bltS6aMGY5MJsPaypKBvboQl5CEi5Mjn37wpokosH/t6tStVQ25Qo6DvS0N6tbC092VNoEBhEdG06RBXWZOG4dcLsfK0oJqvlXwreKJt6c7vt4eVK3ihbenG24ujtSpWQ0rSwvUZmZU8/WmWtUqODva0751C6Ji4lEplcx+a4qJPueDuB0eyf5jp7C3tcXWxqpCZQ6bkg0SxSnZOLati/uAFshkMpTW5jh1rE9RYiZqZ1uqvd4HRclI17F1HQw6Pfq8QqqM7YRNXWO5VLYWWPi6YGZvhUwmQ+PpgFX10hffqZ0/yGQorcyxqOKE0toclY25GKc8EndfwHN4G9EQV8Sv+4+SkZnNW1PGVOr+B6G0NsepfT0KY9NQ2VlS/c1+KCzUKC01ODxXm7zwBJSWatwHtcTC18W4a/Z0CLYB1ZApFWjc7fF9ubtxbatYhy67ALWrHQ6BtVDZWmDmaIOFjzMAltXdMfd2Rq5SonaxxdzTEZsGPsg1ZhTEpuHYri52AX5YVnMXR5tWdbww93JEplRiZm+JZfWyH9j7KSws4rX3F7B60TzsbW2eqG00Hg5Y1fAoE27h64J1XW+KU7Oxa1INrxfaIpPJKE7LIevKHTwGtaQ4LZuqU3qI64U2jXxR2VpQnJaD+8BAHFubrsm7dG2EoDegtDLH3MMBy6qu2LeoSV5YAkpbCzwGBBqfn5K1VLWzDbaNqoIAZg5WWPq5YijSosspRONuj33zGqhsLVA722Du7YRds+qorM3R5RTi3r8FTm2NHQWFpRrzKs6oXYySdmp3eyyruxmnSx/Czn1HOHvpGgUFhfTrUWpYFy5bx8eLv+WH5Z/i4lT2WZZUKyQknjJBIWH8+LNxg82oof2oW7Pa31yix6cgNo2rE5YRuHtWhR+he4x/bTY9Ord5bNHsJyH88x1YVHUVj0b8k/j99AUWrfj+b5EQy70dT+hHP9Nk/fS/PO+/mnc/XIQgCDRpUJch/Uo3eC1YspKXRw/D3q78johkDCUkJB5IUXIWxRm5WNeq/Bb2rOwcrK0sTUSd/yry7iShMDdD4/7Pm+0qLCzCYDCIZ1j/SnS5heRFJGLb0Pcvz/vfgmQMJSQkJCSeeaRD9xISEhISzzySMZSQkJCQeOaRjKGEhISExDOPZAwlJCQkJJ55JGMoISEhIfHMIxlDCQkJCYlnHskYSkhISEg880jGUEJCQkLimUcyhhISEhISzzySMZSQkJCQeOaRjKGEhISExDOPXC6To9dpK75TQkJCQkLiP8r/AYHgLvxcUku/AAAAAElFTkSuQmCC)"
   ]
  },
  {
   "cell_type": "markdown",
   "metadata": {
    "id": "L54frOeKHn_P"
   },
   "source": [
    "### 3.1 Creating DataFrame From dictionary:\n",
    "- DataFrame can be created using both dictionary and list\n",
    "\n",
    "**Example 1:**"
   ]
  },
  {
   "cell_type": "code",
   "execution_count": 11,
   "metadata": {
    "colab": {
     "base_uri": "https://localhost:8080/"
    },
    "id": "eIc0kj_mHzlA",
    "outputId": "0d051eec-f8f1-43c5-d1b0-e32b23cdf8e4"
   },
   "outputs": [
    {
     "name": "stdout",
     "output_type": "stream",
     "text": [
      "      Name  Age      City\n",
      "0    Alice   25  New York\n",
      "1      Bob   30    London\n",
      "2  Charlie   35     Paris\n"
     ]
    }
   ],
   "source": [
    "data = {\n",
    "    'Name': ['Alice', 'Bob', 'Charlie'],\n",
    "    'Age': [25, 30, 35],\n",
    "    'City': ['New York', 'London', 'Paris']\n",
    "}\n",
    "\n",
    "# Creating a DataFrame from the dictionary\n",
    "df = pd.DataFrame(data)\n",
    "print(df)"
   ]
  },
  {
   "cell_type": "markdown",
   "metadata": {
    "id": "Ac-iuFS6QU6M"
   },
   "source": [
    "**Example 2:** Creating new dataframe from existing"
   ]
  },
  {
   "cell_type": "code",
   "execution_count": 12,
   "metadata": {
    "colab": {
     "base_uri": "https://localhost:8080/"
    },
    "id": "P2U2hV2rQUFa",
    "outputId": "ac9aa8eb-caaa-4c14-bf3c-1fe337637507"
   },
   "outputs": [
    {
     "name": "stdout",
     "output_type": "stream",
     "text": [
      "      Name      City\n",
      "0    Alice  New York\n",
      "1      Bob    London\n",
      "2  Charlie     Paris\n"
     ]
    }
   ],
   "source": [
    "new_df=df[['Name','City']]\n",
    "print(new_df)"
   ]
  },
  {
   "cell_type": "markdown",
   "metadata": {
    "id": "b3o67fIsQ4Or"
   },
   "source": [
    "**Example 3: Label Based Slicing**"
   ]
  },
  {
   "cell_type": "code",
   "execution_count": 13,
   "metadata": {
    "colab": {
     "base_uri": "https://localhost:8080/"
    },
    "id": "YGhnm9SDQ9k9",
    "outputId": "fa85787b-139f-480c-8664-49ced88d2206"
   },
   "outputs": [
    {
     "name": "stdout",
     "output_type": "stream",
     "text": [
      "      Name   City\n",
      "2  Charlie  Paris\n"
     ]
    }
   ],
   "source": [
    "slice_df=df.loc[2:,['Name','City']]\n",
    "print(slice_df)"
   ]
  },
  {
   "cell_type": "markdown",
   "metadata": {
    "id": "4PC7Re4nIQCp"
   },
   "source": [
    "### **3.2 DataFrame Manipulation**\n",
    "**1. Using CSV file**\n",
    "- Step1: Create a CSV File\n",
    "\n"
   ]
  },
  {
   "cell_type": "code",
   "execution_count": null,
   "metadata": {
    "id": "x_x6AAKJJwfe"
   },
   "outputs": [],
   "source": [
    "import csv\n",
    "csv_file = '/content/drive/MyDrive/Colab Notebooks/df_lab9.csv'\n",
    "header = ['ID','Name','Father Name','DoB'] #Define the header that will act as column names\n",
    "with open(csv_file, 'w', newline='') as f:  #write the header to the newly created csv file\n",
    "    writer = csv.writer(f)\n",
    "    writer.writerow(header)\n",
    "\n",
    "data = \n",
    "[\n",
    "    {'ID': 1, 'Name': 'Alice', 'Father Name': 'John Doe', 'DoB': '2000-01-15'},\n",
    "    {'ID': 2, 'Name': 'Bob', 'Father Name': 'Jane Smith', 'DoB': '2001-03-22'},\n",
    "    {'ID': 3, 'Name': 'Charlie', 'Father Name': 'Michael Johnson', 'DoB': '2001-07-05'}\n",
    "]\n",
    "\n",
    "with open(csv_file, 'w', newline='') as f:\n",
    "    writer = csv.DictWriter(f, fieldnames=header)\n",
    "    writer.writeheader()  # Write the header row\n",
    "    writer.writerows(data)  # Write the data rows"
   ]
  },
  {
   "cell_type": "markdown",
   "metadata": {
    "id": "HPtycTZNMTDo"
   },
   "source": [
    "- Step2: Read Data from the csv file"
   ]
  },
  {
   "cell_type": "code",
   "execution_count": 15,
   "metadata": {
    "colab": {
     "base_uri": "https://localhost:8080/"
    },
    "id": "S1fRgkpAMYu2",
    "outputId": "6f988fa0-10ba-4368-ca27-90c51e063631"
   },
   "outputs": [
    {
     "name": "stdout",
     "output_type": "stream",
     "text": [
      "   ID     Name      Father Name         DoB\n",
      "0   1    Alice         John Doe  2000-01-15\n",
      "1   2      Bob       Jane Smith  2001-03-22\n",
      "2   3  Charlie  Michael Johnson  2001-07-05\n"
     ]
    }
   ],
   "source": [
    "df = pd.read_csv(csv_file)\n",
    "print(df)"
   ]
  },
  {
   "cell_type": "markdown",
   "metadata": {
    "id": "t6aIetdRMvFy"
   },
   "source": [
    "**2. Analysis of data**"
   ]
  },
  {
   "cell_type": "code",
   "execution_count": 16,
   "metadata": {
    "colab": {
     "base_uri": "https://localhost:8080/",
     "height": 81
    },
    "id": "qJfvtFJSMZHO",
    "outputId": "d43719d0-2e6f-4091-8a4b-bc66dcc4fa58"
   },
   "outputs": [
    {
     "data": {
      "application/vnd.google.colaboratory.intrinsic+json": {
       "summary": "{\n  \"name\": \"df\",\n  \"rows\": 3,\n  \"fields\": [\n    {\n      \"column\": \"ID\",\n      \"properties\": {\n        \"dtype\": \"number\",\n        \"std\": 1,\n        \"min\": 1,\n        \"max\": 3,\n        \"num_unique_values\": 3,\n        \"samples\": [\n          1,\n          2,\n          3\n        ],\n        \"semantic_type\": \"\",\n        \"description\": \"\"\n      }\n    },\n    {\n      \"column\": \"Name\",\n      \"properties\": {\n        \"dtype\": \"string\",\n        \"num_unique_values\": 3,\n        \"samples\": [\n          \"Alice\",\n          \"Bob\",\n          \"Charlie\"\n        ],\n        \"semantic_type\": \"\",\n        \"description\": \"\"\n      }\n    },\n    {\n      \"column\": \"Father Name\",\n      \"properties\": {\n        \"dtype\": \"string\",\n        \"num_unique_values\": 3,\n        \"samples\": [\n          \"John Doe\",\n          \"Jane Smith\",\n          \"Michael Johnson\"\n        ],\n        \"semantic_type\": \"\",\n        \"description\": \"\"\n      }\n    },\n    {\n      \"column\": \"DoB\",\n      \"properties\": {\n        \"dtype\": \"object\",\n        \"num_unique_values\": 3,\n        \"samples\": [\n          \"2000-01-15\",\n          \"2001-03-22\",\n          \"2001-07-05\"\n        ],\n        \"semantic_type\": \"\",\n        \"description\": \"\"\n      }\n    }\n  ]\n}",
       "type": "dataframe",
       "variable_name": "df"
      },
      "text/html": [
       "\n",
       "  <div id=\"df-fc9be80c-06e1-4111-9b12-31b2ed864a16\" class=\"colab-df-container\">\n",
       "    <div>\n",
       "<style scoped>\n",
       "    .dataframe tbody tr th:only-of-type {\n",
       "        vertical-align: middle;\n",
       "    }\n",
       "\n",
       "    .dataframe tbody tr th {\n",
       "        vertical-align: top;\n",
       "    }\n",
       "\n",
       "    .dataframe thead th {\n",
       "        text-align: right;\n",
       "    }\n",
       "</style>\n",
       "<table border=\"1\" class=\"dataframe\">\n",
       "  <thead>\n",
       "    <tr style=\"text-align: right;\">\n",
       "      <th></th>\n",
       "      <th>ID</th>\n",
       "      <th>Name</th>\n",
       "      <th>Father Name</th>\n",
       "      <th>DoB</th>\n",
       "    </tr>\n",
       "  </thead>\n",
       "  <tbody>\n",
       "    <tr>\n",
       "      <th>0</th>\n",
       "      <td>1</td>\n",
       "      <td>Alice</td>\n",
       "      <td>John Doe</td>\n",
       "      <td>2000-01-15</td>\n",
       "    </tr>\n",
       "  </tbody>\n",
       "</table>\n",
       "</div>\n",
       "    <div class=\"colab-df-buttons\">\n",
       "\n",
       "  <div class=\"colab-df-container\">\n",
       "    <button class=\"colab-df-convert\" onclick=\"convertToInteractive('df-fc9be80c-06e1-4111-9b12-31b2ed864a16')\"\n",
       "            title=\"Convert this dataframe to an interactive table.\"\n",
       "            style=\"display:none;\">\n",
       "\n",
       "  <svg xmlns=\"http://www.w3.org/2000/svg\" height=\"24px\" viewBox=\"0 -960 960 960\">\n",
       "    <path d=\"M120-120v-720h720v720H120Zm60-500h600v-160H180v160Zm220 220h160v-160H400v160Zm0 220h160v-160H400v160ZM180-400h160v-160H180v160Zm440 0h160v-160H620v160ZM180-180h160v-160H180v160Zm440 0h160v-160H620v160Z\"/>\n",
       "  </svg>\n",
       "    </button>\n",
       "\n",
       "  <style>\n",
       "    .colab-df-container {\n",
       "      display:flex;\n",
       "      gap: 12px;\n",
       "    }\n",
       "\n",
       "    .colab-df-convert {\n",
       "      background-color: #E8F0FE;\n",
       "      border: none;\n",
       "      border-radius: 50%;\n",
       "      cursor: pointer;\n",
       "      display: none;\n",
       "      fill: #1967D2;\n",
       "      height: 32px;\n",
       "      padding: 0 0 0 0;\n",
       "      width: 32px;\n",
       "    }\n",
       "\n",
       "    .colab-df-convert:hover {\n",
       "      background-color: #E2EBFA;\n",
       "      box-shadow: 0px 1px 2px rgba(60, 64, 67, 0.3), 0px 1px 3px 1px rgba(60, 64, 67, 0.15);\n",
       "      fill: #174EA6;\n",
       "    }\n",
       "\n",
       "    .colab-df-buttons div {\n",
       "      margin-bottom: 4px;\n",
       "    }\n",
       "\n",
       "    [theme=dark] .colab-df-convert {\n",
       "      background-color: #3B4455;\n",
       "      fill: #D2E3FC;\n",
       "    }\n",
       "\n",
       "    [theme=dark] .colab-df-convert:hover {\n",
       "      background-color: #434B5C;\n",
       "      box-shadow: 0px 1px 3px 1px rgba(0, 0, 0, 0.15);\n",
       "      filter: drop-shadow(0px 1px 2px rgba(0, 0, 0, 0.3));\n",
       "      fill: #FFFFFF;\n",
       "    }\n",
       "  </style>\n",
       "\n",
       "    <script>\n",
       "      const buttonEl =\n",
       "        document.querySelector('#df-fc9be80c-06e1-4111-9b12-31b2ed864a16 button.colab-df-convert');\n",
       "      buttonEl.style.display =\n",
       "        google.colab.kernel.accessAllowed ? 'block' : 'none';\n",
       "\n",
       "      async function convertToInteractive(key) {\n",
       "        const element = document.querySelector('#df-fc9be80c-06e1-4111-9b12-31b2ed864a16');\n",
       "        const dataTable =\n",
       "          await google.colab.kernel.invokeFunction('convertToInteractive',\n",
       "                                                    [key], {});\n",
       "        if (!dataTable) return;\n",
       "\n",
       "        const docLinkHtml = 'Like what you see? Visit the ' +\n",
       "          '<a target=\"_blank\" href=https://colab.research.google.com/notebooks/data_table.ipynb>data table notebook</a>'\n",
       "          + ' to learn more about interactive tables.';\n",
       "        element.innerHTML = '';\n",
       "        dataTable['output_type'] = 'display_data';\n",
       "        await google.colab.output.renderOutput(dataTable, element);\n",
       "        const docLink = document.createElement('div');\n",
       "        docLink.innerHTML = docLinkHtml;\n",
       "        element.appendChild(docLink);\n",
       "      }\n",
       "    </script>\n",
       "  </div>\n",
       "\n",
       "\n",
       "    </div>\n",
       "  </div>\n"
      ],
      "text/plain": [
       "   ID   Name Father Name         DoB\n",
       "0   1  Alice    John Doe  2000-01-15"
      ]
     },
     "execution_count": 16,
     "metadata": {},
     "output_type": "execute_result"
    }
   ],
   "source": [
    "df.head(1) #shows the 10 values"
   ]
  },
  {
   "cell_type": "code",
   "execution_count": 17,
   "metadata": {
    "colab": {
     "base_uri": "https://localhost:8080/"
    },
    "id": "9xcp4_UfOR1F",
    "outputId": "94f1d34e-a54b-417e-9499-3bce17c2e8ee"
   },
   "outputs": [
    {
     "data": {
      "text/plain": [
       "(3, 4)"
      ]
     },
     "execution_count": 17,
     "metadata": {},
     "output_type": "execute_result"
    }
   ],
   "source": [
    "df.shape"
   ]
  },
  {
   "cell_type": "code",
   "execution_count": null,
   "metadata": {
    "colab": {
     "base_uri": "https://localhost:8080/",
     "height": 187
    },
    "id": "MKD-N0k4Ocpl",
    "outputId": "49288f88-9ef2-438e-90a1-eeb82da5a54f"
   },
   "outputs": [
    {
     "data": {
      "text/html": [
       "<div style=\"max-width:800px; border: 1px solid var(--colab-border-color);\"><style>\n",
       "      pre.function-repr-contents {\n",
       "        overflow-x: auto;\n",
       "        padding: 8px 12px;\n",
       "        max-height: 500px;\n",
       "      }\n",
       "\n",
       "      pre.function-repr-contents.function-repr-contents-collapsed {\n",
       "        cursor: pointer;\n",
       "        max-height: 100px;\n",
       "      }\n",
       "    </style>\n",
       "    <pre style=\"white-space: initial; background:\n",
       "         var(--colab-secondary-surface-color); padding: 8px 12px;\n",
       "         border-bottom: 1px solid var(--colab-border-color);\"><b>pandas.core.generic.NDFrame.describe</b><br/>def describe(percentiles=None, include=None, exclude=None) -&gt; Self</pre><pre class=\"function-repr-contents function-repr-contents-collapsed\" style=\"\"><a class=\"filepath\" style=\"display:none\" href=\"#\">/usr/local/lib/python3.10/dist-packages/pandas/core/generic.py</a>Generate descriptive statistics.\n",
       "\n",
       "Descriptive statistics include those that summarize the central\n",
       "tendency, dispersion and shape of a\n",
       "dataset&#x27;s distribution, excluding ``NaN`` values.\n",
       "\n",
       "Analyzes both numeric and object series, as well\n",
       "as ``DataFrame`` column sets of mixed data types. The output\n",
       "will vary depending on what is provided. Refer to the notes\n",
       "below for more detail.\n",
       "\n",
       "Parameters\n",
       "----------\n",
       "percentiles : list-like of numbers, optional\n",
       "    The percentiles to include in the output. All should\n",
       "    fall between 0 and 1. The default is\n",
       "    ``[.25, .5, .75]``, which returns the 25th, 50th, and\n",
       "    75th percentiles.\n",
       "include : &#x27;all&#x27;, list-like of dtypes or None (default), optional\n",
       "    A white list of data types to include in the result. Ignored\n",
       "    for ``Series``. Here are the options:\n",
       "\n",
       "    - &#x27;all&#x27; : All columns of the input will be included in the output.\n",
       "    - A list-like of dtypes : Limits the results to the\n",
       "      provided data types.\n",
       "      To limit the result to numeric types submit\n",
       "      ``numpy.number``. To limit it instead to object columns submit\n",
       "      the ``numpy.object`` data type. Strings\n",
       "      can also be used in the style of\n",
       "      ``select_dtypes`` (e.g. ``df.describe(include=[&#x27;O&#x27;])``). To\n",
       "      select pandas categorical columns, use ``&#x27;category&#x27;``\n",
       "    - None (default) : The result will include all numeric columns.\n",
       "exclude : list-like of dtypes or None (default), optional,\n",
       "    A black list of data types to omit from the result. Ignored\n",
       "    for ``Series``. Here are the options:\n",
       "\n",
       "    - A list-like of dtypes : Excludes the provided data types\n",
       "      from the result. To exclude numeric types submit\n",
       "      ``numpy.number``. To exclude object columns submit the data\n",
       "      type ``numpy.object``. Strings can also be used in the style of\n",
       "      ``select_dtypes`` (e.g. ``df.describe(exclude=[&#x27;O&#x27;])``). To\n",
       "      exclude pandas categorical columns, use ``&#x27;category&#x27;``\n",
       "    - None (default) : The result will exclude nothing.\n",
       "\n",
       "Returns\n",
       "-------\n",
       "Series or DataFrame\n",
       "    Summary statistics of the Series or Dataframe provided.\n",
       "\n",
       "See Also\n",
       "--------\n",
       "DataFrame.count: Count number of non-NA/null observations.\n",
       "DataFrame.max: Maximum of the values in the object.\n",
       "DataFrame.min: Minimum of the values in the object.\n",
       "DataFrame.mean: Mean of the values.\n",
       "DataFrame.std: Standard deviation of the observations.\n",
       "DataFrame.select_dtypes: Subset of a DataFrame including/excluding\n",
       "    columns based on their dtype.\n",
       "\n",
       "Notes\n",
       "-----\n",
       "For numeric data, the result&#x27;s index will include ``count``,\n",
       "``mean``, ``std``, ``min``, ``max`` as well as lower, ``50`` and\n",
       "upper percentiles. By default the lower percentile is ``25`` and the\n",
       "upper percentile is ``75``. The ``50`` percentile is the\n",
       "same as the median.\n",
       "\n",
       "For object data (e.g. strings or timestamps), the result&#x27;s index\n",
       "will include ``count``, ``unique``, ``top``, and ``freq``. The ``top``\n",
       "is the most common value. The ``freq`` is the most common value&#x27;s\n",
       "frequency. Timestamps also include the ``first`` and ``last`` items.\n",
       "\n",
       "If multiple object values have the highest count, then the\n",
       "``count`` and ``top`` results will be arbitrarily chosen from\n",
       "among those with the highest count.\n",
       "\n",
       "For mixed data types provided via a ``DataFrame``, the default is to\n",
       "return only an analysis of numeric columns. If the dataframe consists\n",
       "only of object and categorical data without any numeric columns, the\n",
       "default is to return an analysis of both the object and categorical\n",
       "columns. If ``include=&#x27;all&#x27;`` is provided as an option, the result\n",
       "will include a union of attributes of each type.\n",
       "\n",
       "The `include` and `exclude` parameters can be used to limit\n",
       "which columns in a ``DataFrame`` are analyzed for the output.\n",
       "The parameters are ignored when analyzing a ``Series``.\n",
       "\n",
       "Examples\n",
       "--------\n",
       "Describing a numeric ``Series``.\n",
       "\n",
       "&gt;&gt;&gt; s = pd.Series([1, 2, 3])\n",
       "&gt;&gt;&gt; s.describe()\n",
       "count    3.0\n",
       "mean     2.0\n",
       "std      1.0\n",
       "min      1.0\n",
       "25%      1.5\n",
       "50%      2.0\n",
       "75%      2.5\n",
       "max      3.0\n",
       "dtype: float64\n",
       "\n",
       "Describing a categorical ``Series``.\n",
       "\n",
       "&gt;&gt;&gt; s = pd.Series([&#x27;a&#x27;, &#x27;a&#x27;, &#x27;b&#x27;, &#x27;c&#x27;])\n",
       "&gt;&gt;&gt; s.describe()\n",
       "count     4\n",
       "unique    3\n",
       "top       a\n",
       "freq      2\n",
       "dtype: object\n",
       "\n",
       "Describing a timestamp ``Series``.\n",
       "\n",
       "&gt;&gt;&gt; s = pd.Series([\n",
       "...     np.datetime64(&quot;2000-01-01&quot;),\n",
       "...     np.datetime64(&quot;2010-01-01&quot;),\n",
       "...     np.datetime64(&quot;2010-01-01&quot;)\n",
       "... ])\n",
       "&gt;&gt;&gt; s.describe()\n",
       "count                      3\n",
       "mean     2006-09-01 08:00:00\n",
       "min      2000-01-01 00:00:00\n",
       "25%      2004-12-31 12:00:00\n",
       "50%      2010-01-01 00:00:00\n",
       "75%      2010-01-01 00:00:00\n",
       "max      2010-01-01 00:00:00\n",
       "dtype: object\n",
       "\n",
       "Describing a ``DataFrame``. By default only numeric fields\n",
       "are returned.\n",
       "\n",
       "&gt;&gt;&gt; df = pd.DataFrame({&#x27;categorical&#x27;: pd.Categorical([&#x27;d&#x27;, &#x27;e&#x27;, &#x27;f&#x27;]),\n",
       "...                    &#x27;numeric&#x27;: [1, 2, 3],\n",
       "...                    &#x27;object&#x27;: [&#x27;a&#x27;, &#x27;b&#x27;, &#x27;c&#x27;]\n",
       "...                    })\n",
       "&gt;&gt;&gt; df.describe()\n",
       "       numeric\n",
       "count      3.0\n",
       "mean       2.0\n",
       "std        1.0\n",
       "min        1.0\n",
       "25%        1.5\n",
       "50%        2.0\n",
       "75%        2.5\n",
       "max        3.0\n",
       "\n",
       "Describing all columns of a ``DataFrame`` regardless of data type.\n",
       "\n",
       "&gt;&gt;&gt; df.describe(include=&#x27;all&#x27;)  # doctest: +SKIP\n",
       "       categorical  numeric object\n",
       "count            3      3.0      3\n",
       "unique           3      NaN      3\n",
       "top              f      NaN      a\n",
       "freq             1      NaN      1\n",
       "mean           NaN      2.0    NaN\n",
       "std            NaN      1.0    NaN\n",
       "min            NaN      1.0    NaN\n",
       "25%            NaN      1.5    NaN\n",
       "50%            NaN      2.0    NaN\n",
       "75%            NaN      2.5    NaN\n",
       "max            NaN      3.0    NaN\n",
       "\n",
       "Describing a column from a ``DataFrame`` by accessing it as\n",
       "an attribute.\n",
       "\n",
       "&gt;&gt;&gt; df.numeric.describe()\n",
       "count    3.0\n",
       "mean     2.0\n",
       "std      1.0\n",
       "min      1.0\n",
       "25%      1.5\n",
       "50%      2.0\n",
       "75%      2.5\n",
       "max      3.0\n",
       "Name: numeric, dtype: float64\n",
       "\n",
       "Including only numeric columns in a ``DataFrame`` description.\n",
       "\n",
       "&gt;&gt;&gt; df.describe(include=[np.number])\n",
       "       numeric\n",
       "count      3.0\n",
       "mean       2.0\n",
       "std        1.0\n",
       "min        1.0\n",
       "25%        1.5\n",
       "50%        2.0\n",
       "75%        2.5\n",
       "max        3.0\n",
       "\n",
       "Including only string columns in a ``DataFrame`` description.\n",
       "\n",
       "&gt;&gt;&gt; df.describe(include=[object])  # doctest: +SKIP\n",
       "       object\n",
       "count       3\n",
       "unique      3\n",
       "top         a\n",
       "freq        1\n",
       "\n",
       "Including only categorical columns from a ``DataFrame`` description.\n",
       "\n",
       "&gt;&gt;&gt; df.describe(include=[&#x27;category&#x27;])\n",
       "       categorical\n",
       "count            3\n",
       "unique           3\n",
       "top              d\n",
       "freq             1\n",
       "\n",
       "Excluding numeric columns from a ``DataFrame`` description.\n",
       "\n",
       "&gt;&gt;&gt; df.describe(exclude=[np.number])  # doctest: +SKIP\n",
       "       categorical object\n",
       "count            3      3\n",
       "unique           3      3\n",
       "top              f      a\n",
       "freq             1      1\n",
       "\n",
       "Excluding object columns from a ``DataFrame`` description.\n",
       "\n",
       "&gt;&gt;&gt; df.describe(exclude=[object])  # doctest: +SKIP\n",
       "       categorical  numeric\n",
       "count            3      3.0\n",
       "unique           3      NaN\n",
       "top              f      NaN\n",
       "freq             1      NaN\n",
       "mean           NaN      2.0\n",
       "std            NaN      1.0\n",
       "min            NaN      1.0\n",
       "25%            NaN      1.5\n",
       "50%            NaN      2.0\n",
       "75%            NaN      2.5\n",
       "max            NaN      3.0</pre>\n",
       "      <script>\n",
       "      if (google.colab.kernel.accessAllowed && google.colab.files && google.colab.files.view) {\n",
       "        for (const element of document.querySelectorAll('.filepath')) {\n",
       "          element.style.display = 'block'\n",
       "          element.onclick = (event) => {\n",
       "            event.preventDefault();\n",
       "            event.stopPropagation();\n",
       "            google.colab.files.view(element.textContent, 11734);\n",
       "          };\n",
       "        }\n",
       "      }\n",
       "      for (const element of document.querySelectorAll('.function-repr-contents')) {\n",
       "        element.onclick = (event) => {\n",
       "          event.preventDefault();\n",
       "          event.stopPropagation();\n",
       "          element.classList.toggle('function-repr-contents-collapsed');\n",
       "        };\n",
       "      }\n",
       "      </script>\n",
       "      </div>"
      ],
      "text/plain": [
       "<bound method NDFrame.describe of    ID     Name      Father Name         DoB\n",
       "0   1    Alice         John Doe  2000-01-15\n",
       "1   2      Bob       Jane Smith  2001-03-22\n",
       "2   3  Charlie  Michael Johnson  2001-07-05>"
      ]
     },
     "execution_count": 18,
     "metadata": {},
     "output_type": "execute_result"
    }
   ],
   "source": [
    "\n",
    "\n",
    "\n",
    "df.describe\n",
    "\n",
    "\n"
   ]
  }
 ],
 "metadata": {
  "colab": {
   "provenance": []
  },
  "kernelspec": {
   "display_name": "Python 3",
   "name": "python3"
  },
  "language_info": {
   "name": "python"
  }
 },
 "nbformat": 4,
 "nbformat_minor": 0
}
