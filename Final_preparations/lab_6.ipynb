{
 "cells": [
  {
   "cell_type": "code",
   "execution_count": 31,
   "metadata": {},
   "outputs": [
    {
     "name": "stdout",
     "output_type": "stream",
     "text": [
      "Tag: book, Attributes: {'category': 'fiction'}, Text: \n",
      "        \n",
      "Tag:title\n",
      "Tag:author\n",
      "Tag:price\n",
      "Tag: book, Attributes: {'category': 'non-fiction'}, Text: \n",
      "        \n",
      "Tag:SubBooks\n",
      "text: My Coding\n",
      "text: 12312\n",
      "Tag:title\n",
      "Tag:author\n",
      "Tag:price\n"
     ]
    }
   ],
   "source": [
    "#Xml Parsing\n",
    "\n",
    "import os \n",
    "import xml.etree.ElementTree as ET\n",
    "\n",
    "# current_path=\"CTIDataset\"\n",
    "current_path=os.getcwd()\n",
    "# with open(os.path.join(current_path,'My_xml.xml'),'w') as file:\n",
    "#     file.write(\"\")\n",
    "    \n",
    "for xml_file in os.listdir(current_path):\n",
    "    if xml_file.endswith('.xml'):\n",
    "        try:\n",
    "            # Parse the XML file\n",
    "            tree = ET.parse(os.path.join(current_path, xml_file))\n",
    "            root = tree.getroot()\n",
    "            # print(root)\n",
    "            # Access the sub-elements of the root element\n",
    "            for child in root:\n",
    "                print(f\"Tag: {child.tag}, Attributes: {child.attrib}, Text: {child.text}\")\n",
    "                for subchild in child:\n",
    "                    print(f\"Tag:{subchild.tag}\")\n",
    "                    for final in subchild:\n",
    "                        print(f\"text:{final.text}\")\n",
    "                        if final.tag == \"code\":\n",
    "                            subchild.remove(final)\n",
    "            \n",
    "            # Write the modified XML back to the file\n",
    "            tree.write(os.path.join(current_path, xml_file))\n",
    "        except Exception as e:\n",
    "            print(f\"Error processing {xml_file}: {str(e)}\")\n",
    "        "
   ]
  },
  {
   "cell_type": "code",
   "execution_count": null,
   "metadata": {},
   "outputs": [],
   "source": [
    "#Creating root and elements of xml file\n",
    "root= ET.Element(\"Main_root\")\n",
    "\n",
    "child1= ET.SubElement(root,'Child1')\n",
    "child1.set(\"attribute\",\"value1\")\n",
    "child1.text=\"This is child1\"\n",
    "\n",
    "child2= ET.SubElement(root,\"Child2\")\n",
    "child2.set(\"attribute\",\"value2\")\n",
    "child2.text=\"This is child 2\"\n",
    "\n",
    "tree=ET.ElementTree(root)\n",
    "tree.write(\"new.xml\",encoding=\"utf-8\",xml_declaration=True)\n"
   ]
  },
  {
   "cell_type": "code",
   "execution_count": null,
   "metadata": {},
   "outputs": [],
   "source": []
  }
 ],
 "metadata": {
  "kernelspec": {
   "display_name": "base",
   "language": "python",
   "name": "python3"
  },
  "language_info": {
   "codemirror_mode": {
    "name": "ipython",
    "version": 3
   },
   "file_extension": ".py",
   "mimetype": "text/x-python",
   "name": "python",
   "nbconvert_exporter": "python",
   "pygments_lexer": "ipython3",
   "version": "3.12.2"
  }
 },
 "nbformat": 4,
 "nbformat_minor": 2
}
