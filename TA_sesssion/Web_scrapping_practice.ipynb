{
 "cells": [
  {
   "cell_type": "code",
   "execution_count": 10,
   "metadata": {},
   "outputs": [
    {
     "name": "stdout",
     "output_type": "stream",
     "text": [
      "<h1>Test Sites</h1>\n",
      "<p>Web Scraper</p>\n",
      "{'iframe', 'body', 'img', 'nav', 'i', 'span', 'script', 'noscript', 'html', 'h2', 'ul', 'header', 'hr', 'b', 'button', 'h1', 'link', 'title', 'meta', 'br', 'head', 'div', 'p', 'li', 'a'}\n"
     ]
    }
   ],
   "source": [
    "import requests\n",
    "from bs4 import BeautifulSoup\n",
    "\n",
    "url=\"https://webscraper.io/test-sites\"\n",
    "\n",
    "response=requests.get(url)\n",
    "\n",
    "response.status_code #It range from 100 to 500 each value has its meaning\n",
    "\n",
    "Content=response.content\n",
    "# soup=BeautifulSoup(Content,\"lxml\")\n",
    "Object_1=BeautifulSoup(Content,\"html.parser\")\n",
    "\n",
    "print(Object_1.h1)# we can directly get the tag by object_1.h1 or object_1.p \n",
    "print(Object_1.p)\n",
    "\n",
    "all_tags=set([tags.name for tags in Object_1.find_all()])\n",
    "print(all_tags)\n"
   ]
  },
  {
   "cell_type": "code",
   "execution_count": null,
   "metadata": {},
   "outputs": [],
   "source": []
  }
 ],
 "metadata": {
  "kernelspec": {
   "display_name": "Python 3",
   "language": "python",
   "name": "python3"
  },
  "language_info": {
   "codemirror_mode": {
    "name": "ipython",
    "version": 3
   },
   "file_extension": ".py",
   "mimetype": "text/x-python",
   "name": "python",
   "nbconvert_exporter": "python",
   "pygments_lexer": "ipython3",
   "version": "3.8.10"
  }
 },
 "nbformat": 4,
 "nbformat_minor": 2
}
