{
 "cells": [
  {
   "cell_type": "code",
   "execution_count": 56,
   "metadata": {},
   "outputs": [
    {
     "name": "stdout",
     "output_type": "stream",
     "text": [
      "DATA FRAM        MedInc  HouseAge  AveRooms  AveBedrms  Population  AveOccup  Latitude  \\\n",
      "0      8.3252      41.0  6.984127   1.023810       322.0  2.555556     37.88   \n",
      "1      8.3014      21.0  6.238137   0.971880      2401.0  2.109842     37.86   \n",
      "2      7.2574      52.0  8.288136   1.073446       496.0  2.802260     37.85   \n",
      "3      5.6431      52.0  5.817352   1.073059       558.0  2.547945     37.85   \n",
      "4      3.8462      52.0  6.281853   1.081081       565.0  2.181467     37.85   \n",
      "...       ...       ...       ...        ...         ...       ...       ...   \n",
      "20635  1.5603      25.0  5.045455   1.133333       845.0  2.560606     39.48   \n",
      "20636  2.5568      18.0  6.114035   1.315789       356.0  3.122807     39.49   \n",
      "20637  1.7000      17.0  5.205543   1.120092      1007.0  2.325635     39.43   \n",
      "20638  1.8672      18.0  5.329513   1.171920       741.0  2.123209     39.43   \n",
      "20639  2.3886      16.0  5.254717   1.162264      1387.0  2.616981     39.37   \n",
      "\n",
      "       Longitude  \n",
      "0        -122.23  \n",
      "1        -122.22  \n",
      "2        -122.24  \n",
      "3        -122.25  \n",
      "4        -122.25  \n",
      "...          ...  \n",
      "20635    -121.09  \n",
      "20636    -121.21  \n",
      "20637    -121.22  \n",
      "20638    -121.32  \n",
      "20639    -121.24  \n",
      "\n",
      "[20640 rows x 8 columns]\n",
      "Group by HouseAge and Mean of Population: HouseAge\n",
      "21.0    2401.000000\n",
      "41.0     322.000000\n",
      "52.0     539.666667\n",
      "Name: Population, dtype: float64\n",
      "Group by MedHouseVal and Mean of Population: MedHouseVal\n",
      "3.413     558.0\n",
      "3.422     565.0\n",
      "3.521     496.0\n",
      "3.585    2401.0\n",
      "4.526     322.0\n",
      "Name: Population, dtype: float64\n",
      "MedHouseVal\n",
      "3.413     558.0\n",
      "3.422     565.0\n",
      "3.521     496.0\n",
      "3.585    2401.0\n",
      "4.526     322.0\n",
      "Name: Population, dtype: float64\n"
     ]
    }
   ],
   "source": [
    "\n",
    "import pandas as pd\n",
    "from sklearn.datasets import fetch_california_housing\n",
    "import kagglehub\n",
    "import os\n",
    "\n",
    "housing_data=fetch_california_housing()\n",
    "\n",
    "\n",
    "Data_frame_Housing=pd.DataFrame(housing_data.data)\n",
    "i=0\n",
    "for j in housing_data.feature_names:\n",
    "        Data_frame_Housing.rename(columns={ i:f\"{j}\"},inplace=True)\n",
    "        i+=1\n",
    "        \n",
    "#Data frame\n",
    "print(\"DATA FRAM\",Data_frame_Housing)\n",
    "Data_frame_Housing[\"MedHouseVal\"]=housing_data.target\n",
    "\n",
    "Group_by_data=Data_frame_Housing.groupby('HouseAge')['Population'].mean()\n",
    "\n",
    "print(\"Group by HouseAge and Mean of Population:\",Group_by_data)\n",
    "\n",
    "Group_by_data=Data_frame_Housing.groupby('MedHouseVal')['Population'].mean()\n",
    "\n",
    "print(\"Group by MedHouseVal and Mean of Population:\",Group_by_data)\n",
    "print(Group_by_data)\n",
    "\n",
    "\n",
    "print(\"Storing Population Data in Variable and Changing its type\")\n",
    "Population=Data_frame_Housing['Population'].astype(int)\n",
    "print(Population)\n",
    "\n",
    "p23_0686_Raqeeb=\"p23_0686_Raqeeb\"\n",
    "\n",
    "#To make the directory\n",
    "if not  os.path.exists(p23_0686_Raqeeb):\n",
    "    os.makedirs(p23_0686_Raqeeb)\n",
    "\n",
    "#to write in the csv file the dataframe\n",
    "with open(os.path.join(p23_0686_Raqeeb,\"p23_0686_Raqeeb.csv\"), \"w\") as  file:\n",
    "    Data_frame_Housing.to_csv(file, index=False)\n",
    "    \n",
    "\n",
    "    \n",
    "\n"
   ]
  },
  {
   "cell_type": "code",
   "execution_count": 2,
   "metadata": {},
   "outputs": [
    {
     "name": "stdout",
     "output_type": "stream",
     "text": [
      "Requirement already satisfied: update in /home/raqeeb/.local/lib/python3.8/site-packages (0.0.1)\n",
      "Requirement already satisfied: style==1.1.0 in /home/raqeeb/.local/lib/python3.8/site-packages (from update) (1.1.0)\n",
      "Note: you may need to restart the kernel to use updated packages.\n"
     ]
    }
   ],
   "source": []
  },
  {
   "cell_type": "code",
   "execution_count": null,
   "metadata": {},
   "outputs": [],
   "source": []
  }
 ],
 "metadata": {
  "kernelspec": {
   "display_name": "Python 3",
   "language": "python",
   "name": "python3"
  },
  "language_info": {
   "codemirror_mode": {
    "name": "ipython",
    "version": 3
   },
   "file_extension": ".py",
   "mimetype": "text/x-python",
   "name": "python",
   "nbconvert_exporter": "python",
   "pygments_lexer": "ipython3",
   "version": "3.8.10"
  }
 },
 "nbformat": 4,
 "nbformat_minor": 2
}
