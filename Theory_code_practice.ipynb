{
 "cells": [
  {
   "cell_type": "code",
   "execution_count": 2,
   "metadata": {},
   "outputs": [
    {
     "name": "stdout",
     "output_type": "stream",
     "text": [
      "[3, 4, 5, 6]\n",
      "[4, 5, 6, 3]\n"
     ]
    }
   ],
   "source": [
    "l1=[4,5,6,3]\n",
    "print(sorted(l1))\n",
    "print(l1)"
   ]
  },
  {
   "cell_type": "code",
   "execution_count": 3,
   "metadata": {},
   "outputs": [],
   "source": [
    "l1.sort()"
   ]
  },
  {
   "cell_type": "code",
   "execution_count": 4,
   "metadata": {},
   "outputs": [
    {
     "name": "stdout",
     "output_type": "stream",
     "text": [
      "[3, 4, 5, 6]\n"
     ]
    }
   ],
   "source": [
    "print(l1)"
   ]
  },
  {
   "cell_type": "code",
   "execution_count": 9,
   "metadata": {},
   "outputs": [
    {
     "name": "stdout",
     "output_type": "stream",
     "text": [
      "<class 'tuple'>\n",
      "(1, 2, 3)\n"
     ]
    }
   ],
   "source": [
    "my_tuple=()\n",
    "print(type(my_tuple))\n",
    "my_tuple=my_tuple+(1,2,3)\n",
    "\n",
    "print(my_tuple)"
   ]
  },
  {
   "cell_type": "code",
   "execution_count": 3,
   "metadata": {},
   "outputs": [
    {
     "name": "stdout",
     "output_type": "stream",
     "text": [
      "1 2\n"
     ]
    }
   ],
   "source": [
    "#tuple unpacking\n",
    "a,b=(1,2)\n",
    "print(a,b)"
   ]
  },
  {
   "cell_type": "code",
   "execution_count": 5,
   "metadata": {},
   "outputs": [
    {
     "name": "stdout",
     "output_type": "stream",
     "text": [
      "{0, True}\n",
      "{0, 1}\n"
     ]
    }
   ],
   "source": [
    "print({True,0,0,1,False,True})\n",
    "print({1,0,True,False})"
   ]
  },
  {
   "cell_type": "code",
   "execution_count": 19,
   "metadata": {},
   "outputs": [
    {
     "name": "stdout",
     "output_type": "stream",
     "text": [
      "Name\n",
      "Raqeeb\n",
      "Khan\n",
      "Ahmad\n",
      "___________\n",
      "Student_Roll:\n",
      "1\n",
      "2\n",
      "3\n",
      "___________\n",
      "Student_GPA:\n",
      "4\n",
      "3.4\n",
      "3.3\n",
      "___________\n",
      "Student_city\n",
      "Skardu\n",
      "Lahore\n",
      "Multan\n",
      "___________\n"
     ]
    }
   ],
   "source": [
    "#Accessing the dictionary values\n",
    "my_dictionary={\"Name\":['Raqeeb','Khan','Ahmad'],\"Student_Roll:\":[1,2,3], \"Student_GPA:\":[4,3.4,3.3], \"Student_city\":[\"Skardu\",\"Lahore\",\"Multan\"]}\n",
    "\n",
    "for key in my_dictionary:\n",
    "    print(key)\n",
    "    for i in my_dictionary.get(key):\n",
    "        print(i)\n",
    "    \n",
    "    print(\"___________\")\n"
   ]
  },
  {
   "cell_type": "code",
   "execution_count": 1,
   "metadata": {},
   "outputs": [
    {
     "name": "stdout",
     "output_type": "stream",
     "text": [
      "[9]\n"
     ]
    }
   ],
   "source": [
    "l1=[9,33,4,45,55,6,91,33]\n",
    "\n",
    "print(l1[::5500])"
   ]
  },
  {
   "cell_type": "code",
   "execution_count": null,
   "metadata": {},
   "outputs": [],
   "source": [
    "#What is happening in the back coding of the SET data?"
   ]
  },
  {
   "cell_type": "code",
   "execution_count": 2,
   "metadata": {},
   "outputs": [
    {
     "name": "stdout",
     "output_type": "stream",
     "text": [
      "[1, 3, 4]\n"
     ]
    }
   ],
   "source": [
    "l1=[1,9,3,4]\n",
    "\n",
    "l1.remove(9)\n",
    "print(l1)"
   ]
  },
  {
   "cell_type": "code",
   "execution_count": 1,
   "metadata": {},
   "outputs": [],
   "source": [
    "my_set=set()"
   ]
  },
  {
   "cell_type": "code",
   "execution_count": 2,
   "metadata": {},
   "outputs": [],
   "source": [
    "my_set.add(2)"
   ]
  },
  {
   "cell_type": "code",
   "execution_count": 30,
   "metadata": {},
   "outputs": [
    {
     "name": "stdout",
     "output_type": "stream",
     "text": [
      "[4]\n"
     ]
    }
   ],
   "source": [
    "my_set={1,2,3,34,4,5,6,7}\n",
    "my_list=[1,2,3,4]\n",
    "my_list[4::]\n",
    "print(my_list[::-900])"
   ]
  },
  {
   "cell_type": "code",
   "execution_count": null,
   "metadata": {},
   "outputs": [],
   "source": []
  }
 ],
 "metadata": {
  "kernelspec": {
   "display_name": "Python 3",
   "language": "python",
   "name": "python3"
  },
  "language_info": {
   "codemirror_mode": {
    "name": "ipython",
    "version": 3
   },
   "file_extension": ".py",
   "mimetype": "text/x-python",
   "name": "python",
   "nbconvert_exporter": "python",
   "pygments_lexer": "ipython3",
   "version": "3.12.5"
  }
 },
 "nbformat": 4,
 "nbformat_minor": 2
}
