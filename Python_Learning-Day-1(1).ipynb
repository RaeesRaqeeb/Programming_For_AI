{
 "cells": [
  {
   "cell_type": "code",
   "execution_count": 5,
   "metadata": {},
   "outputs": [
    {
     "name": "stdout",
     "output_type": "stream",
     "text": [
      "3\n"
     ]
    }
   ],
   "source": [
    "a=0b0011\n",
    "print(a)"
   ]
  },
  {
   "cell_type": "code",
   "execution_count": 7,
   "metadata": {},
   "outputs": [
    {
     "name": "stdout",
     "output_type": "stream",
     "text": [
      "4.0\n"
     ]
    }
   ],
   "source": [
    "#complex \n",
    "x=4+4j\n",
    "print(x.imag)"
   ]
  },
  {
   "cell_type": "code",
   "execution_count": 14,
   "metadata": {},
   "outputs": [
    {
     "name": "stdout",
     "output_type": "stream",
     "text": [
      "😀\n"
     ]
    }
   ],
   "source": [
    "#String \n",
    "#Triple qoute used for multiple line strings\n",
    "\n",
    "unicde=u\"\\U0001f600\"\n",
    "print(unicde)"
   ]
  },
  {
   "cell_type": "code",
   "execution_count": 15,
   "metadata": {},
   "outputs": [
    {
     "name": "stdout",
     "output_type": "stream",
     "text": [
      "Data-Science-Mentorship-Program-By-CampusX\n"
     ]
    }
   ],
   "source": [
    "print('Data',end='-')\n",
    "print('Science',end='-')\n",
    "print('Mentorship',end='-')\n",
    "print('Program',end='-')\n",
    "print('By',end='-')\n",
    "print('CampusX')"
   ]
  },
  {
   "cell_type": "code",
   "execution_count": 20,
   "metadata": {},
   "outputs": [
    {
     "name": "stdout",
     "output_type": "stream",
     "text": [
      "Celsius 0 = 32 Fahrenheit\n"
     ]
    }
   ],
   "source": [
    "Celsius=int(input('Input Value of temperature in Celsius:'))\n",
    "fahrenheit=int((1.8)*Celsius + 32)\n",
    "print(f'Celsius {Celsius} = {fahrenheit} Fahrenheit')"
   ]
  },
  {
   "cell_type": "code",
   "execution_count": 21,
   "metadata": {},
   "outputs": [
    {
     "name": "stdout",
     "output_type": "stream",
     "text": [
      "Value of first is now 2 and value of second is 1\n"
     ]
    }
   ],
   "source": [
    "num=int(input('Enter number 1:'))\n",
    "num2=int(input('ENter number 2:'))\n",
    "\n",
    "num=num+num2\n",
    "num2=num-num2\n",
    "num=num-num2\n",
    "\n",
    "print(f'Value of first is now {num} and value of second is {num2}')\n"
   ]
  },
  {
   "cell_type": "code",
   "execution_count": 28,
   "metadata": {},
   "outputs": [
    {
     "name": "stdout",
     "output_type": "stream",
     "text": [
      "Distance between two given points is: 4.47213595499958\n"
     ]
    }
   ],
   "source": [
    "#Distance between two points\n",
    "import math\n",
    "\n",
    "x1=int(input('Enter x coordinates:'))\n",
    "y1=int(input('Enter y Coordinates:'))\n",
    "\n",
    "x2=int(input('Enter x2 coordinates:'))\n",
    "y2=int(input('Enter y2 Coordinates:'))\n",
    "\n",
    "term1=int(x2-x1)\n",
    "term1= term1**2\n",
    "\n",
    "term2=y2-y1\n",
    "term2=int(term2**2)\n",
    "\n",
    "distance=(math.sqrt(term1+term2))\n",
    "print(\"Distance between two given points is:\",distance)"
   ]
  },
  {
   "cell_type": "code",
   "execution_count": 33,
   "metadata": {},
   "outputs": [
    {
     "name": "stdout",
     "output_type": "stream",
     "text": [
      "Sum of first 5 natural number is 15\n"
     ]
    }
   ],
   "source": [
    "#Sum of first n natural numbers\n",
    "n=int(input('Enter the number of values:'))\n",
    "sum=int(0)\n",
    "for i in range(n):\n",
    "    sum+=i\n",
    "print(f'Sum of first {n} natural number is {sum}')\n"
   ]
  },
  {
   "cell_type": "code",
   "execution_count": 38,
   "metadata": {},
   "outputs": [
    {
     "name": "stdout",
     "output_type": "stream",
     "text": [
      "Sum of given frations are:4.0\n"
     ]
    }
   ],
   "source": [
    "#Sum of fractions\n",
    "\n",
    "N1=int(input('Enter numerator 1:'))\n",
    "D1=int(input('Denomerator 1:'))\n",
    "\n",
    "N2=int(input('Neumerator 2:'))\n",
    "D2=int(input('Denomerator 2:'))\n",
    "\n",
    "sum=int(0)\n",
    "if(D1==D2):\n",
    "    sum=(N1+N2)/D1\n",
    "else:\n",
    "    sum=(N1/D1)+(N2/D2)\n",
    "\n",
    "print(f'Sum of given frations are:{sum}')\n",
    "\n"
   ]
  },
  {
   "cell_type": "code",
   "execution_count": 41,
   "metadata": {},
   "outputs": [
    {
     "name": "stdout",
     "output_type": "stream",
     "text": [
      "Number of glass can be taken from the container are:5.0\n"
     ]
    }
   ],
   "source": [
    "#Finding number of Glasses Which can be fit in the given chamber\n",
    "\n",
    "height1=int(input('Enter the height of milk tank:'))\n",
    "Length1=int(input('Enter the length of milk tank:'))\n",
    "breath1=int(input('Enter the breath of milk tank:'))\n",
    "\n",
    "volume_of_milk_tank=int(height1*Length1*breath1)\n",
    "\n",
    "Glass_volume=int(3.14 * 1 * 3)\n",
    "\n",
    "number_of_glass=volume_of_milk_tank/Glass_volume\n",
    "\n",
    "print(f'Number of glass can be taken from the container are:{number_of_glass}')\n",
    "\n"
   ]
  },
  {
   "cell_type": "code",
   "execution_count": 43,
   "metadata": {},
   "outputs": [
    {
     "name": "stdout",
     "output_type": "stream",
     "text": [
      "1.3333333333333333\n",
      "1\n"
     ]
    }
   ],
   "source": [
    "#integer division\n",
    "print(4/3)\n",
    "print(4//3) #show only integer ignore the point values"
   ]
  },
  {
   "cell_type": "code",
   "execution_count": 45,
   "metadata": {},
   "outputs": [
    {
     "name": "stdout",
     "output_type": "stream",
     "text": [
      "2\n",
      "3\n",
      "-4\n"
     ]
    }
   ],
   "source": [
    "\n",
    "#BitWise operator\n",
    "\n",
    "print(2 &3)\n",
    "#output is 2 because 010\n",
    "                    #011 when we do AND of each term with the cooresponding term then we get 2\n",
    "\n",
    "print(2 | 3)\n",
    "\n",
    "\n",
    "print(~3)#bitwise not which invert the each binary term of 3 like 011 then it will be 100=4"
   ]
  },
  {
   "cell_type": "code",
   "execution_count": 48,
   "metadata": {},
   "outputs": [
    {
     "name": "stdout",
     "output_type": "stream",
     "text": [
      "True\n",
      "False\n"
     ]
    }
   ],
   "source": [
    "#Membership operator\n",
    "\n",
    "#in/not in\n",
    "\n",
    "print('d' in 'dog')\n",
    "print('d' not in 'dog')\n",
    "\n"
   ]
  },
  {
   "cell_type": "code",
   "execution_count": 53,
   "metadata": {},
   "outputs": [
    {
     "ename": "KeyboardInterrupt",
     "evalue": "Interrupted by user",
     "output_type": "error",
     "traceback": [
      "\u001b[0;31m---------------------------------------------------------------------------\u001b[0m",
      "\u001b[0;31mKeyboardInterrupt\u001b[0m                         Traceback (most recent call last)",
      "Cell \u001b[0;32mIn[53], line 1\u001b[0m\n\u001b[0;32m----> 1\u001b[0m num\u001b[38;5;241m=\u001b[39m\u001b[38;5;28mint\u001b[39m(\u001b[38;5;28;43minput\u001b[39;49m\u001b[43m(\u001b[49m\u001b[38;5;124;43m\"\u001b[39;49m\u001b[38;5;124;43mEnter 3 digit number\u001b[39;49m\u001b[38;5;124;43m\"\u001b[39;49m\u001b[43m)\u001b[49m)\n\u001b[1;32m      3\u001b[0m \u001b[38;5;28msum\u001b[39m\u001b[38;5;241m=\u001b[39m\u001b[38;5;28mint\u001b[39m(num\u001b[38;5;241m%\u001b[39m\u001b[38;5;241m10\u001b[39m)\u001b[38;5;241m+\u001b[39m\u001b[38;5;28mint\u001b[39m((num\u001b[38;5;241m%\u001b[39m\u001b[38;5;241m100\u001b[39m)\u001b[38;5;241m/\u001b[39m\u001b[38;5;241m/\u001b[39m\u001b[38;5;241m10\u001b[39m) \u001b[38;5;241m+\u001b[39m \u001b[38;5;28mint\u001b[39m(num\u001b[38;5;241m/\u001b[39m\u001b[38;5;241m/\u001b[39m\u001b[38;5;241m100\u001b[39m)\n\u001b[1;32m      5\u001b[0m \u001b[38;5;28mprint\u001b[39m(\u001b[38;5;124m\"\u001b[39m\u001b[38;5;124msum of the three digits is\u001b[39m\u001b[38;5;124m\"\u001b[39m, \u001b[38;5;28msum\u001b[39m)\n",
      "File \u001b[0;32m~/Data_Science_Preparation/.venv/lib/python3.12/site-packages/ipykernel/kernelbase.py:1282\u001b[0m, in \u001b[0;36mKernel.raw_input\u001b[0;34m(self, prompt)\u001b[0m\n\u001b[1;32m   1280\u001b[0m     msg \u001b[38;5;241m=\u001b[39m \u001b[38;5;124m\"\u001b[39m\u001b[38;5;124mraw_input was called, but this frontend does not support input requests.\u001b[39m\u001b[38;5;124m\"\u001b[39m\n\u001b[1;32m   1281\u001b[0m     \u001b[38;5;28;01mraise\u001b[39;00m StdinNotImplementedError(msg)\n\u001b[0;32m-> 1282\u001b[0m \u001b[38;5;28;01mreturn\u001b[39;00m \u001b[38;5;28;43mself\u001b[39;49m\u001b[38;5;241;43m.\u001b[39;49m\u001b[43m_input_request\u001b[49m\u001b[43m(\u001b[49m\n\u001b[1;32m   1283\u001b[0m \u001b[43m    \u001b[49m\u001b[38;5;28;43mstr\u001b[39;49m\u001b[43m(\u001b[49m\u001b[43mprompt\u001b[49m\u001b[43m)\u001b[49m\u001b[43m,\u001b[49m\n\u001b[1;32m   1284\u001b[0m \u001b[43m    \u001b[49m\u001b[38;5;28;43mself\u001b[39;49m\u001b[38;5;241;43m.\u001b[39;49m\u001b[43m_parent_ident\u001b[49m\u001b[43m[\u001b[49m\u001b[38;5;124;43m\"\u001b[39;49m\u001b[38;5;124;43mshell\u001b[39;49m\u001b[38;5;124;43m\"\u001b[39;49m\u001b[43m]\u001b[49m\u001b[43m,\u001b[49m\n\u001b[1;32m   1285\u001b[0m \u001b[43m    \u001b[49m\u001b[38;5;28;43mself\u001b[39;49m\u001b[38;5;241;43m.\u001b[39;49m\u001b[43mget_parent\u001b[49m\u001b[43m(\u001b[49m\u001b[38;5;124;43m\"\u001b[39;49m\u001b[38;5;124;43mshell\u001b[39;49m\u001b[38;5;124;43m\"\u001b[39;49m\u001b[43m)\u001b[49m\u001b[43m,\u001b[49m\n\u001b[1;32m   1286\u001b[0m \u001b[43m    \u001b[49m\u001b[43mpassword\u001b[49m\u001b[38;5;241;43m=\u001b[39;49m\u001b[38;5;28;43;01mFalse\u001b[39;49;00m\u001b[43m,\u001b[49m\n\u001b[1;32m   1287\u001b[0m \u001b[43m\u001b[49m\u001b[43m)\u001b[49m\n",
      "File \u001b[0;32m~/Data_Science_Preparation/.venv/lib/python3.12/site-packages/ipykernel/kernelbase.py:1325\u001b[0m, in \u001b[0;36mKernel._input_request\u001b[0;34m(self, prompt, ident, parent, password)\u001b[0m\n\u001b[1;32m   1322\u001b[0m \u001b[38;5;28;01mexcept\u001b[39;00m \u001b[38;5;167;01mKeyboardInterrupt\u001b[39;00m:\n\u001b[1;32m   1323\u001b[0m     \u001b[38;5;66;03m# re-raise KeyboardInterrupt, to truncate traceback\u001b[39;00m\n\u001b[1;32m   1324\u001b[0m     msg \u001b[38;5;241m=\u001b[39m \u001b[38;5;124m\"\u001b[39m\u001b[38;5;124mInterrupted by user\u001b[39m\u001b[38;5;124m\"\u001b[39m\n\u001b[0;32m-> 1325\u001b[0m     \u001b[38;5;28;01mraise\u001b[39;00m \u001b[38;5;167;01mKeyboardInterrupt\u001b[39;00m(msg) \u001b[38;5;28;01mfrom\u001b[39;00m \u001b[38;5;28;01mNone\u001b[39;00m\n\u001b[1;32m   1326\u001b[0m \u001b[38;5;28;01mexcept\u001b[39;00m \u001b[38;5;167;01mException\u001b[39;00m:\n\u001b[1;32m   1327\u001b[0m     \u001b[38;5;28mself\u001b[39m\u001b[38;5;241m.\u001b[39mlog\u001b[38;5;241m.\u001b[39mwarning(\u001b[38;5;124m\"\u001b[39m\u001b[38;5;124mInvalid Message:\u001b[39m\u001b[38;5;124m\"\u001b[39m, exc_info\u001b[38;5;241m=\u001b[39m\u001b[38;5;28;01mTrue\u001b[39;00m)\n",
      "\u001b[0;31mKeyboardInterrupt\u001b[0m: Interrupted by user"
     ]
    }
   ],
   "source": [
    "num=int(input(\"Enter 3 digit number\"))\n",
    "\n",
    "sum=int(num%10)+int((num%100)//10) + int(num//100)\n",
    "\n",
    "print(\"sum of the three digits is\", sum)"
   ]
  },
  {
   "cell_type": "code",
   "execution_count": 62,
   "metadata": {},
   "outputs": [
    {
     "name": "stdout",
     "output_type": "stream",
     "text": [
      "84\n"
     ]
    }
   ],
   "source": [
    "#modules in Python \n",
    "import random\n",
    "\n",
    "print(random.randint(1,100))\n"
   ]
  },
  {
   "cell_type": "code",
   "execution_count": 64,
   "metadata": {},
   "outputs": [
    {
     "name": "stdout",
     "output_type": "stream",
     "text": [
      "2024-06-09 19:52:49.704818\n"
     ]
    }
   ],
   "source": [
    "import datetime\n",
    "\n",
    "print(datetime.datetime.now())\n"
   ]
  },
  {
   "cell_type": "code",
   "execution_count": 66,
   "metadata": {},
   "outputs": [
    {
     "name": "stdout",
     "output_type": "stream",
     "text": [
      "\n",
      "Please wait a moment while I gather a list of all available modules...\n",
      "\n",
      "IPython             _threading_local    hashlib             runpy\n",
      "__future__          _tkinter            heapq               sched\n",
      "__hello__           _tokenize           hmac                secrets\n",
      "__phello__          _tracemalloc        html                select\n",
      "_abc                _typing             http                selectors\n",
      "_aix_support        _uuid               imaplib             shelve\n",
      "_ast                _warnings           imghdr              shlex\n",
      "_asyncio            _weakref            importlib           shutil\n",
      "_bisect             _weakrefset         inspect             signal\n",
      "_blake2             _xxinterpchannels   io                  site\n",
      "_bz2                _xxsubinterpreters  ipaddress           sitecustomize\n",
      "_codecs             _xxtestfuzz         ipykernel           six\n",
      "_codecs_cn          _zoneinfo           ipykernel_launcher  smtplib\n",
      "_codecs_hk          abc                 itertools           sndhdr\n",
      "_codecs_iso2022     aifc                jedi                socket\n",
      "_codecs_jp          antigravity         json                socketserver\n",
      "_codecs_kr          argparse            jupyter             spwd\n",
      "_codecs_tw          array               jupyter_client      sqlite3\n",
      "_collections        ast                 jupyter_core        sre_compile\n",
      "_collections_abc    asttokens           keyword             sre_constants\n",
      "_compat_pickle      asyncio             lib2to3             sre_parse\n",
      "_compression        atexit              linecache           ssl\n",
      "_contextvars        audioop             locale              stack_data\n",
      "_crypt              base64              logging             stat\n",
      "_csv                bdb                 lzma                statistics\n",
      "_ctypes             binascii            mailbox             string\n",
      "_ctypes_test        bisect              mailcap             stringprep\n",
      "_curses             builtins            marshal             struct\n",
      "_curses_panel       bz2                 math                subprocess\n",
      "_datetime           cProfile            matplotlib_inline   sunau\n",
      "_dbm                calendar            mimetypes           symtable\n",
      "_decimal            cgi                 mmap                sys\n",
      "_distutils_system_mod cgitb               modulefinder        sysconfig\n",
      "_elementtree        chunk               multiprocessing     syslog\n",
      "_functools          cmath               nest_asyncio        tabnanny\n",
      "_hashlib            cmd                 netrc               tarfile\n",
      "_heapq              code                nis                 telnetlib\n",
      "_imp                codecs              nntplib             tempfile\n",
      "_io                 codeop              ntpath              termios\n",
      "_json               collections         nturl2path          test\n",
      "_locale             colorsys            numbers             textwrap\n",
      "_lsprof             comm                opcode              this\n",
      "_lzma               compileall          operator            threading\n",
      "_markupbase         concurrent          optparse            time\n",
      "_md5                configparser        os                  timeit\n",
      "_multibytecodec     contextlib          ossaudiodev         tkinter\n",
      "_multiprocessing    contextvars         packaging           token\n",
      "_opcode             copy                parso               tokenize\n",
      "_operator           copyreg             pathlib             tomllib\n",
      "_osx_support        crypt               pdb                 tornado\n",
      "_pickle             csv                 pexpect             trace\n",
      "_posixshmem         ctypes              pickle              traceback\n",
      "_posixsubprocess    curses              pickletools         tracemalloc\n",
      "_py_abc             dataclasses         pip                 traitlets\n",
      "_pydatetime         datetime            pipes               tty\n",
      "_pydecimal          dateutil            pkgutil             turtle\n",
      "_pyio               dbm                 platform            types\n",
      "_pylong             debugpy             platformdirs        typing\n",
      "_queue              decimal             plistlib            unicodedata\n",
      "_random             decorator           poplib              unittest\n",
      "_sha1               difflib             posix               urllib\n",
      "_sha2               dis                 posixpath           uu\n",
      "_sha3               doctest             pprint              uuid\n",
      "_signal             email               profile             venv\n",
      "_sitebuiltins       encodings           prompt_toolkit      warnings\n",
      "_socket             enum                pstats              wave\n",
      "_sqlite3            errno               psutil              wcwidth\n",
      "_sre                executing           pty                 weakref\n",
      "_ssl                faulthandler        ptyprocess          webbrowser\n",
      "_stat               fcntl               pure_eval           wsgiref\n",
      "_statistics         filecmp             pwd                 xdrlib\n",
      "_string             fileinput           py_compile          xml\n",
      "_strptime           fnmatch             pyclbr              xmlrpc\n",
      "_struct             fractions           pydoc               xxlimited\n",
      "_symtable           ftplib              pydoc_data          xxlimited_35\n",
      "_sysconfigdata__linux_x86_64-linux-gnu functools           pyexpat             xxsubtype\n",
      "_sysconfigdata__x86_64-linux-gnu gc                  pygments            zipapp\n",
      "_testbuffer         genericpath         queue               zipfile\n",
      "_testcapi           getopt              quopri              zipimport\n",
      "_testclinic         getpass             random              zlib\n",
      "_testimportmultiple gettext             re                  zmq\n",
      "_testinternalcapi   glob                readline            zoneinfo\n",
      "_testmultiphase     graphlib            reprlib             \n",
      "_testsinglephase    grp                 resource            \n",
      "_thread             gzip                rlcompleter         \n",
      "\n",
      "Enter any module name to get more help.  Or, type \"modules spam\" to search\n",
      "for modules whose name or summary contain the string \"spam\".\n",
      "\n"
     ]
    }
   ],
   "source": [
    "help('modules')"
   ]
  },
  {
   "cell_type": "code",
   "execution_count": 68,
   "metadata": {},
   "outputs": [
    {
     "name": "stdout",
     "output_type": "stream",
     "text": [
      "0\n",
      "1\n",
      "2\n",
      "3\n",
      "4\n",
      "5\n",
      "6\n",
      "7\n",
      "8\n",
      "9\n",
      "Else condition\n"
     ]
    }
   ],
   "source": [
    "#while with else\n",
    "i=0\n",
    "while(i<10):\n",
    "    print(i)\n",
    "    i+=1\n",
    "else:\n",
    "    print('Else condition')"
   ]
  },
  {
   "cell_type": "code",
   "execution_count": 1,
   "metadata": {},
   "outputs": [],
   "source": [
    "#Population finder\n",
    "current_population=int(10000)\n",
    "year=int(10)\n"
   ]
  },
  {
   "cell_type": "code",
   "execution_count": 2,
   "metadata": {},
   "outputs": [],
   "source": [
    "#Example of Use of loop:\n",
    "\n",
    "#To display the the info in same structure again and again"
   ]
  },
  {
   "cell_type": "code",
   "execution_count": 1,
   "metadata": {},
   "outputs": [
    {
     "ename": "ValueError",
     "evalue": "invalid literal for int() with base 10: ''",
     "output_type": "error",
     "traceback": [
      "\u001b[0;31m---------------------------------------------------------------------------\u001b[0m",
      "\u001b[0;31mValueError\u001b[0m                                Traceback (most recent call last)",
      "Cell \u001b[0;32mIn[1], line 1\u001b[0m\n\u001b[0;32m----> 1\u001b[0m num\u001b[38;5;241m=\u001b[39m\u001b[38;5;28;43mint\u001b[39;49m\u001b[43m(\u001b[49m\u001b[38;5;28;43minput\u001b[39;49m\u001b[43m(\u001b[49m\u001b[38;5;124;43m'\u001b[39;49m\u001b[38;5;124;43mENter the number to find its table:\u001b[39;49m\u001b[38;5;124;43m'\u001b[39;49m\u001b[43m)\u001b[49m\u001b[43m)\u001b[49m\n\u001b[1;32m      2\u001b[0m i\u001b[38;5;241m=\u001b[39m\u001b[38;5;241m1\u001b[39m\n\u001b[1;32m      3\u001b[0m \u001b[38;5;28;01mwhile\u001b[39;00m(i\u001b[38;5;241m<\u001b[39m\u001b[38;5;241m10\u001b[39m):\n",
      "\u001b[0;31mValueError\u001b[0m: invalid literal for int() with base 10: ''"
     ]
    }
   ],
   "source": [
    "num=int(input('ENter the number to find its table:'))\n",
    "i=1\n",
    "while(i<10):\n",
    "    print(num,'*',i,'=',num*i)\n",
    "    i+=1\n",
    "\n"
   ]
  },
  {
   "cell_type": "code",
   "execution_count": 1,
   "metadata": {},
   "outputs": [
    {
     "ename": "SyntaxError",
     "evalue": "invalid syntax (2445302783.py, line 1)",
     "output_type": "error",
     "traceback": [
      "\u001b[0;36m  Cell \u001b[0;32mIn[1], line 1\u001b[0;36m\u001b[0m\n\u001b[0;31m    Session 3:\u001b[0m\n\u001b[0m            ^\u001b[0m\n\u001b[0;31mSyntaxError\u001b[0m\u001b[0;31m:\u001b[0m invalid syntax\n"
     ]
    }
   ],
   "source": [
    "Session 3:\n"
   ]
  },
  {
   "cell_type": "code",
   "execution_count": 1,
   "metadata": {},
   "outputs": [
    {
     "name": "stdout",
     "output_type": "stream",
     "text": [
      "1\n",
      "121\n",
      "12321\n",
      "1234321\n"
     ]
    }
   ],
   "source": [
    "num=1\n",
    "for i in range (1,5):\n",
    "    for j in range(1,i+1):\n",
    "            print(j,end='')\n",
    "    for k in range(i-1,0,-1):\n",
    "          print(k,end='')\n",
    "        \n",
    "    print()\n",
    "    num+=2\n"
   ]
  },
  {
   "cell_type": "code",
   "execution_count": 10,
   "metadata": {},
   "outputs": [],
   "source": [
    "lower=int(input('Enter the lower range from where it start:'))\n",
    "upper=int(input('Upper range where it ends:'))\n",
    "\n",
    "num=0\n",
    "\n",
    "for i in range(lower,upper):\n",
    "    for j in range (1,i+1):\n",
    "        if(i%j==0):\n",
    "            num+=1\n",
    "    if(num==2):\n",
    "        print(i,end=' ')\n",
    "    num=0"
   ]
  },
  {
   "cell_type": "code",
   "execution_count": 11,
   "metadata": {},
   "outputs": [],
   "source": [
    "for i in range(1,10):\n",
    "    pass"
   ]
  },
  {
   "cell_type": "code",
   "execution_count": 12,
   "metadata": {},
   "outputs": [],
   "source": [
    "#STRING 22/7/2024\n",
    "s='hello'\n",
    "s=\"hello\"\n",
    "s='''hello\n",
    "sdafsdfa\n",
    "asdf\n",
    "''' #for multiple lines\n"
   ]
  },
  {
   "cell_type": "code",
   "execution_count": 14,
   "metadata": {},
   "outputs": [
    {
     "name": "stdout",
     "output_type": "stream",
     "text": [
      "dlrow olleh\n"
     ]
    }
   ],
   "source": [
    "#Indexing positive and negative indexing\n",
    "\n",
    "#one line to reverse the string\n",
    "s=\"hello world\"\n",
    "print(s[::-1])\n",
    "\n",
    "\n",
    "#strings in python are immutable\n",
    "\n",
    "#Deleting the string\n",
    "\n",
    "del s \n",
    "print(s)"
   ]
  },
  {
   "cell_type": "code",
   "execution_count": 15,
   "metadata": {},
   "outputs": [
    {
     "name": "stdout",
     "output_type": "stream",
     "text": [
      "**************************************************\n"
     ]
    },
    {
     "data": {
      "text/plain": [
       "'hello'"
      ]
     },
     "execution_count": 15,
     "metadata": {},
     "output_type": "execute_result"
    }
   ],
   "source": [
    "#Operations on Strings \n",
    "\n",
    "#arthimatic operation only multiplication and addition works\n",
    "\n",
    "print('*'*50)\n",
    "\n",
    "#Relational operators work on the base of the Ascii value of the characters\n",
    "\n",
    "#logical operator\n",
    "#In Python empty string is false and some character in string is true.\n",
    "\n",
    "'' and 'world' #answer would be empty string which is false\n",
    "\n",
    "'hello' and 'world' #answer would be 'world' after checking the complete expression the python give the true value \n",
    "\n",
    "'hello' or 'world' #answer would be hello because first is true.\n",
    "\n",
    "\n"
   ]
  },
  {
   "cell_type": "code",
   "execution_count": 19,
   "metadata": {},
   "outputs": [
    {
     "data": {
      "text/plain": [
       "False"
      ]
     },
     "execution_count": 19,
     "metadata": {},
     "output_type": "execute_result"
    }
   ],
   "source": [
    "#Membership operator \n",
    "'D' in 'Dehli'\n",
    "\n",
    "'d'  in 'Dehli'"
   ]
  },
  {
   "cell_type": "code",
   "execution_count": 21,
   "metadata": {},
   "outputs": [
    {
     "data": {
      "text/plain": [
       "['a', 'c', 'd', 'd', 'f', 'f', 's', 's', 'x', 'z']"
      ]
     },
     "execution_count": 21,
     "metadata": {},
     "output_type": "execute_result"
    }
   ],
   "source": [
    "#string funcitons\n",
    "\n",
    "#common functions \n",
    "#len\n",
    "#max\n",
    "#min\n",
    "#sorted\n",
    "\n",
    "len('hello world')\n",
    "max('world ')\n",
    "min('khan bhi ')\n",
    "sorted(\"asdfsdfzcx\")"
   ]
  },
  {
   "cell_type": "code",
   "execution_count": 22,
   "metadata": {},
   "outputs": [
    {
     "data": {
      "text/plain": [
       "'My world is me'"
      ]
     },
     "execution_count": 22,
     "metadata": {},
     "output_type": "execute_result"
    }
   ],
   "source": [
    "#function world only with string\n",
    "s=\"my world is me\"\n",
    "s.capitalize()\n"
   ]
  },
  {
   "cell_type": "code",
   "execution_count": 24,
   "metadata": {},
   "outputs": [
    {
     "data": {
      "text/plain": [
       "'My World Is Me'"
      ]
     },
     "execution_count": 24,
     "metadata": {},
     "output_type": "execute_result"
    }
   ],
   "source": [
    "s.title()"
   ]
  },
  {
   "cell_type": "code",
   "execution_count": 25,
   "metadata": {},
   "outputs": [
    {
     "data": {
      "text/plain": [
       "'MY WORLD IS ME'"
      ]
     },
     "execution_count": 25,
     "metadata": {},
     "output_type": "execute_result"
    }
   ],
   "source": [
    "s.upper()\n"
   ]
  },
  {
   "cell_type": "code",
   "execution_count": 26,
   "metadata": {},
   "outputs": [
    {
     "data": {
      "text/plain": [
       "'rASDRAArasdas'"
      ]
     },
     "execution_count": 26,
     "metadata": {},
     "output_type": "execute_result"
    }
   ],
   "source": [
    "ra='RasdraaRASDAS'\n",
    "ra.swapcase()"
   ]
  },
  {
   "cell_type": "code",
   "execution_count": 27,
   "metadata": {},
   "outputs": [],
   "source": [
    "#find/count/index\n",
    "#endswith('string')\n",
    "#startswith('string')"
   ]
  },
  {
   "cell_type": "code",
   "execution_count": 31,
   "metadata": {},
   "outputs": [
    {
     "name": "stdout",
     "output_type": "stream",
     "text": [
      "Salam my name is Raqeeb and I am a male\n"
     ]
    },
    {
     "data": {
      "text/plain": [
       "'Salam my name is male and I am a Raqeeb'"
      ]
     },
     "execution_count": 31,
     "metadata": {},
     "output_type": "execute_result"
    }
   ],
   "source": [
    "name=\"Raqeeb\"\n",
    "gender=\"male\" \n",
    "print('Salam my name is {} and I am a {}'.format(name,gender))\n",
    "'Salam my name is {1} and I am a {0}'.format(name,gender)\n"
   ]
  },
  {
   "cell_type": "code",
   "execution_count": 1,
   "metadata": {},
   "outputs": [
    {
     "data": {
      "text/plain": [
       "True"
      ]
     },
     "execution_count": 1,
     "metadata": {},
     "output_type": "execute_result"
    }
   ],
   "source": [
    "#functions isalnum/isalpha/isdigit/isidentifier\n",
    "\n",
    "'araees'.isalnum()\n"
   ]
  },
  {
   "cell_type": "code",
   "execution_count": 35,
   "metadata": {},
   "outputs": [
    {
     "data": {
      "text/plain": [
       "False"
      ]
     },
     "execution_count": 35,
     "metadata": {},
     "output_type": "execute_result"
    }
   ],
   "source": [
    "'123'.isalpha()"
   ]
  },
  {
   "cell_type": "code",
   "execution_count": 34,
   "metadata": {},
   "outputs": [
    {
     "data": {
      "text/plain": [
       "True"
      ]
     },
     "execution_count": 34,
     "metadata": {},
     "output_type": "execute_result"
    }
   ],
   "source": [
    "'123'.isdigit()"
   ]
  },
  {
   "cell_type": "code",
   "execution_count": 36,
   "metadata": {},
   "outputs": [
    {
     "data": {
      "text/plain": [
       "False"
      ]
     },
     "execution_count": 36,
     "metadata": {},
     "output_type": "execute_result"
    }
   ],
   "source": [
    "#for identifier name check\n",
    "'1name'.isidentifier()\n",
    "#output is false because identifier is wrong"
   ]
  },
  {
   "cell_type": "code",
   "execution_count": 37,
   "metadata": {},
   "outputs": [
    {
     "data": {
      "text/plain": [
       "True"
      ]
     },
     "execution_count": 37,
     "metadata": {},
     "output_type": "execute_result"
    }
   ],
   "source": [
    "'name'.isidentifier()\n",
    "#output is true because the identifier is valid"
   ]
  },
  {
   "cell_type": "code",
   "execution_count": 38,
   "metadata": {},
   "outputs": [
    {
     "data": {
      "text/plain": [
       "['my', 'name', 'is', 'khan']"
      ]
     },
     "execution_count": 38,
     "metadata": {},
     "output_type": "execute_result"
    }
   ],
   "source": [
    "#split/join \n",
    "\n",
    "'my name is khan'.split()\n",
    "#split breakdown the each word from the string and add each of them to a list"
   ]
  },
  {
   "cell_type": "code",
   "execution_count": 39,
   "metadata": {},
   "outputs": [
    {
     "data": {
      "text/plain": [
       "['', 'y na', 'e is khan']"
      ]
     },
     "execution_count": 39,
     "metadata": {},
     "output_type": "execute_result"
    }
   ],
   "source": [
    "'my name is khan'.split('m')\n"
   ]
  },
  {
   "cell_type": "code",
   "execution_count": 41,
   "metadata": {},
   "outputs": [
    {
     "data": {
      "text/plain": [
       "'my_name_is_khan'"
      ]
     },
     "execution_count": 41,
     "metadata": {},
     "output_type": "execute_result"
    }
   ],
   "source": [
    "#list to string \n",
    "' '.join(['my','name','is','khan'])"
   ]
  },
  {
   "cell_type": "code",
   "execution_count": 42,
   "metadata": {},
   "outputs": [
    {
     "data": {
      "text/plain": [
       "'my-name-is-khan'"
      ]
     },
     "execution_count": 42,
     "metadata": {},
     "output_type": "execute_result"
    }
   ],
   "source": [
    "'-'.join(['my','name','is','khan'])\n"
   ]
  },
  {
   "cell_type": "code",
   "execution_count": 43,
   "metadata": {},
   "outputs": [],
   "source": [
    "#for each function used for string, a new string is formed and operation is perforemed at that new string"
   ]
  },
  {
   "cell_type": "code",
   "execution_count": 44,
   "metadata": {},
   "outputs": [
    {
     "data": {
      "text/plain": [
       "'raqeeeb'"
      ]
     },
     "execution_count": 44,
     "metadata": {},
     "output_type": "execute_result"
    }
   ],
   "source": [
    "#STRIP function is used to remove all the extra spaces \n",
    "\n",
    "'raqeeeb                            '.strip()"
   ]
  },
  {
   "cell_type": "code",
   "execution_count": 45,
   "metadata": {},
   "outputs": [
    {
     "name": "stdout",
     "output_type": "stream",
     "text": [
      "length of the string is 6\n"
     ]
    }
   ],
   "source": [
    "value=input('Enter the string')\n",
    "counter=0\n",
    "for i in value:\n",
    "    counter+=1\n",
    "\n",
    "print('length of the string is {}'.format(counter))"
   ]
  },
  {
   "cell_type": "code",
   "execution_count": 55,
   "metadata": {},
   "outputs": [
    {
     "name": "stdout",
     "output_type": "stream",
     "text": [
      "username is: jklhjk\n"
     ]
    }
   ],
   "source": [
    "value=input('Enter your gmail:')\n",
    "pos=value.index('@')\n",
    "\n",
    "print('username is:',value[0:pos])\n",
    "\n",
    "\n"
   ]
  },
  {
   "cell_type": "code",
   "execution_count": 52,
   "metadata": {},
   "outputs": [],
   "source": [
    "value='khan'\n",
    "pos=value.index('a')"
   ]
  },
  {
   "cell_type": "code",
   "execution_count": 56,
   "metadata": {},
   "outputs": [
    {
     "data": {
      "text/plain": [
       "6"
      ]
     },
     "execution_count": 56,
     "metadata": {},
     "output_type": "execute_result"
    }
   ],
   "source": [
    "pos"
   ]
  },
  {
   "cell_type": "code",
   "execution_count": 57,
   "metadata": {},
   "outputs": [
    {
     "name": "stdout",
     "output_type": "stream",
     "text": [
      "1\n"
     ]
    }
   ],
   "source": [
    "counter=0\n",
    "for i in value:\n",
    "    if(i=='h'):\n",
    "        counter+=1\n",
    "\n",
    "print(counter)\n"
   ]
  },
  {
   "cell_type": "code",
   "execution_count": 61,
   "metadata": {},
   "outputs": [
    {
     "name": "stdout",
     "output_type": "stream",
     "text": [
      "the given number is not palindrome\n"
     ]
    }
   ],
   "source": [
    "value=input('Enter any string to find it is palindrome or not')\n",
    "\n",
    "value2=value[::-1]\n",
    "\n",
    "if(value==value2):\n",
    "    print('The given string is palindrome')\n",
    "else:\n",
    "    print('the given number is not palindrome')"
   ]
  },
  {
   "cell_type": "code",
   "execution_count": 63,
   "metadata": {},
   "outputs": [
    {
     "name": "stdout",
     "output_type": "stream",
     "text": [
      "number of words are:4\n"
     ]
    }
   ],
   "source": [
    "counter=0\n",
    "sentense='my name is khan.' \n",
    "for i in sentense:\n",
    "    if(i==' ' or i=='.'):\n",
    "        counter+=1\n",
    "\n",
    "print('number of words are:{}'.format(counter))"
   ]
  },
  {
   "cell_type": "code",
   "execution_count": 1,
   "metadata": {},
   "outputs": [
    {
     "ename": "SyntaxError",
     "evalue": "incomplete input (620996933.py, line 4)",
     "output_type": "error",
     "traceback": [
      "\u001b[0;36m  Cell \u001b[0;32mIn[1], line 4\u001b[0;36m\u001b[0m\n\u001b[0;31m    if():\u001b[0m\n\u001b[0m         ^\u001b[0m\n\u001b[0;31mSyntaxError\u001b[0m\u001b[0;31m:\u001b[0m incomplete input\n"
     ]
    }
   ],
   "source": [
    "sentense='this is my sentense'\n",
    "\n",
    "for i in sentense:\n",
    "    if():"
   ]
  },
  {
   "cell_type": "code",
   "execution_count": 3,
   "metadata": {},
   "outputs": [
    {
     "ename": "SyntaxError",
     "evalue": "invalid syntax (366524363.py, line 3)",
     "output_type": "error",
     "traceback": [
      "\u001b[0;36m  Cell \u001b[0;32mIn[3], line 3\u001b[0;36m\u001b[0m\n\u001b[0;31m    value=\u001b[0m\n\u001b[0m          ^\u001b[0m\n\u001b[0;31mSyntaxError\u001b[0m\u001b[0;31m:\u001b[0m invalid syntax\n"
     ]
    }
   ],
   "source": [
    "number = int(input('enter any number:'))\n",
    "\n",
    "value="
   ]
  },
  {
   "cell_type": "code",
   "execution_count": 4,
   "metadata": {},
   "outputs": [],
   "source": [
    "#Session 4 LIST"
   ]
  },
  {
   "cell_type": "code",
   "execution_count": 5,
   "metadata": {},
   "outputs": [
    {
     "name": "stdout",
     "output_type": "stream",
     "text": [
      "[]\n",
      "[1, 2, 3, 4]\n",
      "[1, 2, 3, [4, 5]]\n",
      "[2, 3, [4, [4]]]\n"
     ]
    }
   ],
   "source": [
    "#In memory list store the address of the item stored in the list  \n",
    "\n",
    "#empty list\n",
    "print([])\n",
    "\n",
    "#1D list \n",
    "print([1,2,3,4])\n",
    "\n",
    "#2D list\n",
    "print([1,2,3,[4,5]])\n",
    "\n",
    "#3D list\n",
    "print([2,3,[4,[4]]])\n",
    "\n",
    "#A list which has different type of data types is called hetrogeneous list\n"
   ]
  },
  {
   "cell_type": "code",
   "execution_count": 7,
   "metadata": {},
   "outputs": [
    {
     "ename": "TypeError",
     "evalue": "'int' object is not iterable",
     "output_type": "error",
     "traceback": [
      "\u001b[0;31m---------------------------------------------------------------------------\u001b[0m",
      "\u001b[0;31mTypeError\u001b[0m                                 Traceback (most recent call last)",
      "Cell \u001b[0;32mIn[7], line 1\u001b[0m\n\u001b[0;32m----> 1\u001b[0m \u001b[38;5;28mprint\u001b[39m(\u001b[38;5;28;43mlist\u001b[39;49m\u001b[43m(\u001b[49m\u001b[38;5;241;43m1234\u001b[39;49m\u001b[43m)\u001b[49m) \n",
      "\u001b[0;31mTypeError\u001b[0m: 'int' object is not iterable"
     ]
    }
   ],
   "source": [
    "print(list(1234)) "
   ]
  },
  {
   "cell_type": "code",
   "execution_count": 8,
   "metadata": {},
   "outputs": [
    {
     "name": "stdout",
     "output_type": "stream",
     "text": [
      "['r', 'a', 'q', 'e', 'e', 'b']\n"
     ]
    }
   ],
   "source": [
    "print(list(\"raqeeb\")) #converting to list "
   ]
  },
  {
   "cell_type": "code",
   "execution_count": 12,
   "metadata": {},
   "outputs": [
    {
     "name": "stdout",
     "output_type": "stream",
     "text": [
      "5\n",
      "4\n"
     ]
    }
   ],
   "source": [
    "#accessing element from the nested list \n",
    "\n",
    "l=[1,2,3,[5,4]]\n",
    "\n",
    "print(l[3][0])\n",
    "\n",
    "l2=[[[1,3],[4,3]],[[4,3],[5,6],[7,8]]]\n",
    "print(l2[0][1][0])\n",
    "\n"
   ]
  },
  {
   "cell_type": "code",
   "execution_count": 2,
   "metadata": {},
   "outputs": [
    {
     "name": "stdout",
     "output_type": "stream",
     "text": [
      "[1, 3, 2, 3, 4]\n",
      "[4, 2, 1]\n"
     ]
    }
   ],
   "source": [
    "#slicing \n",
    "#same as string\n",
    "\n",
    "l3=[1,3,2,3,4]\n",
    "print(l3[0:])\n",
    "print(l3[-1::-2])\n"
   ]
  },
  {
   "cell_type": "code",
   "execution_count": 19,
   "metadata": {},
   "outputs": [],
   "source": [
    "#Addin Items\n",
    "l3.append('raees')"
   ]
  },
  {
   "cell_type": "code",
   "execution_count": 20,
   "metadata": {},
   "outputs": [
    {
     "data": {
      "text/plain": [
       "[1, 2, 3, 4, 'raees']"
      ]
     },
     "execution_count": 20,
     "metadata": {},
     "output_type": "execute_result"
    }
   ],
   "source": [
    "l3"
   ]
  },
  {
   "cell_type": "code",
   "execution_count": 21,
   "metadata": {},
   "outputs": [],
   "source": [
    "#extend is used to add multiple items at a time\n",
    "#problem with extend\n",
    "\n",
    "l2.extend('raees')#this will break the string and convert it to items of list and add it to list"
   ]
  },
  {
   "cell_type": "code",
   "execution_count": 22,
   "metadata": {},
   "outputs": [
    {
     "data": {
      "text/plain": [
       "[[[1, 3], [4, 3]], [[4, 3], [5, 6], [7, 8]], 'r', 'a', 'e', 'e', 's']"
      ]
     },
     "execution_count": 22,
     "metadata": {},
     "output_type": "execute_result"
    }
   ],
   "source": [
    "l2"
   ]
  },
  {
   "cell_type": "code",
   "execution_count": 23,
   "metadata": {},
   "outputs": [],
   "source": [
    "l2.append(\"raees\")"
   ]
  },
  {
   "cell_type": "code",
   "execution_count": 24,
   "metadata": {},
   "outputs": [
    {
     "data": {
      "text/plain": [
       "[[[1, 3], [4, 3]], [[4, 3], [5, 6], [7, 8]], 'r', 'a', 'e', 'e', 's', 'raees']"
      ]
     },
     "execution_count": 24,
     "metadata": {},
     "output_type": "execute_result"
    }
   ],
   "source": [
    "l2"
   ]
  },
  {
   "cell_type": "code",
   "execution_count": 25,
   "metadata": {},
   "outputs": [],
   "source": [
    "#so extend will always try to add the item after breaking it to list items but append add the whole item"
   ]
  },
  {
   "cell_type": "code",
   "execution_count": 26,
   "metadata": {},
   "outputs": [],
   "source": [
    "#insert function\n",
    "l3.insert(1,100)"
   ]
  },
  {
   "cell_type": "code",
   "execution_count": 27,
   "metadata": {},
   "outputs": [
    {
     "data": {
      "text/plain": [
       "[1, 100, 2, 3, 4, 'raees']"
      ]
     },
     "execution_count": 27,
     "metadata": {},
     "output_type": "execute_result"
    }
   ],
   "source": [
    "l3"
   ]
  },
  {
   "cell_type": "code",
   "execution_count": 28,
   "metadata": {},
   "outputs": [],
   "source": [
    "l3.insert(3,400)"
   ]
  },
  {
   "cell_type": "code",
   "execution_count": 29,
   "metadata": {},
   "outputs": [
    {
     "data": {
      "text/plain": [
       "[1, 100, 2, 400, 3, 4, 'raees']"
      ]
     },
     "execution_count": 29,
     "metadata": {},
     "output_type": "execute_result"
    }
   ],
   "source": [
    "l3"
   ]
  },
  {
   "cell_type": "code",
   "execution_count": 18,
   "metadata": {},
   "outputs": [],
   "source": [
    "#editing of list is possible\n",
    "l4=[1,2,3,4,5]\n",
    "\n",
    "l4[-2]=200\n",
    "\n",
    "l4[1:4]=[123,123,4] #editing using slicing"
   ]
  },
  {
   "cell_type": "code",
   "execution_count": 19,
   "metadata": {},
   "outputs": [
    {
     "data": {
      "text/plain": [
       "[1, 123, 4, 5]"
      ]
     },
     "execution_count": 19,
     "metadata": {},
     "output_type": "execute_result"
    }
   ],
   "source": [
    "#deleting List\n",
    "l4\n",
    "\n",
    "del l4[1]\n",
    "l4"
   ]
  },
  {
   "cell_type": "code",
   "execution_count": 37,
   "metadata": {},
   "outputs": [
    {
     "data": {
      "text/plain": [
       "[1, 100, 2, 400, 3, 4, 'raees']"
      ]
     },
     "execution_count": 37,
     "metadata": {},
     "output_type": "execute_result"
    }
   ],
   "source": [
    "l3"
   ]
  },
  {
   "cell_type": "code",
   "execution_count": 38,
   "metadata": {},
   "outputs": [],
   "source": [
    "del l3[-1]"
   ]
  },
  {
   "cell_type": "code",
   "execution_count": 39,
   "metadata": {},
   "outputs": [
    {
     "data": {
      "text/plain": [
       "[1, 100, 2, 400, 3, 4]"
      ]
     },
     "execution_count": 39,
     "metadata": {},
     "output_type": "execute_result"
    }
   ],
   "source": [
    "l3"
   ]
  },
  {
   "cell_type": "code",
   "execution_count": 41,
   "metadata": {},
   "outputs": [
    {
     "data": {
      "text/plain": [
       "[3, 4]"
      ]
     },
     "execution_count": 41,
     "metadata": {},
     "output_type": "execute_result"
    }
   ],
   "source": [
    "#deleting using slicing\n",
    "del l3[0:4]\n",
    "l3"
   ]
  },
  {
   "cell_type": "code",
   "execution_count": 42,
   "metadata": {},
   "outputs": [
    {
     "data": {
      "text/plain": [
       "[4]"
      ]
     },
     "execution_count": 42,
     "metadata": {},
     "output_type": "execute_result"
    }
   ],
   "source": [
    "#when you don't know the index position of list we use remove function\n",
    "l3.remove(3)\n",
    "l3"
   ]
  },
  {
   "cell_type": "code",
   "execution_count": 20,
   "metadata": {},
   "outputs": [
    {
     "data": {
      "text/plain": [
       "[1, 3, 4]"
      ]
     },
     "execution_count": 20,
     "metadata": {},
     "output_type": "execute_result"
    }
   ],
   "source": [
    "#Pop \n",
    "l4=[1,2,3,4]\n",
    "l4.pop(1)\n",
    "l4\n",
    "\n",
    "#when index is not provided in the pop function then it will delete the last item"
   ]
  },
  {
   "cell_type": "code",
   "execution_count": 44,
   "metadata": {},
   "outputs": [],
   "source": [
    "#Clear to delete the whole list items"
   ]
  },
  {
   "cell_type": "code",
   "execution_count": 45,
   "metadata": {},
   "outputs": [],
   "source": [
    "#4 ways of deleting items of list 1)del 2)pop 3)clear 4)remove"
   ]
  },
  {
   "cell_type": "code",
   "execution_count": 46,
   "metadata": {},
   "outputs": [
    {
     "data": {
      "text/plain": [
       "[1, 3, 4, 4, 5, 2]"
      ]
     },
     "execution_count": 46,
     "metadata": {},
     "output_type": "execute_result"
    }
   ],
   "source": [
    "#Operations on List\n",
    "#sum and multiplication\n",
    "\n",
    "l4+[4,5,2]"
   ]
  },
  {
   "cell_type": "code",
   "execution_count": 21,
   "metadata": {},
   "outputs": [
    {
     "data": {
      "text/plain": [
       "[1, 3, 4, 1, 3, 4]"
      ]
     },
     "execution_count": 21,
     "metadata": {},
     "output_type": "execute_result"
    }
   ],
   "source": [
    "l4*2"
   ]
  },
  {
   "cell_type": "code",
   "execution_count": 24,
   "metadata": {},
   "outputs": [
    {
     "name": "stdout",
     "output_type": "stream",
     "text": [
      "False\n"
     ]
    }
   ],
   "source": [
    "#membership opearor  (not in / in)\n",
    "l1=[1,2,3,4]\n",
    "l2=[4,5,6,7]\n",
    "\n",
    "print(5 in l1)"
   ]
  },
  {
   "cell_type": "code",
   "execution_count": 25,
   "metadata": {},
   "outputs": [
    {
     "name": "stdout",
     "output_type": "stream",
     "text": [
      "True\n"
     ]
    }
   ],
   "source": [
    "print(4 in l2)"
   ]
  },
  {
   "cell_type": "code",
   "execution_count": 23,
   "metadata": {},
   "outputs": [
    {
     "ename": "NameError",
     "evalue": "name 'l1' is not defined",
     "output_type": "error",
     "traceback": [
      "\u001b[1;31m---------------------------------------------------------------------------\u001b[0m",
      "\u001b[1;31mNameError\u001b[0m                                 Traceback (most recent call last)",
      "Cell \u001b[1;32mIn[23], line 6\u001b[0m\n\u001b[0;32m      1\u001b[0m \u001b[38;5;66;03m#list functions\u001b[39;00m\n\u001b[0;32m      2\u001b[0m \u001b[38;5;66;03m#len/max/min/sorted\u001b[39;00m\n\u001b[0;32m      3\u001b[0m \n\u001b[0;32m      4\u001b[0m \u001b[38;5;66;03m#ALL ARE SAME EXCEPT SORTED\u001b[39;00m\n\u001b[1;32m----> 6\u001b[0m \u001b[38;5;28mprint\u001b[39m(\u001b[38;5;28msorted\u001b[39m(\u001b[43ml1\u001b[49m))\n\u001b[0;32m      7\u001b[0m \u001b[38;5;66;03m#Sorted is not operation on the list but it will create a new list and implement the operation on that copy of new list\u001b[39;00m\n",
      "\u001b[1;31mNameError\u001b[0m: name 'l1' is not defined"
     ]
    }
   ],
   "source": [
    "#list functions\n",
    "#len/max/min/sorted\n",
    "\n",
    "#ALL ARE SAME EXCEPT SORTED\n",
    "\n",
    "print(sorted(l1))\n",
    "#Sorted is not operation on the list but it will create a new list and implement the operation on that copy of new list"
   ]
  },
  {
   "cell_type": "code",
   "execution_count": 22,
   "metadata": {},
   "outputs": [
    {
     "ename": "NameError",
     "evalue": "name 'l1' is not defined",
     "output_type": "error",
     "traceback": [
      "\u001b[1;31m---------------------------------------------------------------------------\u001b[0m",
      "\u001b[1;31mNameError\u001b[0m                                 Traceback (most recent call last)",
      "Cell \u001b[1;32mIn[22], line 1\u001b[0m\n\u001b[1;32m----> 1\u001b[0m \u001b[38;5;28mprint\u001b[39m(\u001b[38;5;28msorted\u001b[39m(\u001b[43ml1\u001b[49m))\n",
      "\u001b[1;31mNameError\u001b[0m: name 'l1' is not defined"
     ]
    }
   ],
   "source": [
    "print(sorted(l1))"
   ]
  },
  {
   "cell_type": "code",
   "execution_count": 53,
   "metadata": {},
   "outputs": [
    {
     "data": {
      "text/plain": [
       "1"
      ]
     },
     "execution_count": 53,
     "metadata": {},
     "output_type": "execute_result"
    }
   ],
   "source": [
    "#index function which is used to find the index position of element\n",
    "l1.index(2)"
   ]
  },
  {
   "cell_type": "code",
   "execution_count": 54,
   "metadata": {},
   "outputs": [],
   "source": [
    "l1.append(1)"
   ]
  },
  {
   "cell_type": "code",
   "execution_count": 55,
   "metadata": {},
   "outputs": [
    {
     "data": {
      "text/plain": [
       "0"
      ]
     },
     "execution_count": 55,
     "metadata": {},
     "output_type": "execute_result"
    }
   ],
   "source": [
    "l1.index(1)\n",
    "#If there are multiple same values in the list it will output the first value index "
   ]
  },
  {
   "cell_type": "code",
   "execution_count": 56,
   "metadata": {},
   "outputs": [],
   "source": [
    "#reverse function permanently change the list and it doesn't make the new list like other functions"
   ]
  },
  {
   "cell_type": "code",
   "execution_count": 32,
   "metadata": {},
   "outputs": [
    {
     "name": "stdout",
     "output_type": "stream",
     "text": [
      "[1, 2, 4, 4, 23, 123]\n"
     ]
    },
    {
     "data": {
      "text/plain": [
       "[1, 23, 123, 2, 4, 4]"
      ]
     },
     "execution_count": 32,
     "metadata": {},
     "output_type": "execute_result"
    }
   ],
   "source": [
    "#sort vs sorted function\n",
    "l=[1,23,123,2,4,4]\n",
    "print(sorted(l))\n",
    "l\n",
    "#l.sort()\n",
    "l"
   ]
  },
  {
   "cell_type": "code",
   "execution_count": 58,
   "metadata": {},
   "outputs": [
    {
     "data": {
      "text/plain": [
       "[1, 23, 123, 2, 4, 4]"
      ]
     },
     "execution_count": 58,
     "metadata": {},
     "output_type": "execute_result"
    }
   ],
   "source": [
    "l"
   ]
  },
  {
   "cell_type": "code",
   "execution_count": 59,
   "metadata": {},
   "outputs": [],
   "source": [
    "l.sort()"
   ]
  },
  {
   "cell_type": "code",
   "execution_count": 60,
   "metadata": {},
   "outputs": [
    {
     "data": {
      "text/plain": [
       "[1, 2, 4, 4, 23, 123]"
      ]
     },
     "execution_count": 60,
     "metadata": {},
     "output_type": "execute_result"
    }
   ],
   "source": [
    "l"
   ]
  },
  {
   "cell_type": "code",
   "execution_count": 61,
   "metadata": {},
   "outputs": [
    {
     "name": "stdout",
     "output_type": "stream",
     "text": [
      "140275811457088\n"
     ]
    }
   ],
   "source": [
    "#copy \n",
    "print(id(l))"
   ]
  },
  {
   "cell_type": "code",
   "execution_count": 33,
   "metadata": {},
   "outputs": [
    {
     "name": "stdout",
     "output_type": "stream",
     "text": [
      "1725566625728\n",
      "1725566565440\n"
     ]
    }
   ],
   "source": [
    "l1=l.copy()\n",
    "print(id(l))\n",
    "\n",
    "print(id(l1))"
   ]
  },
  {
   "cell_type": "code",
   "execution_count": 63,
   "metadata": {},
   "outputs": [],
   "source": [
    "#it is deep copy having different address of copy of the list "
   ]
  },
  {
   "cell_type": "code",
   "execution_count": 64,
   "metadata": {},
   "outputs": [
    {
     "name": "stdout",
     "output_type": "stream",
     "text": [
      "[1, 2, 3, 4, 5, 6, 7, 8, 9, 10]\n"
     ]
    }
   ],
   "source": [
    "#LIST COMPARIHENSION\n",
    "#list comparihension provide us shorter way and easy way to make list and perform the operations\n",
    "#syntax \n",
    "#list=[expression for i in iterable if condition]\n",
    "\n",
    "l=[i for i in range(1,11)]\n",
    "print(l)\n"
   ]
  },
  {
   "cell_type": "code",
   "execution_count": 65,
   "metadata": {},
   "outputs": [],
   "source": [
    "#Salar multiplication on a vector\n",
    "v=[2,3,4]\n",
    "s=-3\n",
    "#using list comparihension\n",
    "l=[s*i for i in v]"
   ]
  },
  {
   "cell_type": "code",
   "execution_count": 66,
   "metadata": {},
   "outputs": [
    {
     "data": {
      "text/plain": [
       "[-6, -9, -12]"
      ]
     },
     "execution_count": 66,
     "metadata": {},
     "output_type": "execute_result"
    }
   ],
   "source": [
    "l"
   ]
  },
  {
   "cell_type": "code",
   "execution_count": 67,
   "metadata": {},
   "outputs": [
    {
     "name": "stdout",
     "output_type": "stream",
     "text": [
      "[3, 6, 9]\n"
     ]
    }
   ],
   "source": [
    "#list comparehension and if condition\n",
    "l=[i for i in range(1,11) if i%3==0]\n",
    "print(l)"
   ]
  },
  {
   "cell_type": "code",
   "execution_count": 70,
   "metadata": {},
   "outputs": [],
   "source": [
    "#nested list comprehension \n",
    "l5=[[i*j for i in range(1,4) ]for j in range(1,4)] #What is the procedure? i didn't get\n"
   ]
  },
  {
   "cell_type": "code",
   "execution_count": 71,
   "metadata": {},
   "outputs": [
    {
     "data": {
      "text/plain": [
       "[[1, 2, 3], [2, 4, 6], [3, 6, 9]]"
      ]
     },
     "execution_count": 71,
     "metadata": {},
     "output_type": "execute_result"
    }
   ],
   "source": [
    "l5"
   ]
  },
  {
   "cell_type": "code",
   "execution_count": 1,
   "metadata": {},
   "outputs": [
    {
     "data": {
      "text/plain": [
       "[4, 5, 6, 7, 8, 8, 10, 12, 14, 16, 12, 15, 18, 21, 24, 16, 20, 24, 28, 32]"
      ]
     },
     "execution_count": 1,
     "metadata": {},
     "output_type": "execute_result"
    }
   ],
   "source": [
    "#24/6/2024\n",
    "#Cartesian products-> list comprehension on 2 lists togather\n",
    "l1=[1,2,3,4]\n",
    "l2=[4,5,6,7,8]\n",
    "[i*j for i in l1 for j in l2]\n"
   ]
  },
  {
   "cell_type": "code",
   "execution_count": 2,
   "metadata": {},
   "outputs": [
    {
     "name": "stdout",
     "output_type": "stream",
     "text": [
      "1\n",
      "2\n",
      "3\n",
      "4\n",
      "5\n"
     ]
    }
   ],
   "source": [
    "#Way to transver through the list using loop\n",
    "l=[1,2,3,4,5]\n",
    "\n",
    "for i in l:\n",
    "    print(i)\n",
    "    "
   ]
  },
  {
   "cell_type": "code",
   "execution_count": 3,
   "metadata": {},
   "outputs": [
    {
     "name": "stdout",
     "output_type": "stream",
     "text": [
      "0\n",
      "1\n",
      "2\n",
      "3\n",
      "4\n"
     ]
    }
   ],
   "source": [
    "#indexwise \n",
    "for i in range(0,len(l)):\n",
    "    print(i)"
   ]
  },
  {
   "cell_type": "code",
   "execution_count": 34,
   "metadata": {},
   "outputs": [
    {
     "name": "stdout",
     "output_type": "stream",
     "text": [
      "<zip object at 0x00000191C3CFA080>\n"
     ]
    },
    {
     "data": {
      "text/plain": [
       "[2, 4, 6]"
      ]
     },
     "execution_count": 35,
     "metadata": {},
     "output_type": "execute_result"
    }
   ],
   "source": [
    "#ZIP FUNCTION IS USED TO CREATE A tuples in the LIST USING FIRST AND SECOND LIST i.e sum of the alternative numbers.\n",
    "l1=[1,2,3]\n",
    "l2=[1,2,3]\n",
    "\n",
    "print(list(zip(l1,l2)))# it will create a zip object\n",
    "\n",
    "\n",
    "[i+j for i,j in zip(l1,l2) ]\n"
   ]
  },
  {
   "cell_type": "code",
   "execution_count": 7,
   "metadata": {},
   "outputs": [],
   "source": [
    "#list can store any kind of objects and function in it\n",
    "l=[1,3,print,type]"
   ]
  },
  {
   "cell_type": "code",
   "execution_count": 8,
   "metadata": {},
   "outputs": [
    {
     "name": "stdout",
     "output_type": "stream",
     "text": [
      "[1, 3, <built-in function print>, <class 'type'>]\n"
     ]
    }
   ],
   "source": [
    "print(l)\n"
   ]
  },
  {
   "cell_type": "code",
   "execution_count": 9,
   "metadata": {},
   "outputs": [
    {
     "ename": "IndexError",
     "evalue": "list assignment index out of range",
     "output_type": "error",
     "traceback": [
      "\u001b[0;31m---------------------------------------------------------------------------\u001b[0m",
      "\u001b[0;31mIndexError\u001b[0m                                Traceback (most recent call last)",
      "Cell \u001b[0;32mIn[9], line 5\u001b[0m\n\u001b[1;32m      2\u001b[0m b\u001b[38;5;241m=\u001b[39m[]\n\u001b[1;32m      4\u001b[0m \u001b[38;5;28;01mfor\u001b[39;00m i \u001b[38;5;129;01min\u001b[39;00m \u001b[38;5;28mrange\u001b[39m(\u001b[38;5;241m0\u001b[39m,\u001b[38;5;28mlen\u001b[39m(a)):\n\u001b[0;32m----> 5\u001b[0m     \u001b[43mb\u001b[49m\u001b[43m[\u001b[49m\u001b[43mi\u001b[49m\u001b[43m]\u001b[49m\u001b[38;5;241m=\u001b[39ma[i]\n\u001b[1;32m      7\u001b[0m a\u001b[38;5;241m.\u001b[39mappend(\u001b[38;5;241m4\u001b[39m)\n\u001b[1;32m      8\u001b[0m \u001b[38;5;28mprint\u001b[39m(a)\n",
      "\u001b[0;31mIndexError\u001b[0m: list assignment index out of range"
     ]
    }
   ],
   "source": [
    "a=[1,2,3]\n",
    "b=[]\n",
    "\n",
    "for i in range(0,len(a)):\n",
    "    b[i]=a[i]\n",
    "\n",
    "a.append(4)\n",
    "print(a)\n",
    "print(b)"
   ]
  },
  {
   "cell_type": "code",
   "execution_count": 10,
   "metadata": {},
   "outputs": [],
   "source": [
    "#Disadventages of Python\n",
    "#slow as compare to other low level language like c++ c java\n",
    "#risky to usage for beginner specially\n",
    "#Eats up more memory\n"
   ]
  },
  {
   "cell_type": "code",
   "execution_count": 11,
   "metadata": {},
   "outputs": [
    {
     "name": "stdout",
     "output_type": "stream",
     "text": [
      "[2, 4, 6]\n",
      "[1, 3, 5]\n"
     ]
    }
   ],
   "source": [
    "l1=[1,2,3,4,5,6]\n",
    "\n",
    "l2=[i for i in l1 if i%2==0]\n",
    "print(l2)\n",
    "\n",
    "l3=[i for i in l1 if i%2!=0]\n",
    "print(l3)"
   ]
  },
  {
   "cell_type": "code",
   "execution_count": 13,
   "metadata": {},
   "outputs": [
    {
     "data": {
      "text/plain": [
       "['r',\n",
       " 'a',\n",
       " 'q',\n",
       " 'e',\n",
       " 'e',\n",
       " 'b',\n",
       " ' ',\n",
       " 'i',\n",
       " 's',\n",
       " ' ',\n",
       " 'm',\n",
       " 'y',\n",
       " ' ',\n",
       " 'n',\n",
       " 'a',\n",
       " 'm',\n",
       " 'e',\n",
       " ' ']"
      ]
     },
     "execution_count": 13,
     "metadata": {},
     "output_type": "execute_result"
    }
   ],
   "source": [
    "list(input('enter the items of list'))"
   ]
  },
  {
   "cell_type": "code",
   "execution_count": 36,
   "metadata": {},
   "outputs": [
    {
     "data": {
      "text/plain": [
       "['raees', 'asd', 'asd', 'zxc', 'zxcz']"
      ]
     },
     "execution_count": 36,
     "metadata": {},
     "output_type": "execute_result"
    }
   ],
   "source": [
    "user_input=input('enter the items for the list')\n",
    "list(user_input.split())"
   ]
  },
  {
   "cell_type": "code",
   "execution_count": 16,
   "metadata": {},
   "outputs": [],
   "source": [
    "l1=[1,2,3,4,5]\n",
    "l2=[6,7,8,9,10]\n",
    "\n",
    "l1.extend(l2)\n"
   ]
  },
  {
   "cell_type": "code",
   "execution_count": 17,
   "metadata": {},
   "outputs": [
    {
     "data": {
      "text/plain": [
       "[1, 2, 3, 4, 5, 6, 7, 8, 9, 10]"
      ]
     },
     "execution_count": 17,
     "metadata": {},
     "output_type": "execute_result"
    }
   ],
   "source": [
    "l1"
   ]
  },
  {
   "cell_type": "code",
   "execution_count": 18,
   "metadata": {},
   "outputs": [
    {
     "name": "stdout",
     "output_type": "stream",
     "text": [
      "[1, 2, 300, 4, 5, 6, 7, 8, 9, 10]\n"
     ]
    }
   ],
   "source": [
    "for i in range(0,len(l1)):\n",
    "    if(l1[i]==3):\n",
    "        l1[i]=300\n",
    "\n",
    "print(l1)\n",
    "        "
   ]
  },
  {
   "cell_type": "code",
   "execution_count": 47,
   "metadata": {},
   "outputs": [
    {
     "name": "stdout",
     "output_type": "stream",
     "text": [
      "[1, 2, 3, 4, 5]\n"
     ]
    }
   ],
   "source": [
    "#Removing Duplicates from the list\n",
    "checker=0\n",
    "l1=[1,2,3,1,1,2,2,3,4,5,5]\n",
    "l3=l1.copy()\n",
    "l2=[]\n",
    "checker=0\n",
    "#[i for i in range(0,len(l1)) for j in range(0,len(l1)) if l1[i]==l1[j] l1.remove(l1(j))]\n",
    "for i in l1:\n",
    "    for j in l3:\n",
    "        if(i==j):\n",
    "            checker+=1\n",
    "            if(checker>1):\n",
    "                l1.remove(j)\n",
    "    \n",
    "    checker=0\n",
    "            \n",
    "\n",
    "print(l1)"
   ]
  },
  {
   "cell_type": "code",
   "execution_count": 44,
   "metadata": {},
   "outputs": [
    {
     "name": "stdout",
     "output_type": "stream",
     "text": [
      "[1, 4]\n"
     ]
    }
   ],
   "source": [
    "l1=[1,2,4]\n",
    "l1.remove(l1[1])\n",
    "print(l1)"
   ]
  },
  {
   "cell_type": "code",
   "execution_count": 54,
   "metadata": {},
   "outputs": [
    {
     "name": "stdout",
     "output_type": "stream",
     "text": [
      "list is not in ascending order\n"
     ]
    }
   ],
   "source": [
    "#Checking the List is in Ascending order or not\n",
    "\n",
    "l1=[1,2,3,19,5,6]\n",
    "\n",
    "checker=0\n",
    "value=0\n",
    "for i in range(0,len(l1)-1):\n",
    "    if(l1[i]<l1[i+1]):\n",
    "        checker+=1\n",
    "        \n",
    "if(checker==len(l1)-1):\n",
    "    print('the list is in assending')\n",
    "else:\n",
    "    print('list is not in ascending order')"
   ]
  },
  {
   "cell_type": "code",
   "execution_count": 73,
   "metadata": {},
   "outputs": [
    {
     "data": {
      "text/plain": [
       "[10, 20, 7000, [300, 400, [5000, 6000], 500], 30, 40]"
      ]
     },
     "execution_count": 73,
     "metadata": {},
     "output_type": "execute_result"
    }
   ],
   "source": [
    "#problem 2\n",
    "list1 = [10, 20, [300, 400, [5000, 6000], 500], 30, 40]\n",
    "list1.insert(2,7000)\n",
    "list1"
   ]
  },
  {
   "cell_type": "code",
   "execution_count": 74,
   "metadata": {},
   "outputs": [
    {
     "ename": "TypeError",
     "evalue": "'int' object is not subscriptable",
     "output_type": "error",
     "traceback": [
      "\u001b[0;31m---------------------------------------------------------------------------\u001b[0m",
      "\u001b[0;31mTypeError\u001b[0m                                 Traceback (most recent call last)",
      "Cell \u001b[0;32mIn[74], line 2\u001b[0m\n\u001b[1;32m      1\u001b[0m l1\u001b[38;5;241m=\u001b[39m[\u001b[38;5;241m1\u001b[39m,\u001b[38;5;241m2\u001b[39m,\u001b[38;5;241m3\u001b[39m]\n\u001b[0;32m----> 2\u001b[0m \u001b[43ml1\u001b[49m\u001b[43m[\u001b[49m\u001b[38;5;241;43m2\u001b[39;49m\u001b[43m]\u001b[49m\u001b[43m[\u001b[49m\u001b[38;5;241;43m2\u001b[39;49m\u001b[43m]\u001b[49m\u001b[38;5;241m.\u001b[39minsert(\u001b[38;5;241m0\u001b[39m,\u001b[38;5;241m1\u001b[39m)\n\u001b[1;32m      3\u001b[0m l1\n",
      "\u001b[0;31mTypeError\u001b[0m: 'int' object is not subscriptable"
     ]
    }
   ],
   "source": [
    "l1=[1,2,3]\n",
    "l1[2][2].insert(0,1)\n",
    "l1"
   ]
  },
  {
   "cell_type": "code",
   "execution_count": 76,
   "metadata": {},
   "outputs": [
    {
     "ename": "TypeError",
     "evalue": "'int' object is not subscriptable",
     "output_type": "error",
     "traceback": [
      "\u001b[0;31m---------------------------------------------------------------------------\u001b[0m",
      "\u001b[0;31mTypeError\u001b[0m                                 Traceback (most recent call last)",
      "Cell \u001b[0;32mIn[76], line 1\u001b[0m\n\u001b[0;32m----> 1\u001b[0m \u001b[43ml1\u001b[49m\u001b[43m[\u001b[49m\u001b[38;5;241;43m2\u001b[39;49m\u001b[43m]\u001b[49m\u001b[43m[\u001b[49m\u001b[38;5;241;43m2\u001b[39;49m\u001b[43m]\u001b[49m\u001b[38;5;241m.\u001b[39minsert(\u001b[38;5;241m2\u001b[39m,\u001b[38;5;241m7000\u001b[39m)\n",
      "\u001b[0;31mTypeError\u001b[0m: 'int' object is not subscriptable"
     ]
    }
   ],
   "source": [
    "l1[2][2].insert(2,7000)"
   ]
  },
  {
   "cell_type": "code",
   "execution_count": 80,
   "metadata": {},
   "outputs": [
    {
     "name": "stdout",
     "output_type": "stream",
     "text": [
      "Jelly Belly - 10\n",
      "Kit Kat - 20\n",
      "Double Bubble - 34\n",
      "Milky Way - 74\n"
     ]
    }
   ],
   "source": [
    "candy_list = ['Jelly Belly','Kit Kat','Double Bubble','Milky Way','Three Musketeers']\n",
    "no_of_items = [10,20,34,74,32]\n",
    "\n",
    "for i in range(0,len(candy_list)-1):\n",
    "    print(candy_list[i],'-',no_of_items[i])"
   ]
  },
  {
   "cell_type": "code",
   "execution_count": 81,
   "metadata": {},
   "outputs": [
    {
     "name": "stdout",
     "output_type": "stream",
     "text": [
      "[1, 3, 6, 10, 15, 21]\n"
     ]
    }
   ],
   "source": [
    "list1 = [1,2,3,4,5,6]\n",
    "\n",
    "list2=[]\n",
    "\n",
    "for i in range(0,len(list1)-1):\n",
    "    list1[i+1]=list1[i]+list1[i+1]\n",
    "\n",
    "print(list1)"
   ]
  },
  {
   "cell_type": "code",
   "execution_count": 96,
   "metadata": {},
   "outputs": [
    {
     "name": "stdout",
     "output_type": "stream",
     "text": [
      "[22, 20, 16, 10, 23]\n",
      "[2, 4, 6, 10, 1]\n"
     ]
    }
   ],
   "source": [
    "#problem 5\n",
    "list1=[2,4,6,10,1]\n",
    "list2=list1.copy()\n",
    "carrier=0\n",
    "for i in range(0,len(list1)):\n",
    "    for j in range(0,len(list1)):\n",
    "        if(list2[i]<list2[j]):\n",
    "            list1[i]+=list2[j]\n",
    "        \n",
    "\n",
    "print(list1)\n",
    "print(list2)"
   ]
  },
  {
   "cell_type": "code",
   "execution_count": 115,
   "metadata": {},
   "outputs": [
    {
     "name": "stdout",
     "output_type": "stream",
     "text": [
      "[67, 89, 34]\n"
     ]
    }
   ],
   "source": [
    "#problem 6\n",
    "num1 = [23,45,67,78,89,34]\n",
    "num2 = [34,89,55,56,39,67]\n",
    "\n",
    "list2=[]\n",
    "\n",
    "for i in range(0,len(num1)):\n",
    "    for j in range(0,len(num1)):\n",
    "        if(num1[i]==num2[j]):\n",
    "            list2.append(num1[i])\n",
    "\n",
    "\n",
    "\n",
    "print(list2)"
   ]
  },
  {
   "cell_type": "code",
   "execution_count": 15,
   "metadata": {},
   "outputs": [
    {
     "name": "stdout",
     "output_type": "stream",
     "text": [
      "[1, 1, 94818816, 8990607867641856, 852478793130085497962496]\n"
     ]
    }
   ],
   "source": [
    "list1=['1ac21', '23fg', '456', '098d','1','kls']\n",
    "list2=[]\n",
    "value=0\n",
    "temp=''\n",
    "product=1\n",
    "product_list=[]\n",
    "present_in=False\n",
    "for i in range(0,len(list1)-1):\n",
    "    for j in list1[i]:\n",
    "        for k in range(1,11):\n",
    "            temp=j\n",
    "            for m in temp:\n",
    "                try:\n",
    "                    if int(m) == k:\n",
    "                        list2.append(list1[i])\n",
    "                        present_in = True\n",
    "                except ValueError:\n",
    "                    # Handle the case where m is not a number\n",
    "                    pass  # Or do something else\n",
    "    if(present_in==True):\n",
    "        for l in list2:\n",
    "            try: \n",
    "                if int(l):\n",
    "                  product*=int(l)\n",
    "            except ValueError:\n",
    "\n",
    "                pass\n",
    "        product_list.append(product)\n",
    "\n",
    "print(product_list)\n",
    "\n"
   ]
  },
  {
   "cell_type": "code",
   "execution_count": 17,
   "metadata": {},
   "outputs": [
    {
     "name": "stdout",
     "output_type": "stream",
     "text": [
      "[(0, '098d'), (1, '1'), (1, 'kls'), (2, '1ac21'), (6, '23fg'), (120, '456')]\n"
     ]
    }
   ],
   "source": [
    "def calculate_product(string):\n",
    "  product = 1\n",
    "  for char in string:\n",
    "    if char.isdigit():\n",
    "      product *= int(char)\n",
    "  return product\n",
    "\n",
    "def sort_by_product(list1):\n",
    "  product_list = [(calculate_product(s), s) for s in list1]\n",
    "  product_list.sort()\n",
    "  return [s for _, s in product_list]\n",
    "\n",
    "list1 = ['1ac21', '23fg', '456', '098d', '1', 'kls']\n",
    "sorted_list = sort_by_product(list1)\n",
    "print(sorted_list)"
   ]
  },
  {
   "cell_type": "code",
   "execution_count": 21,
   "metadata": {},
   "outputs": [
    {
     "ename": "AttributeError",
     "evalue": "'list' object has no attribute 'split'",
     "output_type": "error",
     "traceback": [
      "\u001b[0;31m---------------------------------------------------------------------------\u001b[0m",
      "\u001b[0;31mAttributeError\u001b[0m                            Traceback (most recent call last)",
      "Cell \u001b[0;32mIn[21], line 3\u001b[0m\n\u001b[1;32m      1\u001b[0m list1\u001b[38;5;241m=\u001b[39m[\u001b[38;5;124m'\u001b[39m\u001b[38;5;124mCampusX is a channel\u001b[39m\u001b[38;5;124m'\u001b[39m, \u001b[38;5;124m'\u001b[39m\u001b[38;5;124mfor data-science\u001b[39m\u001b[38;5;124m'\u001b[39m, \u001b[38;5;124m'\u001b[39m\u001b[38;5;124maspirants.\u001b[39m\u001b[38;5;124m'\u001b[39m]\n\u001b[1;32m      2\u001b[0m result\u001b[38;5;241m=\u001b[39m[word \u001b[38;5;28;01mfor\u001b[39;00m item \u001b[38;5;129;01min\u001b[39;00m list1 \u001b[38;5;28;01mfor\u001b[39;00m word \u001b[38;5;129;01min\u001b[39;00m item\u001b[38;5;241m.\u001b[39msplit()]\n\u001b[0;32m----> 3\u001b[0m result\u001b[38;5;241m=\u001b[39m\u001b[43mlist1\u001b[49m\u001b[38;5;241;43m.\u001b[39;49m\u001b[43msplit\u001b[49m()\n\u001b[1;32m      4\u001b[0m result\n",
      "\u001b[0;31mAttributeError\u001b[0m: 'list' object has no attribute 'split'"
     ]
    }
   ],
   "source": [
    "list1=['CampusX is a channel', 'for data-science', 'aspirants.']\n",
    "result=[word for item in list1 for word in item.split()]\n",
    "result=list1.split()\n",
    "result\n"
   ]
  },
  {
   "cell_type": "code",
   "execution_count": 60,
   "metadata": {},
   "outputs": [
    {
     "name": "stdout",
     "output_type": "stream",
     "text": [
      "campuxisbestchannelcampux is best channel\n"
     ]
    }
   ],
   "source": [
    "list1=[['c', 'a', 'm', 'p', 'u', 'x'], ['i', 's'], ['b', 'e', 's', 't'], ['c', 'h', 'a', 'n', 'n', 'e', 'l']]\n",
    "\n",
    "list2=[print(word,end='') for item in list1 for i in range(0,len(item)) for word in item[i]]#MINE\n",
    "\n",
    "list2=' '.join([''.join(word) for word in list1]) #gpt\n",
    "print(list2)"
   ]
  },
  {
   "cell_type": "code",
   "execution_count": 63,
   "metadata": {},
   "outputs": [
    {
     "data": {
      "text/plain": [
       "'691'"
      ]
     },
     "execution_count": 63,
     "metadata": {},
     "output_type": "execute_result"
    }
   ],
   "source": [
    "list1=['2','r','2']\n",
    "value='ra'\n",
    "\n",
    "''.join(list1)\n",
    "'9'.join(['6','1'])\n"
   ]
  },
  {
   "cell_type": "code",
   "execution_count": 58,
   "metadata": {},
   "outputs": [
    {
     "name": "stdout",
     "output_type": "stream",
     "text": [
      "campux is best channel\n"
     ]
    }
   ],
   "source": [
    "list1 = [['c', 'a', 'm', 'p', 'u', 'x'], ['i', 's'], ['b', 'e', 's', 't'], ['c', 'h', 'a', 'n', 'n', 'e', 'l']]\n",
    "\n",
    "result = ' '.join([''.join(sublist) for sublist in list1])\n",
    "print(result)\n"
   ]
  },
  {
   "cell_type": "code",
   "execution_count": 65,
   "metadata": {},
   "outputs": [
    {
     "ename": "SyntaxError",
     "evalue": "invalid syntax (514717481.py, line 3)",
     "output_type": "error",
     "traceback": [
      "\u001b[0;36m  Cell \u001b[0;32mIn[65], line 3\u001b[0;36m\u001b[0m\n\u001b[0;31m    list4=[' '.join(item[i-1]) for i in list3 for j in ]\u001b[0m\n\u001b[0m                                                       ^\u001b[0m\n\u001b[0;31mSyntaxError\u001b[0m\u001b[0;31m:\u001b[0m invalid syntax\n"
     ]
    }
   ],
   "source": [
    "list3=['campusxIs', 'bestFor', 'dataScientist']\n",
    "\n",
    "list4=[' '.join(item[i-1]) for i in list3 for j in ]"
   ]
  },
  {
   "cell_type": "code",
   "execution_count": 37,
   "metadata": {},
   "outputs": [
    {
     "name": "stdout",
     "output_type": "stream",
     "text": [
      "()\n",
      "<class 'int'>\n",
      "<class 'tuple'>\n",
      "(1,)\n",
      "('H', 'e', 'l', 'l')\n",
      "['h', 'e', 'l', 'l', 'o']\n"
     ]
    }
   ],
   "source": [
    "#26/7/2024\n",
    "#Tuple \n",
    "#Immutable list\n",
    "#In tuple order metters\n",
    "#empty tuple:\n",
    "t1=()\n",
    "print(t1)\n",
    "\n",
    "#single item tuple\n",
    "t2=(1) #wrong syntax \n",
    "print(type(t2))\n",
    "t2=(1,) #correct syntax\n",
    "print(type(t2))\n",
    "print(t2)\n",
    "\n",
    "\n",
    "#type conversion \n",
    "t3=tuple(\"Hell\")\n",
    "t4=list(\"hello\")\n",
    "print(t3)\n",
    "print(t4)\n"
   ]
  },
  {
   "cell_type": "code",
   "execution_count": 74,
   "metadata": {},
   "outputs": [
    {
     "name": "stdout",
     "output_type": "stream",
     "text": [
      "1\n"
     ]
    }
   ],
   "source": [
    "#Accessing Items from Tuple : Indexing and slicing\n",
    "t3=(1,2,3,4)\n",
    "print(t3[0])"
   ]
  },
  {
   "cell_type": "code",
   "execution_count": 77,
   "metadata": {},
   "outputs": [
    {
     "data": {
      "text/plain": [
       "(1, 2, 3)"
      ]
     },
     "execution_count": 77,
     "metadata": {},
     "output_type": "execute_result"
    }
   ],
   "source": [
    "t3[0:3]"
   ]
  },
  {
   "cell_type": "code",
   "execution_count": 83,
   "metadata": {},
   "outputs": [
    {
     "ename": "NameError",
     "evalue": "name 't3' is not defined",
     "output_type": "error",
     "traceback": [
      "\u001b[0;31m---------------------------------------------------------------------------\u001b[0m",
      "\u001b[0;31mNameError\u001b[0m                                 Traceback (most recent call last)",
      "Cell \u001b[0;32mIn[83], line 3\u001b[0m\n\u001b[1;32m      1\u001b[0m \u001b[38;5;66;03m#Changes in tuple is not possible\u001b[39;00m\n\u001b[1;32m      2\u001b[0m \u001b[38;5;66;03m#We can delete the whole tuple but not the portion of it\u001b[39;00m\n\u001b[0;32m----> 3\u001b[0m \u001b[38;5;28;01mdel\u001b[39;00m \u001b[43mt3\u001b[49m[\u001b[38;5;241m1\u001b[39m:\u001b[38;5;241m3\u001b[39m]\n\u001b[1;32m      4\u001b[0m \u001b[38;5;66;03m#print(t3)\u001b[39;00m\n",
      "\u001b[0;31mNameError\u001b[0m: name 't3' is not defined"
     ]
    }
   ],
   "source": [
    "#Changes in tuple is not possible\n",
    "#We can delete the whole tuple but not the portion of it\n",
    "del t3[1:3]\n",
    "#print(t3)"
   ]
  },
  {
   "cell_type": "code",
   "execution_count": 91,
   "metadata": {},
   "outputs": [
    {
     "name": "stdout",
     "output_type": "stream",
     "text": [
      "(1, 2, 3, 4, 3, 4, 5)\n",
      "(1, 2, 3, 4, 1, 2, 3, 4)\n",
      "1\n",
      "2\n",
      "3\n",
      "4\n"
     ]
    }
   ],
   "source": [
    "#Operation in TUple\n",
    "# + and *\n",
    "\n",
    "t1=(1,2,3,4)\n",
    "t3=(3,4,5)\n",
    "print(t1+t3)\n",
    "\n",
    "print(t1*2)\n",
    "100 in t1\n",
    "\n",
    "for i in t1:\n",
    "    print(i)"
   ]
  },
  {
   "cell_type": "code",
   "execution_count": 94,
   "metadata": {},
   "outputs": [],
   "source": [
    "#Tuple functions len/min/max/sorted"
   ]
  },
  {
   "cell_type": "code",
   "execution_count": 95,
   "metadata": {},
   "outputs": [],
   "source": [
    "#Difference Between list and tuple\n",
    "#tuple is faster\n",
    "#tuples takes less memory \n",
    "#tuples has less build in function\n",
    "#LIst is more error prone\n",
    "#Useability \n",
    "#why we use tuple? when we don't want to change the data "
   ]
  },
  {
   "cell_type": "code",
   "execution_count": 96,
   "metadata": {},
   "outputs": [
    {
     "name": "stdout",
     "output_type": "stream",
     "text": [
      "1 2 3\n"
     ]
    }
   ],
   "source": [
    "#Specific function in tuple \n",
    "#tuple unpacking\n",
    "\n",
    "a,b,c=(1,2,3)\n",
    "print(a,b,c)\n"
   ]
  },
  {
   "cell_type": "code",
   "execution_count": 98,
   "metadata": {},
   "outputs": [
    {
     "name": "stdout",
     "output_type": "stream",
     "text": [
      "2 1\n"
     ]
    }
   ],
   "source": [
    "#swaping\n",
    "a=1\n",
    "b=2\n",
    "a,b=b,a\n",
    "print (a,b )"
   ]
  },
  {
   "cell_type": "code",
   "execution_count": 100,
   "metadata": {},
   "outputs": [
    {
     "name": "stdout",
     "output_type": "stream",
     "text": [
      "1 2\n",
      "[3, 4, 4, 5, 6]\n"
     ]
    }
   ],
   "source": [
    "#While tuple unpacking when you don't want to unpack all the tuple values\n",
    "a,b,*other=1,2,3,4,4,5,6\n",
    "#it store first two values and the remaining values are stored in the list \n",
    "print(a,b)\n",
    "print(other)"
   ]
  },
  {
   "cell_type": "code",
   "execution_count": 101,
   "metadata": {},
   "outputs": [
    {
     "data": {
      "text/plain": [
       "((1, 5), (2, 6), (3, 7), (4, 8))"
      ]
     },
     "execution_count": 101,
     "metadata": {},
     "output_type": "execute_result"
    }
   ],
   "source": [
    "#zipping tuples\n",
    "a=(1,2,3,4)\n",
    "b=(5,6,7,8)\n",
    "\n",
    "\n",
    "list(zip(a,b))\n",
    "tuple(zip(a,b))"
   ]
  },
  {
   "cell_type": "code",
   "execution_count": 102,
   "metadata": {},
   "outputs": [],
   "source": [
    "#tuple comprehension "
   ]
  },
  {
   "cell_type": "code",
   "execution_count": 103,
   "metadata": {},
   "outputs": [],
   "source": [
    "#Set .........................................\n",
    "#characterstic of Sets\n",
    "# Unorder \n",
    "#Mutable\n",
    "#No Duplicates\n",
    "#Can't contain mutable data types\n",
    "\n"
   ]
  },
  {
   "cell_type": "code",
   "execution_count": 104,
   "metadata": {},
   "outputs": [
    {
     "name": "stdout",
     "output_type": "stream",
     "text": [
      "<class 'dict'>\n"
     ]
    }
   ],
   "source": [
    "#Creatin empty set \n",
    "s={} #this will become dictionary by python default setting \n",
    "\n",
    "print(type (s))"
   ]
  },
  {
   "cell_type": "code",
   "execution_count": 105,
   "metadata": {},
   "outputs": [
    {
     "name": "stdout",
     "output_type": "stream",
     "text": [
      "<class 'set'>\n"
     ]
    }
   ],
   "source": [
    "s=set()\n",
    "print(type(s))"
   ]
  },
  {
   "cell_type": "code",
   "execution_count": 120,
   "metadata": {},
   "outputs": [
    {
     "name": "stdout",
     "output_type": "stream",
     "text": [
      "{1, 2, 3, '123', 1.2, 'asf'}\n"
     ]
    }
   ],
   "source": [
    "s1={1,'123',1.2,2,3,'asf'}\n",
    "s1\n",
    "print(s1)"
   ]
  },
  {
   "cell_type": "code",
   "execution_count": 121,
   "metadata": {},
   "outputs": [],
   "source": [
    "#Accessing item from them set is not allowed because their order is random which is decided by hash in memory"
   ]
  },
  {
   "cell_type": "code",
   "execution_count": 132,
   "metadata": {},
   "outputs": [
    {
     "name": "stdout",
     "output_type": "stream",
     "text": [
      "{1, 2, 3, 4}\n"
     ]
    }
   ],
   "source": [
    "#Editing is not possible in SET\n",
    "#ADding is possible \n",
    "s1={1,2,3}\n",
    "s1.add(4)\n",
    "print(s1)"
   ]
  },
  {
   "cell_type": "code",
   "execution_count": 133,
   "metadata": {},
   "outputs": [
    {
     "name": "stdout",
     "output_type": "stream",
     "text": [
      "{1, 2, 3, 4, 5, 6, 23}\n"
     ]
    }
   ],
   "source": [
    "#ADding multiple items to set we use update function and provide list to it\n",
    "s1.update([1,23,4,5,6,2])\n",
    "print(s1)"
   ]
  },
  {
   "cell_type": "code",
   "execution_count": 134,
   "metadata": {},
   "outputs": [
    {
     "name": "stdout",
     "output_type": "stream",
     "text": [
      "{1, 2, 3, 4, 5, 6, 23}\n"
     ]
    },
    {
     "ename": "NameError",
     "evalue": "name 's1' is not defined",
     "output_type": "error",
     "traceback": [
      "\u001b[0;31m---------------------------------------------------------------------------\u001b[0m",
      "\u001b[0;31mNameError\u001b[0m                                 Traceback (most recent call last)",
      "Cell \u001b[0;32mIn[134], line 4\u001b[0m\n\u001b[1;32m      2\u001b[0m \u001b[38;5;28mprint\u001b[39m(s1)\n\u001b[1;32m      3\u001b[0m \u001b[38;5;28;01mdel\u001b[39;00m s1\n\u001b[0;32m----> 4\u001b[0m \u001b[38;5;28mprint\u001b[39m(\u001b[43ms1\u001b[49m)\n",
      "\u001b[0;31mNameError\u001b[0m: name 's1' is not defined"
     ]
    }
   ],
   "source": [
    "#Deleting Items in set\n",
    "print(s1)\n",
    "del s1\n",
    "print(s1)"
   ]
  },
  {
   "cell_type": "code",
   "execution_count": 2,
   "metadata": {},
   "outputs": [
    {
     "name": "stdout",
     "output_type": "stream",
     "text": [
      "{1, 3, 4}\n"
     ]
    }
   ],
   "source": [
    "s1={1,2,3,4}\n",
    "s1.discard(2)\n",
    "print(s1)"
   ]
  },
  {
   "cell_type": "code",
   "execution_count": 3,
   "metadata": {},
   "outputs": [
    {
     "ename": "KeyError",
     "evalue": "8",
     "output_type": "error",
     "traceback": [
      "\u001b[1;31m---------------------------------------------------------------------------\u001b[0m",
      "\u001b[1;31mKeyError\u001b[0m                                  Traceback (most recent call last)",
      "Cell \u001b[1;32mIn[3], line 1\u001b[0m\n\u001b[1;32m----> 1\u001b[0m \u001b[43ms1\u001b[49m\u001b[38;5;241;43m.\u001b[39;49m\u001b[43mremove\u001b[49m\u001b[43m(\u001b[49m\u001b[38;5;241;43m8\u001b[39;49m\u001b[43m)\u001b[49m\n",
      "\u001b[1;31mKeyError\u001b[0m: 8"
     ]
    }
   ],
   "source": [
    "s1.remove(2)"
   ]
  },
  {
   "cell_type": "code",
   "execution_count": 138,
   "metadata": {},
   "outputs": [
    {
     "name": "stdout",
     "output_type": "stream",
     "text": [
      "{1, 3}\n"
     ]
    }
   ],
   "source": [
    "print(s1)"
   ]
  },
  {
   "cell_type": "code",
   "execution_count": 140,
   "metadata": {},
   "outputs": [
    {
     "ename": "KeyError",
     "evalue": "100",
     "output_type": "error",
     "traceback": [
      "\u001b[0;31m---------------------------------------------------------------------------\u001b[0m",
      "\u001b[0;31mKeyError\u001b[0m                                  Traceback (most recent call last)",
      "Cell \u001b[0;32mIn[140], line 1\u001b[0m\n\u001b[0;32m----> 1\u001b[0m \u001b[43ms1\u001b[49m\u001b[38;5;241;43m.\u001b[39;49m\u001b[43mremove\u001b[49m\u001b[43m(\u001b[49m\u001b[38;5;241;43m100\u001b[39;49m\u001b[43m)\u001b[49m \u001b[38;5;66;03m#remove function will show error if the mention item is not in the set but discard will not show \u001b[39;00m\n\u001b[1;32m      2\u001b[0m \u001b[38;5;66;03m#Any error \u001b[39;00m\n\u001b[1;32m      3\u001b[0m s1\u001b[38;5;241m.\u001b[39mdiscard(\u001b[38;5;241m1000\u001b[39m)\n",
      "\u001b[0;31mKeyError\u001b[0m: 100"
     ]
    }
   ],
   "source": [
    "s1.remove(100) #remove function will show error if the mention item is not in the set but discard will not show \n",
    "#Any error \n",
    "s1.discard(1000)"
   ]
  },
  {
   "cell_type": "markdown",
   "metadata": {},
   "source": []
  },
  {
   "cell_type": "code",
   "execution_count": 39,
   "metadata": {},
   "outputs": [
    {
     "name": "stdout",
     "output_type": "stream",
     "text": [
      "{2, 3, 4}\n"
     ]
    }
   ],
   "source": [
    "#Pop function will remove any number or item from SET at random \n",
    "s1={1,2,3,4}\n",
    "s1.pop()\n",
    "print(s1)"
   ]
  },
  {
   "cell_type": "code",
   "execution_count": 144,
   "metadata": {},
   "outputs": [
    {
     "name": "stdout",
     "output_type": "stream",
     "text": [
      "set()\n"
     ]
    }
   ],
   "source": [
    "#clear function will remove all the items from the set and make it empty set\n",
    "s1.clear()\n",
    "print(s1)"
   ]
  },
  {
   "cell_type": "code",
   "execution_count": 6,
   "metadata": {},
   "outputs": [
    {
     "name": "stdout",
     "output_type": "stream",
     "text": [
      "True\n",
      "False\n",
      "1\n",
      "2\n",
      "3\n",
      "4\n"
     ]
    }
   ],
   "source": [
    "#Main Fitures Set operations\n",
    "#Union(|)\n",
    "s1={1,2,3,4}\n",
    "s2={5,4,3,1}\n",
    "s1|s2\n",
    "\n",
    "#intersetion(&)\n",
    "s1 & s2\n",
    "\n",
    "# differencece(-)\n",
    "s1-s2\n",
    "\n",
    "#Symmetric difference (^) it print everything which is not common in both sets\n",
    "s1^ s2\n",
    "\n",
    "#Memebership test\n",
    "print(2 in s1)\n",
    "print(2 not in s1)\n",
    "\n",
    "#Iteration\n",
    "for i in s1:\n",
    "    print(i)"
   ]
  },
  {
   "cell_type": "code",
   "execution_count": 153,
   "metadata": {},
   "outputs": [
    {
     "data": {
      "text/plain": [
       "[4, 3, 2, 1]"
      ]
     },
     "execution_count": 153,
     "metadata": {},
     "output_type": "execute_result"
    }
   ],
   "source": [
    "#Set Functions\n",
    "#len/sum/min/max/sorted\n",
    "#Output of sorted function is in list \n",
    "sorted(s1,reverse=True)"
   ]
  },
  {
   "cell_type": "code",
   "execution_count": 157,
   "metadata": {},
   "outputs": [
    {
     "name": "stdout",
     "output_type": "stream",
     "text": [
      "{1, 2, 3, 4, 5}\n",
      "{1, 3, 4, 5}\n"
     ]
    }
   ],
   "source": [
    "#Union/ update function\n",
    "s1.union(s2)\n",
    "s1.update(s2)# this will assign the new unioned value to s1\n",
    "print(s1)\n",
    "print(s2)"
   ]
  },
  {
   "cell_type": "code",
   "execution_count": 161,
   "metadata": {},
   "outputs": [
    {
     "name": "stdout",
     "output_type": "stream",
     "text": [
      "{1, 2, 3}\n"
     ]
    }
   ],
   "source": [
    "#Intersection / intersection update\n",
    "s1={1,2,3}\n",
    "s1.intersection(s2)\n",
    "print(s1)\n",
    "\n",
    "s1.intersection_update(s2)\n",
    "\n",
    "#all other function behave same as the above union and intersection function\n",
    "\n"
   ]
  },
  {
   "cell_type": "code",
   "execution_count": 42,
   "metadata": {},
   "outputs": [
    {
     "ename": "NameError",
     "evalue": "name 's2' is not defined",
     "output_type": "error",
     "traceback": [
      "\u001b[1;31m---------------------------------------------------------------------------\u001b[0m",
      "\u001b[1;31mNameError\u001b[0m                                 Traceback (most recent call last)",
      "Cell \u001b[1;32mIn[42], line 3\u001b[0m\n\u001b[0;32m      1\u001b[0m \u001b[38;5;66;03m#isdisjoint/issubset/issuperset FUNCTION\u001b[39;00m\n\u001b[1;32m----> 3\u001b[0m s1\u001b[38;5;241m.\u001b[39misdisjoint(\u001b[43ms2\u001b[49m) \u001b[38;5;66;03m#disjoin set means having no common element in the sets\u001b[39;00m\n\u001b[0;32m      5\u001b[0m s1\u001b[38;5;241m=\u001b[39m{\u001b[38;5;241m1\u001b[39m,\u001b[38;5;241m2\u001b[39m,\u001b[38;5;241m3\u001b[39m}\n\u001b[0;32m      6\u001b[0m s2\u001b[38;5;241m=\u001b[39m{\u001b[38;5;241m1\u001b[39m,\u001b[38;5;241m2\u001b[39m,\u001b[38;5;241m3\u001b[39m,\u001b[38;5;241m4\u001b[39m,\u001b[38;5;241m5\u001b[39m,\u001b[38;5;241m5\u001b[39m,\u001b[38;5;241m6\u001b[39m}\n",
      "\u001b[1;31mNameError\u001b[0m: name 's2' is not defined"
     ]
    }
   ],
   "source": [
    "#isdisjoint/issubset/issuperset FUNCTION\n",
    "\n",
    "s1.isdisjoint(s2) #disjoin set means having no common element in the sets\n",
    "\n",
    "s1={1,2,3}\n",
    "s2={1,2,3,4,5,5,6}\n",
    "s1.issubset(s2)\n",
    "\n",
    "s2.issuperset(s1)\n",
    "\n",
    "\n"
   ]
  },
  {
   "cell_type": "code",
   "execution_count": 41,
   "metadata": {},
   "outputs": [
    {
     "ename": "NameError",
     "evalue": "name 's2' is not defined",
     "output_type": "error",
     "traceback": [
      "\u001b[1;31m---------------------------------------------------------------------------\u001b[0m",
      "\u001b[1;31mNameError\u001b[0m                                 Traceback (most recent call last)",
      "Cell \u001b[1;32mIn[41], line 2\u001b[0m\n\u001b[0;32m      1\u001b[0m \u001b[38;5;66;03m#Copy Function\u001b[39;00m\n\u001b[1;32m----> 2\u001b[0m s1\u001b[38;5;241m=\u001b[39m\u001b[43ms2\u001b[49m\u001b[38;5;241m.\u001b[39mcopy()\n\u001b[0;32m      3\u001b[0m \u001b[38;5;28mprint\u001b[39m(\u001b[38;5;28mid\u001b[39m(s1))\n\u001b[0;32m      4\u001b[0m \u001b[38;5;28mprint\u001b[39m(\u001b[38;5;28mid\u001b[39m(s2))\n",
      "\u001b[1;31mNameError\u001b[0m: name 's2' is not defined"
     ]
    }
   ],
   "source": [
    "#Copy Function\n",
    "s1=s2.copy()\n",
    "print(id(s1))\n",
    "print(id(s2))"
   ]
  },
  {
   "cell_type": "code",
   "execution_count": 170,
   "metadata": {},
   "outputs": [
    {
     "data": {
      "text/plain": [
       "frozenset({1, 2, 3})"
      ]
     },
     "execution_count": 170,
     "metadata": {},
     "output_type": "execute_result"
    }
   ],
   "source": [
    "#FROzENset\n",
    "#immutable\n",
    "#creating forzen set\n",
    "fs=frozenset([1,2,3])\n",
    "fs"
   ]
  },
  {
   "cell_type": "code",
   "execution_count": 171,
   "metadata": {},
   "outputs": [],
   "source": [
    "#union intersection , issuperset all will work which only read\n",
    "#We use frozenset where we don't want to change\n",
    "#nested frozenset is possible"
   ]
  },
  {
   "cell_type": "code",
   "execution_count": 173,
   "metadata": {},
   "outputs": [
    {
     "data": {
      "text/plain": [
       "{6, 7, 8, 9, 10}"
      ]
     },
     "execution_count": 173,
     "metadata": {},
     "output_type": "execute_result"
    }
   ],
   "source": [
    "#Set Comprehension\n",
    "{i for i in range(1,11) if i>5}"
   ]
  },
  {
   "cell_type": "code",
   "execution_count": 174,
   "metadata": {},
   "outputs": [],
   "source": [
    "#DICTIONARY \n",
    "#It hold key and its values like map it also called map or associative arrays\n",
    "#Mutable\n",
    "#Indexing has no meaning\n",
    "#Keys can't be duplicated \n",
    "#Keys can't be mutable items"
   ]
  },
  {
   "cell_type": "code",
   "execution_count": 178,
   "metadata": {},
   "outputs": [
    {
     "name": "stdout",
     "output_type": "stream",
     "text": [
      "{'name': 'raees', 'subject': {'dss': 23}}\n"
     ]
    }
   ],
   "source": [
    "#Creating empty dictionary \n",
    "d={}\n",
    "d\n",
    "d1={'name':12,13:'asdf'}\n",
    "d1\n",
    "\n",
    "#Nested Dictionary pairs 2d and 3d ->JSON\n",
    "s={\n",
    "    'name':'raees',\n",
    "    'subject':{'dss':23}\n",
    "}\n",
    "print(s)\n"
   ]
  },
  {
   "cell_type": "code",
   "execution_count": 179,
   "metadata": {},
   "outputs": [
    {
     "data": {
      "text/plain": [
       "{'name': 'nitish', 'age': 32, 3: 3}"
      ]
     },
     "execution_count": 179,
     "metadata": {},
     "output_type": "execute_result"
    }
   ],
   "source": [
    "#Using sequence and dict function passing list of tuples to form dictionary\n",
    "d4=dict([('name','nitish'),('age',32),(3,3)])\n",
    "d4"
   ]
  },
  {
   "cell_type": "code",
   "execution_count": 181,
   "metadata": {},
   "outputs": [
    {
     "ename": "TypeError",
     "evalue": "unhashable type: 'list'",
     "output_type": "error",
     "traceback": [
      "\u001b[0;31m---------------------------------------------------------------------------\u001b[0m",
      "\u001b[0;31mTypeError\u001b[0m                                 Traceback (most recent call last)",
      "Cell \u001b[0;32mIn[181], line 2\u001b[0m\n\u001b[1;32m      1\u001b[0m \u001b[38;5;66;03m#Mutable keys are not allowed\u001b[39;00m\n\u001b[0;32m----> 2\u001b[0m d4\u001b[38;5;241m=\u001b[39m{\u001b[38;5;124m'\u001b[39m\u001b[38;5;124masdf\u001b[39m\u001b[38;5;124m'\u001b[39m:\u001b[38;5;124m'\u001b[39m\u001b[38;5;124masdf\u001b[39m\u001b[38;5;124m'\u001b[39m,[\u001b[38;5;241m1\u001b[39m,\u001b[38;5;241m2\u001b[39m]:\u001b[38;5;241m3\u001b[39m}\n",
      "\u001b[0;31mTypeError\u001b[0m: unhashable type: 'list'"
     ]
    }
   ],
   "source": [
    "#Mutable keys are not allowed\n",
    "d4={'asdf':'asdf',[1,2]:3}"
   ]
  },
  {
   "cell_type": "code",
   "execution_count": 43,
   "metadata": {},
   "outputs": [
    {
     "data": {
      "text/plain": [
       "3"
      ]
     },
     "execution_count": 43,
     "metadata": {},
     "output_type": "execute_result"
    }
   ],
   "source": [
    "#Accessing from the dictionary we use key of dictionary\n",
    "d3={1:2,'123':3}\n",
    "d3['123']\n",
    "\n",
    "d3.get('123')"
   ]
  },
  {
   "cell_type": "code",
   "execution_count": 184,
   "metadata": {},
   "outputs": [],
   "source": [
    "#Adding new key value pair\n",
    "\n",
    "d3['gender']='male'"
   ]
  },
  {
   "cell_type": "code",
   "execution_count": 185,
   "metadata": {},
   "outputs": [
    {
     "data": {
      "text/plain": [
       "{1: 2, '123': 3, 'gender': 'male'}"
      ]
     },
     "execution_count": 185,
     "metadata": {},
     "output_type": "execute_result"
    }
   ],
   "source": [
    "d3"
   ]
  },
  {
   "cell_type": "code",
   "execution_count": 44,
   "metadata": {},
   "outputs": [
    {
     "data": {
      "text/plain": [
       "('123', 3)"
      ]
     },
     "execution_count": 44,
     "metadata": {},
     "output_type": "execute_result"
    }
   ],
   "source": [
    "#Removing Key value pair from dictionary\n",
    "d3.pop(1)\n",
    "d3\n",
    "\n",
    "d3.popitem() #It will remove the last item from the dictonary"
   ]
  },
  {
   "cell_type": "code",
   "execution_count": 193,
   "metadata": {},
   "outputs": [
    {
     "data": {
      "text/plain": [
       "{}"
      ]
     },
     "execution_count": 193,
     "metadata": {},
     "output_type": "execute_result"
    }
   ],
   "source": [
    "d3"
   ]
  },
  {
   "cell_type": "code",
   "execution_count": 194,
   "metadata": {},
   "outputs": [],
   "source": [
    "#Deleting \n",
    "del d3"
   ]
  },
  {
   "cell_type": "code",
   "execution_count": 195,
   "metadata": {},
   "outputs": [
    {
     "ename": "NameError",
     "evalue": "name 'd3' is not defined",
     "output_type": "error",
     "traceback": [
      "\u001b[0;31m---------------------------------------------------------------------------\u001b[0m",
      "\u001b[0;31mNameError\u001b[0m                                 Traceback (most recent call last)",
      "Cell \u001b[0;32mIn[195], line 1\u001b[0m\n\u001b[0;32m----> 1\u001b[0m \u001b[43md3\u001b[49m\n",
      "\u001b[0;31mNameError\u001b[0m: name 'd3' is not defined"
     ]
    }
   ],
   "source": []
  },
  {
   "cell_type": "code",
   "execution_count": 197,
   "metadata": {},
   "outputs": [
    {
     "data": {
      "text/plain": [
       "2"
      ]
     },
     "execution_count": 197,
     "metadata": {},
     "output_type": "execute_result"
    }
   ],
   "source": [
    "#Accessing Nested dictionary\n",
    "s={1:2,4:5,'subjects':{'math':2}}\n",
    "\n",
    "s['subjects']['math']"
   ]
  },
  {
   "cell_type": "code",
   "execution_count": 198,
   "metadata": {},
   "outputs": [],
   "source": [
    "#Editing Dictionary\n",
    "s['subjects']['math']=100"
   ]
  },
  {
   "cell_type": "code",
   "execution_count": 199,
   "metadata": {},
   "outputs": [
    {
     "data": {
      "text/plain": [
       "{1: 2, 4: 5, 'subjects': {'math': 100}}"
      ]
     },
     "execution_count": 199,
     "metadata": {},
     "output_type": "execute_result"
    }
   ],
   "source": [
    "s"
   ]
  },
  {
   "cell_type": "code",
   "execution_count": 227,
   "metadata": {},
   "outputs": [
    {
     "data": {
      "text/plain": [
       "True"
      ]
     },
     "execution_count": 227,
     "metadata": {},
     "output_type": "execute_result"
    }
   ],
   "source": [
    "#DIctionary operations \n",
    "#Membership operator work on keys only\n",
    "s={1:2,4:5,'subjects':{'math':2}}\n",
    "'subjects' in s"
   ]
  },
  {
   "cell_type": "code",
   "execution_count": 208,
   "metadata": {},
   "outputs": [
    {
     "name": "stdout",
     "output_type": "stream",
     "text": [
      "name raees\n",
      "gender Male\n",
      "age 20\n"
     ]
    }
   ],
   "source": [
    "#Loop in dictionary \n",
    "d={'name':'raees','gender':'Male','age':20}\n",
    "for i in d:\n",
    "    print(i,d[i])"
   ]
  },
  {
   "cell_type": "code",
   "execution_count": null,
   "metadata": {},
   "outputs": [],
   "source": [
    "#len/min/max/sorted sorted will sort the key of the dictionary\n",
    "\n"
   ]
  },
  {
   "cell_type": "code",
   "execution_count": 213,
   "metadata": {},
   "outputs": [
    {
     "name": "stdout",
     "output_type": "stream",
     "text": [
      "{'name': 'raees', 'gender': 'Male', 'age': 20}\n",
      "dict_items([('name', 'raees'), ('gender', 'Male'), ('age', 20)])\n",
      "dict_keys(['name', 'gender', 'age'])\n",
      "dict_values(['raees', 'Male', 20])\n"
     ]
    }
   ],
   "source": [
    "#items/keys/values\n",
    "print(d)\n",
    "print(d.items())# Items make list of tuples\n",
    "print(d.keys())\n",
    "print(d.values())\n"
   ]
  },
  {
   "cell_type": "code",
   "execution_count": 46,
   "metadata": {},
   "outputs": [
    {
     "name": "stdout",
     "output_type": "stream",
     "text": [
      "{1: 2, 3: 4, 5: 3, 6: 9, 10: 20}\n"
     ]
    }
   ],
   "source": [
    "#Update function\n",
    "d2={1:2,3:4,5:6}\n",
    "d3={5:3,6:9,10:20}\n",
    "\n",
    "d2.update(d3) #This will permanently change the d2 \n",
    "print(d2)"
   ]
  },
  {
   "cell_type": "code",
   "execution_count": 223,
   "metadata": {},
   "outputs": [
    {
     "data": {
      "text/plain": [
       "{1: 1, 2: 4, 3: 9, 4: 16, 5: 25, 6: 36, 7: 49, 8: 64, 9: 81, 10: 100}"
      ]
     },
     "execution_count": 223,
     "metadata": {},
     "output_type": "execute_result"
    }
   ],
   "source": [
    "#Creating dictionary uisng dictionary comprehension\n",
    "{i:i**2 for i in range(1,11)}"
   ]
  },
  {
   "cell_type": "code",
   "execution_count": 224,
   "metadata": {},
   "outputs": [
    {
     "data": {
      "text/plain": [
       "{'karachi': 2000, 'lahore': 800, 'skardu': 3000}"
      ]
     },
     "execution_count": 224,
     "metadata": {},
     "output_type": "execute_result"
    }
   ],
   "source": [
    "d2={'karachi':1000,'lahore':400,'skardu':1500}\n",
    "#Creating a new dictionary from existing one using comaperihension \n",
    "d3={key:(value*2) for (key,value) in d2.items()}\n",
    "d3"
   ]
  },
  {
   "cell_type": "code",
   "execution_count": 225,
   "metadata": {},
   "outputs": [
    {
     "data": {
      "text/plain": [
       "{'Monday': 12, 'Tuesday': 13}"
      ]
     },
     "execution_count": 225,
     "metadata": {},
     "output_type": "execute_result"
    }
   ],
   "source": [
    "#USING ZIP which pair up things\n",
    "\n",
    "days=['Monday','Tuesday']\n",
    "temp=[12,13]\n",
    "\n",
    "{i:j for (i,j) in zip(days,temp)}"
   ]
  },
  {
   "cell_type": "code",
   "execution_count": 226,
   "metadata": {},
   "outputs": [
    {
     "data": {
      "text/plain": [
       "{1: {1: 1, 2: 2, 3: 3, 4: 4, 5: 5, 6: 6, 7: 7, 8: 8, 9: 9, 10: 10},\n",
       " 2: {1: 2, 2: 4, 3: 6, 4: 8, 5: 10, 6: 12, 7: 14, 8: 16, 9: 18, 10: 20},\n",
       " 3: {1: 3, 2: 6, 3: 9, 4: 12, 5: 15, 6: 18, 7: 21, 8: 24, 9: 27, 10: 30},\n",
       " 4: {1: 4, 2: 8, 3: 12, 4: 16, 5: 20, 6: 24, 7: 28, 8: 32, 9: 36, 10: 40}}"
      ]
     },
     "execution_count": 226,
     "metadata": {},
     "output_type": "execute_result"
    }
   ],
   "source": [
    "#nested COmprehension of dictionary\n",
    "{i:{j:i*j for j in range(1,11)} for i in range (1,5)}"
   ]
  },
  {
   "cell_type": "code",
   "execution_count": 1,
   "metadata": {},
   "outputs": [],
   "source": [
    "#***************************************************"
   ]
  },
  {
   "cell_type": "code",
   "execution_count": 71,
   "metadata": {},
   "outputs": [
    {
     "name": "stdout",
     "output_type": "stream",
     "text": [
      "[(5, 6, 5, 7, 5, 8), (6, 10), (7, 13)]\n"
     ]
    }
   ],
   "source": [
    "#27/7/2024\n",
    "\n",
    "#TUples practice \n",
    "\n",
    "test_list = [(5, 6), (5, 7), (5, 8), (6, 10), (7, 13)] \n",
    "\n",
    "new_list=[()]\n",
    "num=0\n",
    "num2=0\n",
    "bool=True\n",
    "for i in range(0,5):\n",
    "    for j in range(0,1):\n",
    "         if(test_list[i][j]==5):\n",
    "              \n",
    "              new_list[num]+=test_list[i]\n",
    "         else:\n",
    "              new_list.append(test_list[i])\n",
    "\n",
    "\n",
    "\n",
    "\n",
    "print(new_list)\n",
    "\n",
    "\n"
   ]
  },
  {
   "cell_type": "code",
   "execution_count": 66,
   "metadata": {},
   "outputs": [],
   "source": [
    "new_list[0]+=test_list[0]"
   ]
  },
  {
   "cell_type": "code",
   "execution_count": 54,
   "metadata": {},
   "outputs": [
    {
     "data": {
      "text/plain": [
       "(5, 6)"
      ]
     },
     "execution_count": 54,
     "metadata": {},
     "output_type": "execute_result"
    }
   ],
   "source": [
    "new_list[0] \n",
    "test_list[0]"
   ]
  },
  {
   "cell_type": "code",
   "execution_count": 72,
   "metadata": {},
   "outputs": [
    {
     "name": "stdout",
     "output_type": "stream",
     "text": [
      "[(5, 6, 7, 8), (6, 10), (7, 13)]\n"
     ]
    }
   ],
   "source": [
    "test_list = [(5, 6), (5, 7), (5, 8), (6, 10), (7, 13)] \n",
    "\n",
    "new_list = []\n",
    "current_five_tuple = ()\n",
    "\n",
    "for tup in test_list:\n",
    "    if tup[0] == 5:\n",
    "        if current_five_tuple:\n",
    "            current_five_tuple += tup[1:]\n",
    "        else:\n",
    "            current_five_tuple = tup\n",
    "    else:\n",
    "        if current_five_tuple:\n",
    "            new_list.append(current_five_tuple)\n",
    "            current_five_tuple = ()\n",
    "        new_list.append(tup)\n",
    "\n",
    "if current_five_tuple:\n",
    "    new_list.append(current_five_tuple)\n",
    "\n",
    "print(new_list)\n"
   ]
  },
  {
   "cell_type": "code",
   "execution_count": 74,
   "metadata": {},
   "outputs": [
    {
     "name": "stdout",
     "output_type": "stream",
     "text": [
      "5\n",
      "5\n",
      "5\n",
      "6\n",
      "7\n"
     ]
    }
   ],
   "source": [
    "for i in test_list:\n",
    "    print(i[0])"
   ]
  },
  {
   "cell_type": "code",
   "execution_count": 3,
   "metadata": {},
   "outputs": [
    {
     "name": "stdout",
     "output_type": "stream",
     "text": [
      "(5, 40, 91, 136, 80)\n"
     ]
    }
   ],
   "source": [
    "#Problem 2\n",
    "t1=(1,5,7,8,10)\n",
    "t2=list(t1)\n",
    "\n",
    "for i in range(0,len(t1)-1):\n",
    "    if(i==0 or i==[len(t1)-2]):\n",
    "        if(i==0):\n",
    "            t2[i]=t1[i]*t1[i+1]\n",
    "            t2[len(t1)-1]=t1[len(t1)-2]*t1[len(t1)-1]\n",
    "    else:\n",
    "        t2[i]=t1[i]*t1[i-1] + t1[i]*t1[i+1]\n",
    "    \n",
    "t2=tuple(t2)\n",
    "print(t2)\n"
   ]
  },
  {
   "cell_type": "code",
   "execution_count": 9,
   "metadata": {},
   "outputs": [
    {
     "name": "stdout",
     "output_type": "stream",
     "text": [
      "The two given tuples are not same\n"
     ]
    }
   ],
   "source": [
    "#Problem 3\n",
    "counter=0\n",
    "t1 = (1,2,3,0)\n",
    "\n",
    "t2 = (0,1,2,3)\n",
    "\n",
    "for i in range(0,len(t1)):\n",
    "    if(t1[i]==t2[i]):\n",
    "        counter+=1\n",
    "\n",
    "if(counter==len(t1)):\n",
    "    print('Tht two tuples are same')\n",
    "else:\n",
    "    print('The two given tuples are not same')\n",
    "\n"
   ]
  },
  {
   "cell_type": "code",
   "execution_count": null,
   "metadata": {},
   "outputs": [],
   "source": [
    "list1 = [{'hi', 'bye'},{'Geeks', 'forGeeks'},('a', 'b'),['hi', 'bye'],['a', 'b']]\n"
   ]
  },
  {
   "cell_type": "code",
   "execution_count": 13,
   "metadata": {},
   "outputs": [
    {
     "name": "stdout",
     "output_type": "stream",
     "text": [
      "Set: 2 \n",
      "List: 2 \n",
      "Tuple: 1\n"
     ]
    }
   ],
   "source": [
    "list1 = [{'hi', 'bye'},{'Geeks', 'forGeeks'},('a', 'b'),['hi', 'bye'],['a', 'b']]\n",
    "\n",
    "num_tup=0\n",
    "num_list=0\n",
    "num_set=0\n",
    "for i in list1:\n",
    "    if(isinstance(i,tuple)):\n",
    "       num_tup+=1\n",
    "    elif(isinstance(i,list)):\n",
    "        num_list+=1\n",
    "    elif(isinstance(i,set)):\n",
    "        num_set+=1\n",
    "\n",
    "print(\"Set:\",num_set,'\\nList:',num_list,'\\nTuple:',num_tup)"
   ]
  },
  {
   "cell_type": "code",
   "execution_count": 61,
   "metadata": {},
   "outputs": [
    {
     "name": "stdout",
     "output_type": "stream",
     "text": [
      "Candidate number: 5\n",
      "Candidate number: 5\n",
      "Selected Candidates are:\n",
      "('Raqeeb', 'B.Tech', 'python', '2022', 'khan')\n",
      " \n",
      "('B.Tech', 'python', '2022')\n",
      " \n"
     ]
    }
   ],
   "source": [
    "\n",
    "record=[]\n",
    "name=''\n",
    "Education=''\n",
    "Skill=''\n",
    "Graduation=''\n",
    "\n",
    "Re_skill='python'\n",
    "Re_education='B.Tech'\n",
    "Re_Graduation='2022'\n",
    "\n",
    "num_student=int(input('Enter the number of candidates:'))\n",
    "\n",
    "for j in range(1,num_student+1):\n",
    "    print('Candidate number:',i)\n",
    "    name=input('Enter the name of Candidate:')\n",
    "    record.append(name)\n",
    "    Education=input('Enter the Education of Candidate:')\n",
    "    record.append(Education.title())\n",
    "    Skill=input('Enter the skill of Candidate:')\n",
    "    record.append(Sckill.lower())\n",
    "    Graduation=input('Enter the date of graduation:')\n",
    "    record.append(Graduation)\n",
    "\n",
    "\n",
    "\n",
    "candidate_selected=[]\n",
    "tem=[]\n",
    "for i in range(0,len(record),5):\n",
    "    checker=0\n",
    "    for j in range(i,i+4):\n",
    "        if j<len(record):\n",
    "            if(record[j]==Re_education):\n",
    "                checker+=1\n",
    "            if(record[j]==Re_skill):\n",
    "                checker+=1\n",
    "            if(record[j]==Re_Graduation):\n",
    "                checker+=1\n",
    "    \n",
    "    if(checker==3):\n",
    "       \n",
    "        tem.extend(record[i:i+5])\n",
    "        tem=tuple(tem)\n",
    "        candidate_selected.append(tem)\n",
    "        candidate_selected.append(' ')\n",
    "        tem=[]\n",
    "       \n",
    "\n",
    "\n",
    "if(candidate_selected):\n",
    "    print('Selected Candidates are:')\n",
    "    for candidate in candidate_selected:\n",
    "        print(candidate)  \n",
    "else:\n",
    "    print('No one full filled the Conditions')\n",
    "\n",
    "\n",
    "\n",
    "\n"
   ]
  },
  {
   "cell_type": "code",
   "execution_count": 57,
   "metadata": {},
   "outputs": [
    {
     "data": {
      "text/plain": [
       "[('Raqeeb', 'B.Tech', 'python', '2022'), ' ', (), ' ']"
      ]
     },
     "execution_count": 57,
     "metadata": {},
     "output_type": "execute_result"
    }
   ],
   "source": [
    "candidate_selected"
   ]
  },
  {
   "cell_type": "code",
   "execution_count": 56,
   "metadata": {},
   "outputs": [
    {
     "data": {
      "text/plain": [
       "['Raqeeb', 'B.Tech', 'python', '2022', 'khan', 'B.Tech', 'python', '2022']"
      ]
     },
     "execution_count": 56,
     "metadata": {},
     "output_type": "execute_result"
    }
   ],
   "source": [
    "record"
   ]
  },
  {
   "cell_type": "code",
   "execution_count": 13,
   "metadata": {},
   "outputs": [
    {
     "name": "stdout",
     "output_type": "stream",
     "text": [
      "{80, 20}\n"
     ]
    }
   ],
   "source": [
    "#Set practice:\n",
    "ar1 = [1, 5, 10, 20, 40, 80]\n",
    "ar2 = [6, 7, 20, 80, 100]\n",
    "ar3 = [3, 4, 15, 20, 30, 70, 80, 120]\n",
    "\n",
    "ar1=set(ar1)\n",
    "ar2=set(ar2)\n",
    "ar3=set(ar3)\n",
    "\n",
    "\n",
    "print(ar1& ar2& ar3)\n",
    "\n"
   ]
  },
  {
   "cell_type": "code",
   "execution_count": 2,
   "metadata": {},
   "outputs": [
    {
     "name": "stdout",
     "output_type": "stream",
     "text": [
      "number of vowel in the given string are 6\n"
     ]
    }
   ],
   "source": [
    "Str1 = \"hands-on data science mentorship progrAm with live classes at affordable fee only on CampusX\"\n",
    "vowels=['a','e','i','o','u','A','E','I','O','U']\n",
    "Str1=set(Str1)\n",
    "vowels=set(vowels)\n",
    "\n",
    "count=0\n",
    "for i in vowels:\n",
    "    for j in Str1:\n",
    "        if(j==i):\n",
    "            count+=1\n",
    "\n",
    "print('number of vowel in the given string are', count)\n",
    "\n"
   ]
  },
  {
   "cell_type": "code",
   "execution_count": 3,
   "metadata": {},
   "outputs": [],
   "source": [
    "#Checking unique binary string \n",
    "str=input('Enter only two binary combination of string:')\n",
    "\n",
    "\n",
    "\n"
   ]
  },
  {
   "cell_type": "code",
   "execution_count": 14,
   "metadata": {},
   "outputs": [
    {
     "name": "stdout",
     "output_type": "stream",
     "text": [
      "[1, 2, 3, 4, 5, 6, 7, 9]\n"
     ]
    }
   ],
   "source": [
    "l1=[[1, 2, 2, 4, 3, 6],\n",
    " [5, 1, 3, 4],\n",
    " [9, 5, 7, 1],\n",
    " [2, 4, 1, 3]]\n",
    "\n",
    "\n",
    "for i in range(0,len(l1)):\n",
    "        l1[i]=set(l1[i])\n",
    "\n",
    "l2=[]\n",
    "for i in range(0,len(l1)-1):\n",
    "        l1[i+1]= l1[i]| l1[i+1]\n",
    "        l2=l1[i+1]\n",
    "\n",
    "l2=list(l2)\n",
    "print(l2)\n",
    "\n",
    "\n",
    "\n",
    "\n",
    "\n",
    "\n",
    " \n",
    "\n"
   ]
  },
  {
   "cell_type": "code",
   "execution_count": 23,
   "metadata": {},
   "outputs": [
    {
     "data": {
      "text/plain": [
       "[9, 11, 26, 28]"
      ]
     },
     "execution_count": 23,
     "metadata": {},
     "output_type": "execute_result"
    }
   ],
   "source": [
    "lst1 = {15, 9, 10, 56, 23, 78, 5, 4, 9}\n",
    "lst2 = {9, 4, 5, 36, 47, 26, 10, 45, 87}\n",
    "\n",
    "lst1 = {4, 9, 1, 17, 11, 26, 28, 54, 69}\n",
    "lst2 = {9, 9, 74, 21, 45, 11, 63, 28, 26}\n",
    "list(lst1& lst2)\n",
    "l1=[]\n",
    "l1.append(lst1 & lst2)\n",
    "l1=[ i for i in lst1 for j in lst2 if i==j ]\n",
    "l1"
   ]
  },
  {
   "cell_type": "code",
   "execution_count": 57,
   "metadata": {},
   "outputs": [
    {
     "name": "stdout",
     "output_type": "stream",
     "text": [
      "CampusX\n"
     ]
    }
   ],
   "source": [
    "test_dict = {\"CampusX\" : [5, 7, 7, 8, 5], \"is\" : [6, 7, 7, 7], \"Best\" : [9, 9, 6, 5, 5]}\n",
    "l1=[]\n",
    "key=''\n",
    "for i in test_dict:\n",
    "    for j in test_dict[i]:\n",
    "        l1.append(j)\n",
    "    l1=set(l1)\n",
    "    \n",
    "    if(len(l1)==len(test_dict[i])):\n",
    "        key=i\n",
    "        break\n",
    "    elif(len(l1)== len(test_dict[i])-1):\n",
    "        key=i\n",
    "        break\n",
    "    elif(len(l1)== len(test_dict[i])-2):\n",
    "        key=i\n",
    "        break\n",
    "    l1=[]\n",
    "\n",
    "print(key)"
   ]
  },
  {
   "cell_type": "code",
   "execution_count": 79,
   "metadata": {},
   "outputs": [
    {
     "name": "stdout",
     "output_type": "stream",
     "text": [
      "CampusX best for DS students.\n",
      "['CampusX', 'best', 'for', 'DS']\n"
     ]
    }
   ],
   "source": [
    "test_str = 'CampusX best for DS students.'\n",
    "repl_dict = {\"best\" : \"is the best channel\", \"DS\" : \"Data-Science\"}\n",
    "\n",
    "\n",
    "l2=[]\n",
    "new_str=''\n",
    "for i in test_str:\n",
    "    if(i!=' ' ):\n",
    "        new_str+=i\n",
    "    elif(i==' ' or i=='.'):\n",
    "        l2.append(new_str)\n",
    "        new_str=''\n",
    "\n",
    "print(l2)\n",
    "    \n",
    "\n"
   ]
  },
  {
   "cell_type": "code",
   "execution_count": 102,
   "metadata": {},
   "outputs": [
    {
     "name": "stdout",
     "output_type": "stream",
     "text": [
      "['CampusX', 'best', 'for', 'DS', 'students.']\n",
      "CampusX is the best channel for Data-Science students.\n"
     ]
    }
   ],
   "source": [
    "test_str = 'CampusX best for DS students.'\n",
    "repl_dict = {\"best\" : \"is the best channel\", \"DS\" : \"Data-Science\"}\n",
    "l2=test_str.split()\n",
    "print(l2)\n",
    "\n",
    "\n",
    "\n",
    "for i in repl_dict:\n",
    "    for j in range(0,len(l2)):\n",
    "        if(i==l2[j]):\n",
    "            test_str=test_str.replace(l2[j],repl_dict[i])\n",
    "\n",
    "print(test_str)\n",
    "            "
   ]
  },
  {
   "cell_type": "code",
   "execution_count": 103,
   "metadata": {},
   "outputs": [],
   "source": [
    "#for problem 3"
   ]
  },
  {
   "cell_type": "code",
   "execution_count": 104,
   "metadata": {},
   "outputs": [],
   "source": [
    "#for problem 4"
   ]
  },
  {
   "cell_type": "code",
   "execution_count": 105,
   "metadata": {},
   "outputs": [],
   "source": [
    "#for Problem 5"
   ]
  },
  {
   "cell_type": "code",
   "execution_count": 111,
   "metadata": {},
   "outputs": [
    {
     "data": {
      "text/plain": [
       "81"
      ]
     },
     "execution_count": 111,
     "metadata": {},
     "output_type": "execute_result"
    }
   ],
   "source": [
    "#29/july/2024  session 6\n",
    "#Function \n",
    "\n",
    "#keyword function\n",
    "\n",
    "def power(a=2,b=3):\n",
    "\n",
    "    return a**b\n",
    "\n",
    "a=4\n",
    "b=3\n",
    "power(b=4,a=2)\n",
    "\n",
    "power(b,a)\n",
    "\n",
    "\n"
   ]
  },
  {
   "cell_type": "code",
   "execution_count": 114,
   "metadata": {},
   "outputs": [
    {
     "name": "stdout",
     "output_type": "stream",
     "text": [
      "Prints the values to a stream, or to sys.stdout by default.\n",
      "\n",
      "  sep\n",
      "    string inserted between values, default a space.\n",
      "  end\n",
      "    string appended after the last value, default a newline.\n",
      "  file\n",
      "    a file-like object (stream); defaults to the current sys.stdout.\n",
      "  flush\n",
      "    whether to forcibly flush the stream.\n"
     ]
    },
    {
     "data": {
      "text/plain": [
       "120"
      ]
     },
     "execution_count": 114,
     "metadata": {},
     "output_type": "execute_result"
    }
   ],
   "source": [
    "# *args\n",
    "#This is a function which takes variable numbers of arguments for the function\n",
    "#Process behind: When * is present in the parameter then it create a tuple and add the all variables \n",
    "# * name) you can use any name in place of args\n",
    "\n",
    "# to see the documentation of any function we use\n",
    "\n",
    "print(print.__doc__)\n",
    "\n",
    "def multiplier(*vari):\n",
    "\n",
    "    product=1\n",
    "\n",
    "    for i in vari:\n",
    "        product*=i\n",
    "\n",
    "    return product\n",
    "\n",
    "multiplier(1,2,3,4,5)\n"
   ]
  },
  {
   "cell_type": "code",
   "execution_count": 121,
   "metadata": {},
   "outputs": [
    {
     "name": "stdout",
     "output_type": "stream",
     "text": [
      "Name ... Raees\n",
      "Roll_number ... 23p-0685\n"
     ]
    }
   ],
   "source": [
    "# **kwargs is used when you pass key value pair. It create a dictionary for them\n",
    "d1={'12':32,32:12}\n",
    "d1.items()\n",
    "\n",
    "\n",
    "def adding(**kwargs):\n",
    "    for (key,value) in kwargs.items():\n",
    "        print(key,'...',value)\n",
    "\n",
    "\n",
    "adding(Name='Raees',Roll_number='23p-0685')\n"
   ]
  },
  {
   "cell_type": "code",
   "execution_count": 122,
   "metadata": {},
   "outputs": [],
   "source": [
    "#Notic:\n",
    "#Order of parameters metter if their are normal, args and kwargs then this sequence should be followed\n",
    "#Normmal parameters, args and kwargs"
   ]
  },
  {
   "cell_type": "code",
   "execution_count": 123,
   "metadata": {},
   "outputs": [
    {
     "name": "stdout",
     "output_type": "stream",
     "text": [
      "None\n"
     ]
    }
   ],
   "source": [
    "#If their in no return statement in the python functions\n",
    "#THen it by default return a value 'none'\n",
    "#Their are alot of build in function which does not return the value\n",
    "#like .append in the list\n",
    "l1=[1,2,3]\n",
    "print(l1.append(2))"
   ]
  },
  {
   "cell_type": "code",
   "execution_count": null,
   "metadata": {},
   "outputs": [],
   "source": []
  }
 ],
 "metadata": {
  "kernelspec": {
   "display_name": ".venv",
   "language": "python",
   "name": "python3"
  },
  "language_info": {
   "codemirror_mode": {
    "name": "ipython",
    "version": 3
   },
   "file_extension": ".py",
   "mimetype": "text/x-python",
   "name": "python",
   "nbconvert_exporter": "python",
   "pygments_lexer": "ipython3",
   "version": "3.12.5"
  }
 },
 "nbformat": 4,
 "nbformat_minor": 2
}
