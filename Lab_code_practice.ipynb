{
 "cells": [
  {
   "cell_type": "code",
   "execution_count": 2,
   "metadata": {},
   "outputs": [
    {
     "name": "stdout",
     "output_type": "stream",
     "text": [
      "2024-09-03\n"
     ]
    }
   ],
   "source": [
    "from datetime import date\n",
    "\n",
    "print(date.today())"
   ]
  },
  {
   "cell_type": "code",
   "execution_count": 10,
   "metadata": {},
   "outputs": [
    {
     "name": "stdout",
     "output_type": "stream",
     "text": [
      "Number of unexpired items 3\n",
      "Following are the items which are not expired:\n",
      "[('Bread', datetime.date(2024, 10, 15)), ('Yogurt', datetime.date(2024, 9, 8)), ('Cheese', datetime.date(2024, 10, 10))]\n"
     ]
    }
   ],
   "source": [
    "from datetime import date\n",
    "\n",
    "def condition_function(my_zip):\n",
    "    current_date=date.today()\n",
    "    print(my_zip[0][1])\n",
    "    for i in range(0,len(my_zip)-1):\n",
    "        if(my_zip[i][1]>current_date):\n",
    "            return my_zip[i]\n",
    "    \n",
    "\n",
    "\n",
    "def Extractor_Expired_Items(list1, list2):\n",
    "\n",
    "    my_zip=list(zip(list1,list2))\n",
    "    \n",
    "    new_list=[]\n",
    "    current_date=date.today()\n",
    "    filtered_items=list((filter(lambda x:x[1]>current_date,my_zip)))\n",
    "    print(f\"Number of unexpired items {len(filtered_items)}\")\n",
    "    print(\"Following are the items which are not expired:\")\n",
    "    print(list(filtered_items))\n",
    "    \n",
    "\n",
    "\n",
    "items = [\"Milk\", \"Bread\", \"Eggs\", \"Yogurt\", \"Cheese\"]\n",
    "\n",
    "expiration_dates= [date(2023, 9, 30), date(2024, 10, 15), date(2023, 9 ,25), date(2024, 9, 8), date(2024, 10, 10)]\n",
    "current_date=date.today()\n",
    "Extractor_Expired_Items(items,expiration_dates)"
   ]
  },
  {
   "cell_type": "code",
   "execution_count": 12,
   "metadata": {},
   "outputs": [
    {
     "name": "stdout",
     "output_type": "stream",
     "text": [
      "**************WELCOME TO JUNGEL MAI MANGAL***************\n",
      "You are out in a journey to complete the mission of your father to explore the LOST CITY OF CREATURES\n",
      "You collect the Map found in the beg of your father\n",
      "You started your journey. You crossed a river and entered a forest.\n",
      "You walk through the forest for sometime and then end up with multiple paths:\n",
      "1)Move to right path\n",
      "2)Move to left path\n",
      "3)Take the straight\n",
      "User_iput=\n"
     ]
    },
    {
     "name": "stdout",
     "output_type": "stream",
     "text": [
      "You move to right side of Path.\n",
      "After moving for a while then you say a shinning stone attached to the wall\n",
      "Want to add it to your inventory?(1/0):\n",
      "*******ITEM ADDED TO INVENTORY SUCCESSFULLY*******\n"
     ]
    },
    {
     "ename": "TypeError",
     "evalue": "'getset_descriptor' object is not callable",
     "output_type": "error",
     "traceback": [
      "\u001b[1;31m---------------------------------------------------------------------------\u001b[0m",
      "\u001b[1;31mTypeError\u001b[0m                                 Traceback (most recent call last)",
      "Cell \u001b[1;32mIn[12], line 101\u001b[0m\n\u001b[0;32m     98\u001b[0m \u001b[38;5;66;03m#Main \u001b[39;00m\n\u001b[0;32m    100\u001b[0m Inventory_list\u001b[38;5;241m=\u001b[39m[]\n\u001b[1;32m--> 101\u001b[0m \u001b[43mMain_function\u001b[49m\u001b[43m(\u001b[49m\u001b[43mInventory_list\u001b[49m\u001b[43m)\u001b[49m\n",
      "Cell \u001b[1;32mIn[12], line 26\u001b[0m, in \u001b[0;36mMain_function\u001b[1;34m(Inventory_list)\u001b[0m\n\u001b[0;32m     24\u001b[0m     Inventory_list\u001b[38;5;241m.\u001b[39mappend(\u001b[38;5;124m'\u001b[39m\u001b[38;5;124mGamstone\u001b[39m\u001b[38;5;124m'\u001b[39m)\n\u001b[0;32m     25\u001b[0m     \u001b[38;5;28mprint\u001b[39m(\u001b[38;5;124m'\u001b[39m\u001b[38;5;124m*******ITEM ADDED TO INVENTORY SUCCESSFULLY*******\u001b[39m\u001b[38;5;124m'\u001b[39m)\n\u001b[1;32m---> 26\u001b[0m     \u001b[43mtime\u001b[49m\u001b[38;5;241;43m.\u001b[39;49m\u001b[43msecond\u001b[49m\u001b[43m(\u001b[49m\u001b[38;5;241;43m2\u001b[39;49m\u001b[43m)\u001b[49m\n\u001b[0;32m     27\u001b[0m \u001b[38;5;28;01melif\u001b[39;00m(userinput\u001b[38;5;241m==\u001b[39m\u001b[38;5;241m0\u001b[39m):\n\u001b[0;32m     28\u001b[0m     \u001b[38;5;28;01mpass\u001b[39;00m\n",
      "\u001b[1;31mTypeError\u001b[0m: 'getset_descriptor' object is not callable"
     ]
    }
   ],
   "source": [
    "from datetime import date\n",
    "from datetime import time\n",
    "\n",
    "def Main_function(Inventory_list):\n",
    "\n",
    "    \n",
    "    print('**************WELCOME TO JUNGEL MAI MANGAL***************')\n",
    "    print('You are out in a journey to complete the mission of your father to explore the LOST CITY OF CREATURES')\n",
    "    print('You collect the Map found in the beg of your father')\n",
    "    \n",
    "    Inventory_list.append('map')\n",
    "\n",
    "    print(\"You started your journey. You crossed a river and entered a forest.\")\n",
    "    print(\"You walk through the forest for sometime and then end up with multiple paths:\")\n",
    "    userinput=0\n",
    "    userinput=Movement_1()\n",
    "    if(userinput==1):\n",
    "        print(\"You move to right side of Path.\")\n",
    "       \n",
    "        print(\"After moving for a while then you say a shinning stone attached to the wall\")\n",
    "        print(\"Want to add it to your inventory?(1/0):\")\n",
    "        userinput=int(input())\n",
    "        if(userinput==1):\n",
    "            Inventory_list.append('Gamstone')\n",
    "            print('*******ITEM ADDED TO INVENTORY SUCCESSFULLY*******')\n",
    "            time.second(2)\n",
    "        elif(userinput==0):\n",
    "            pass\n",
    "        print(\"Then you pass through the Garden full of flowers.\")\n",
    "        time.second(2)\n",
    "        print(\"From a far distance you saw something written on the big wall\")\n",
    "        print(\"Want to see what it is from close?(1/0):\")\n",
    "        userinput=int(input())\n",
    "        if(userinput==1):\n",
    "            print(\"You Start to walk towards the wal.......\")\n",
    "            time.second(1)\n",
    "            print(\"Walk.....\")\n",
    "            print(\"You saw their was written something like this LLIKOUY.\\nI may be helpfull in the path\\n so you write it down. \")\n",
    "            Inventory_list.append(\"LLIKOUY\")\n",
    "            print(\"********CODE WORD ADDED TO INVENTORY************\")\n",
    "\n",
    "        elif(userinput==0):\n",
    "            pass\n",
    "\n",
    "        print(\"You continued your journey from the garden and reached at bottom of a huge Mountain in the forest\")\n",
    "        print(\"When you reached near the mountain end you realized their is a face on the bottom of the mountain like a gate\")\n",
    "        print(\"When you tried to touch it .\")\n",
    "        time.second(3)\n",
    "        print(\"GATE_FACE: HEY WHAT ARE YOU DOING?\")\n",
    "        print(\"AHhhhhhhhhhhhhh\")\n",
    "        print(\"GATE_FACE: If you want to stay alive give me the keyword\")\n",
    "        for i in Inventory_list:\n",
    "            if(i==\"LLIKOUY\"):\n",
    "                print(\"you have two choices:\\n1)Think\\n2)RUn\")\n",
    "                userinput=int(input('User input:'))\n",
    "                if(userinput==1):\n",
    "                    print(\"You start thinking !!!!!\")\n",
    "                    time.second(3)\n",
    "                    print(\"Then you suddenly remember about that word on the wall\")\n",
    "                    print(\"Player code is {i}\")\n",
    "                    print(\"Your code is correct you can pass:\")\n",
    "\n",
    "                    \n",
    "\n",
    "                elif(userinput==0):\n",
    "                    print(\"\\nYou tried to run but the Gate mouth took a great breath and eat you as a lunch\")\n",
    "                    print(\"\\nYOU DEAD AND YOUR FATHERS JOURNEY ENDS HERE>........\")\n",
    "                    return False\n",
    "                \n",
    "        \n",
    "        print(\"1 to run\")\n",
    "        userinput=int(input())\n",
    "        if(userinput==1):\n",
    "            print(\"\\nYou tried to run but the Gate mouth took a great breath and eat you as a lunch\")\n",
    "            print(\"\\nYOU DEAD AND YOUR FATHERS JOURNEY ENDS HERE>........\")\n",
    "            return False\n",
    "\n",
    "\n",
    "\n",
    "        \n",
    "\n",
    "    \n",
    "    \n",
    "def Movement_1():\n",
    "\n",
    "    print(\"1)Move to right path\")\n",
    "    print(\"2)Move to left path\")\n",
    "    print(\"3)Take the straight\")\n",
    "    print(\"User_iput=\")\n",
    "    User_input=int(input())\n",
    "    return User_input\n",
    "    pass\n",
    "\n",
    "def Inventory(items_list):\n",
    "    Inventory_list=items_list\n",
    "    pass\n",
    "\n",
    "#Main \n",
    "\n",
    "Inventory_list=[]\n",
    "Main_function(Inventory_list)"
   ]
  },
  {
   "cell_type": "code",
   "execution_count": null,
   "metadata": {},
   "outputs": [],
   "source": []
  }
 ],
 "metadata": {
  "kernelspec": {
   "display_name": "Python 3",
   "language": "python",
   "name": "python3"
  },
  "language_info": {
   "codemirror_mode": {
    "name": "ipython",
    "version": 3
   },
   "file_extension": ".py",
   "mimetype": "text/x-python",
   "name": "python",
   "nbconvert_exporter": "python",
   "pygments_lexer": "ipython3",
   "version": "3.12.5"
  }
 },
 "nbformat": 4,
 "nbformat_minor": 2
}
